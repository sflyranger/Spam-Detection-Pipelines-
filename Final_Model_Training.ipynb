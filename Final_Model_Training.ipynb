{
  "nbformat": 4,
  "nbformat_minor": 0,
  "metadata": {
    "colab": {
      "provenance": [],
      "authorship_tag": "ABX9TyN531CpskvfZEdKS89jWP5Z"
    },
    "kernelspec": {
      "name": "python3",
      "display_name": "Python 3"
    },
    "language_info": {
      "name": "python"
    }
  },
  "cells": [
    {
      "cell_type": "markdown",
      "source": [
        "# **<font color='Pickle'>Final Model Training</font>**\n",
        "\n",
        "In this notebook, I’m going to:\n",
        "\n",
        "- Train the combination pipeline from the initial model on **<font color='Pickle'>40%</font>** of the full dataset.\n",
        "- Fine-tune the hyperparameters using **<font color='Pickle'>combo pipeline features</font>** on a **<font color='Pickle'>20% validation sample</font>** to lock in the best model.\n",
        "- Plot learning curves to keep track of the model's performance as the tuning process unfolds.\n",
        "- Finally, test and evaluate the model on unseen data, with the **<font color='Pickle'>F1-Score</font>** as the key metric to ensure we're catching spam emails effectively.\n",
        "\n",
        "The end goal here is to build a solid **<font color='Pickle'>spam detection</font>** model that can handle the imbalanced dataset well. I’m optimizing for precision and recall, especially for the minority class (spam), using **<font color='Pickle'>XGBoost</font>** since it’s known to work well with these types of datasets.\n",
        "\n",
        "\n"
      ],
      "metadata": {
        "id": "n0az_xBPxTnT"
      }
    },
    {
      "cell_type": "code",
      "execution_count": 1,
      "metadata": {
        "colab": {
          "base_uri": "https://localhost:8080/"
        },
        "id": "mJiYRbOhxJIF",
        "outputId": "d3dec832-b7e6-4f69-d876-b558ec2a3a31"
      },
      "outputs": [
        {
          "output_type": "stream",
          "name": "stderr",
          "text": [
            "[nltk_data] Downloading package stopwords to /root/nltk_data...\n",
            "[nltk_data]   Package stopwords is already up-to-date!\n"
          ]
        }
      ],
      "source": [
        "# Import necessary libraries\n",
        "import pandas as pd\n",
        "from pathlib import Path\n",
        "import sys\n",
        "import spacy\n",
        "import numpy as np\n",
        "import matplotlib.pyplot as plt\n",
        "import seaborn as sns\n",
        "\n",
        "# Import the joblib library for saving and loading models\n",
        "import joblib\n",
        "\n",
        "# Import scikit-learn classes for building models\n",
        "from sklearn.feature_extraction.text import TfidfVectorizer\n",
        "from sklearn.model_selection import RandomizedSearchCV\n",
        "from sklearn.model_selection import RepeatedStratifiedKFold\n",
        "from sklearn.metrics import classification_report\n",
        "from sklearn.pipeline import Pipeline\n",
        "from sklearn.base import TransformerMixin, BaseEstimator\n",
        "from sklearn.model_selection import train_test_split\n",
        "from sklearn.compose import ColumnTransformer\n",
        "from sklearn.preprocessing import LabelEncoder\n",
        "from sklearn.model_selection import learning_curve\n",
        "from sklearn.metrics import confusion_matrix\n",
        "from sklearn.metrics import roc_curve, auc\n",
        "\n",
        "\n",
        "\n",
        "# XGB classifier import\n",
        "from xgboost import XGBClassifier\n",
        "\n",
        "\n",
        "# Import required stopwords\n",
        "import nltk\n",
        "from nltk.corpus import stopwords as nltk_stopwords  # Stopwords corpus\n",
        "nltk.download('stopwords')  # Download the stopwords corpus\n",
        "\n",
        "# Import the scipy library for working with sparse matrices\n",
        "from scipy.sparse import csr_matrix\n",
        "# importing counter for class distributions\n",
        "from collections import Counter"
      ]
    },
    {
      "cell_type": "code",
      "source": [
        "%load_ext autoreload\n",
        "%autoreload 2"
      ],
      "metadata": {
        "id": "lx669AA0yy3A"
      },
      "execution_count": 2,
      "outputs": []
    },
    {
      "cell_type": "code",
      "source": [
        "if 'google.colab' in str(get_ipython()):  # If the code is running in Colab\n",
        "    # mount google drive\n",
        "    from google.colab import drive\n",
        "    drive.mount('/content/drive')\n",
        "\n",
        "\n",
        "    !pip install -U nltk -qq # -U ensures the most updated version\n",
        "    !pip install -U spacy -qq # -qq limits the output commands to only the most important messages\n",
        "    !python -m spacy download en_core_web_sm -qq # Small model from spacy\n",
        "    !pip install -U pyspellchecker -qq\n",
        "    # set the base path to a Google Drive folder\n",
        "    base_path = '/content/drive/MyDrive/Colab Notebooks'\n",
        "\n",
        "    sys.path.append('/content/drive/MyDrive/Colab Notebooks/custom-functions')# enabling custom function usage"
      ],
      "metadata": {
        "colab": {
          "base_uri": "https://localhost:8080/"
        },
        "id": "2uZ5t46TzUGw",
        "outputId": "c4fc32b9-02ad-4a1d-a10e-fb303e6df5ac"
      },
      "execution_count": 3,
      "outputs": [
        {
          "output_type": "stream",
          "name": "stdout",
          "text": [
            "Drive already mounted at /content/drive; to attempt to forcibly remount, call drive.mount(\"/content/drive\", force_remount=True).\n",
            "\u001b[2K     \u001b[90m━━━━━━━━━━━━━━━━━━━━━━━━━━━━━━━━━━━━━━━━\u001b[0m \u001b[32m12.8/12.8 MB\u001b[0m \u001b[31m69.7 MB/s\u001b[0m eta \u001b[36m0:00:00\u001b[0m\n",
            "\u001b[?25h\u001b[38;5;2m✔ Download and installation successful\u001b[0m\n",
            "You can now load the package via spacy.load('en_core_web_sm')\n",
            "\u001b[38;5;3m⚠ Restart to reload dependencies\u001b[0m\n",
            "If you are in a Jupyter or Colab notebook, you may need to restart Python in\n",
            "order to load all the package's dependencies. You can do this by selecting the\n",
            "'Restart kernel' or 'Restart runtime' option.\n"
          ]
        }
      ]
    },
    {
      "cell_type": "code",
      "source": [
        "# Double check path\n",
        "sys.path"
      ],
      "metadata": {
        "colab": {
          "base_uri": "https://localhost:8080/"
        },
        "id": "RPgZ9wLizaEp",
        "outputId": "7a8da7fe-5a5e-4b78-9d54-2a445281c040"
      },
      "execution_count": 4,
      "outputs": [
        {
          "output_type": "execute_result",
          "data": {
            "text/plain": [
              "['/content',\n",
              " '/env/python',\n",
              " '/usr/lib/python310.zip',\n",
              " '/usr/lib/python3.10',\n",
              " '/usr/lib/python3.10/lib-dynload',\n",
              " '',\n",
              " '/usr/local/lib/python3.10/dist-packages',\n",
              " '/usr/lib/python3/dist-packages',\n",
              " '/usr/local/lib/python3.10/dist-packages/IPython/extensions',\n",
              " '/usr/local/lib/python3.10/dist-packages/setuptools/_vendor',\n",
              " '/root/.ipython',\n",
              " '/content/drive/MyDrive/Colab Notebooks/custom-functions']"
            ]
          },
          "metadata": {},
          "execution_count": 4
        }
      ]
    },
    {
      "cell_type": "code",
      "source": [
        "# Appending the data set path\n",
        "base_folder = Path(base_path)\n",
        "data_folder = base_folder/'datasets/spam_ds'\n",
        "model_folder = base_folder/'models/nlp_fall_2024/spam'"
      ],
      "metadata": {
        "id": "Pnz3zt7Czr8T"
      },
      "execution_count": 5,
      "outputs": []
    },
    {
      "cell_type": "code",
      "source": [
        "# Making the directory for my models in google drive.\n",
        "model_folder.mkdir(parents=True, exist_ok=True)"
      ],
      "metadata": {
        "id": "vNu1Rp030Aoo"
      },
      "execution_count": 6,
      "outputs": []
    },
    {
      "cell_type": "code",
      "source": [
        "# location of the spam data set\n",
        "spam_file = data_folder/'spam.csv'\n",
        "\n",
        "# Creating the dataframe object for the Spam data set\n",
        "spam_df = pd.read_csv(spam_file, encoding='ISO-8859-1')"
      ],
      "metadata": {
        "id": "hGRDdr-Y0DDv"
      },
      "execution_count": 7,
      "outputs": []
    },
    {
      "cell_type": "code",
      "source": [
        "spam_df.head()"
      ],
      "metadata": {
        "colab": {
          "base_uri": "https://localhost:8080/",
          "height": 206
        },
        "id": "CxLH9V6w13my",
        "outputId": "5cf3f492-8c05-4260-c38f-5b920ca698e2"
      },
      "execution_count": null,
      "outputs": [
        {
          "output_type": "execute_result",
          "data": {
            "text/plain": [
              "     v1                                                 v2 Unnamed: 2  \\\n",
              "0   ham  Go until jurong point, crazy.. Available only ...        NaN   \n",
              "1   ham                      Ok lar... Joking wif u oni...        NaN   \n",
              "2  spam  Free entry in 2 a wkly comp to win FA Cup fina...        NaN   \n",
              "3   ham  U dun say so early hor... U c already then say...        NaN   \n",
              "4   ham  Nah I don't think he goes to usf, he lives aro...        NaN   \n",
              "\n",
              "  Unnamed: 3 Unnamed: 4  \n",
              "0        NaN        NaN  \n",
              "1        NaN        NaN  \n",
              "2        NaN        NaN  \n",
              "3        NaN        NaN  \n",
              "4        NaN        NaN  "
            ],
            "text/html": [
              "\n",
              "  <div id=\"df-4a4a79d6-e3e4-4cf4-84c7-e949b7fa8fff\" class=\"colab-df-container\">\n",
              "    <div>\n",
              "<style scoped>\n",
              "    .dataframe tbody tr th:only-of-type {\n",
              "        vertical-align: middle;\n",
              "    }\n",
              "\n",
              "    .dataframe tbody tr th {\n",
              "        vertical-align: top;\n",
              "    }\n",
              "\n",
              "    .dataframe thead th {\n",
              "        text-align: right;\n",
              "    }\n",
              "</style>\n",
              "<table border=\"1\" class=\"dataframe\">\n",
              "  <thead>\n",
              "    <tr style=\"text-align: right;\">\n",
              "      <th></th>\n",
              "      <th>v1</th>\n",
              "      <th>v2</th>\n",
              "      <th>Unnamed: 2</th>\n",
              "      <th>Unnamed: 3</th>\n",
              "      <th>Unnamed: 4</th>\n",
              "    </tr>\n",
              "  </thead>\n",
              "  <tbody>\n",
              "    <tr>\n",
              "      <th>0</th>\n",
              "      <td>ham</td>\n",
              "      <td>Go until jurong point, crazy.. Available only ...</td>\n",
              "      <td>NaN</td>\n",
              "      <td>NaN</td>\n",
              "      <td>NaN</td>\n",
              "    </tr>\n",
              "    <tr>\n",
              "      <th>1</th>\n",
              "      <td>ham</td>\n",
              "      <td>Ok lar... Joking wif u oni...</td>\n",
              "      <td>NaN</td>\n",
              "      <td>NaN</td>\n",
              "      <td>NaN</td>\n",
              "    </tr>\n",
              "    <tr>\n",
              "      <th>2</th>\n",
              "      <td>spam</td>\n",
              "      <td>Free entry in 2 a wkly comp to win FA Cup fina...</td>\n",
              "      <td>NaN</td>\n",
              "      <td>NaN</td>\n",
              "      <td>NaN</td>\n",
              "    </tr>\n",
              "    <tr>\n",
              "      <th>3</th>\n",
              "      <td>ham</td>\n",
              "      <td>U dun say so early hor... U c already then say...</td>\n",
              "      <td>NaN</td>\n",
              "      <td>NaN</td>\n",
              "      <td>NaN</td>\n",
              "    </tr>\n",
              "    <tr>\n",
              "      <th>4</th>\n",
              "      <td>ham</td>\n",
              "      <td>Nah I don't think he goes to usf, he lives aro...</td>\n",
              "      <td>NaN</td>\n",
              "      <td>NaN</td>\n",
              "      <td>NaN</td>\n",
              "    </tr>\n",
              "  </tbody>\n",
              "</table>\n",
              "</div>\n",
              "    <div class=\"colab-df-buttons\">\n",
              "\n",
              "  <div class=\"colab-df-container\">\n",
              "    <button class=\"colab-df-convert\" onclick=\"convertToInteractive('df-4a4a79d6-e3e4-4cf4-84c7-e949b7fa8fff')\"\n",
              "            title=\"Convert this dataframe to an interactive table.\"\n",
              "            style=\"display:none;\">\n",
              "\n",
              "  <svg xmlns=\"http://www.w3.org/2000/svg\" height=\"24px\" viewBox=\"0 -960 960 960\">\n",
              "    <path d=\"M120-120v-720h720v720H120Zm60-500h600v-160H180v160Zm220 220h160v-160H400v160Zm0 220h160v-160H400v160ZM180-400h160v-160H180v160Zm440 0h160v-160H620v160ZM180-180h160v-160H180v160Zm440 0h160v-160H620v160Z\"/>\n",
              "  </svg>\n",
              "    </button>\n",
              "\n",
              "  <style>\n",
              "    .colab-df-container {\n",
              "      display:flex;\n",
              "      gap: 12px;\n",
              "    }\n",
              "\n",
              "    .colab-df-convert {\n",
              "      background-color: #E8F0FE;\n",
              "      border: none;\n",
              "      border-radius: 50%;\n",
              "      cursor: pointer;\n",
              "      display: none;\n",
              "      fill: #1967D2;\n",
              "      height: 32px;\n",
              "      padding: 0 0 0 0;\n",
              "      width: 32px;\n",
              "    }\n",
              "\n",
              "    .colab-df-convert:hover {\n",
              "      background-color: #E2EBFA;\n",
              "      box-shadow: 0px 1px 2px rgba(60, 64, 67, 0.3), 0px 1px 3px 1px rgba(60, 64, 67, 0.15);\n",
              "      fill: #174EA6;\n",
              "    }\n",
              "\n",
              "    .colab-df-buttons div {\n",
              "      margin-bottom: 4px;\n",
              "    }\n",
              "\n",
              "    [theme=dark] .colab-df-convert {\n",
              "      background-color: #3B4455;\n",
              "      fill: #D2E3FC;\n",
              "    }\n",
              "\n",
              "    [theme=dark] .colab-df-convert:hover {\n",
              "      background-color: #434B5C;\n",
              "      box-shadow: 0px 1px 3px 1px rgba(0, 0, 0, 0.15);\n",
              "      filter: drop-shadow(0px 1px 2px rgba(0, 0, 0, 0.3));\n",
              "      fill: #FFFFFF;\n",
              "    }\n",
              "  </style>\n",
              "\n",
              "    <script>\n",
              "      const buttonEl =\n",
              "        document.querySelector('#df-4a4a79d6-e3e4-4cf4-84c7-e949b7fa8fff button.colab-df-convert');\n",
              "      buttonEl.style.display =\n",
              "        google.colab.kernel.accessAllowed ? 'block' : 'none';\n",
              "\n",
              "      async function convertToInteractive(key) {\n",
              "        const element = document.querySelector('#df-4a4a79d6-e3e4-4cf4-84c7-e949b7fa8fff');\n",
              "        const dataTable =\n",
              "          await google.colab.kernel.invokeFunction('convertToInteractive',\n",
              "                                                    [key], {});\n",
              "        if (!dataTable) return;\n",
              "\n",
              "        const docLinkHtml = 'Like what you see? Visit the ' +\n",
              "          '<a target=\"_blank\" href=https://colab.research.google.com/notebooks/data_table.ipynb>data table notebook</a>'\n",
              "          + ' to learn more about interactive tables.';\n",
              "        element.innerHTML = '';\n",
              "        dataTable['output_type'] = 'display_data';\n",
              "        await google.colab.output.renderOutput(dataTable, element);\n",
              "        const docLink = document.createElement('div');\n",
              "        docLink.innerHTML = docLinkHtml;\n",
              "        element.appendChild(docLink);\n",
              "      }\n",
              "    </script>\n",
              "  </div>\n",
              "\n",
              "\n",
              "<div id=\"df-bb99d929-49ac-4ebb-886f-b89b8780b649\">\n",
              "  <button class=\"colab-df-quickchart\" onclick=\"quickchart('df-bb99d929-49ac-4ebb-886f-b89b8780b649')\"\n",
              "            title=\"Suggest charts\"\n",
              "            style=\"display:none;\">\n",
              "\n",
              "<svg xmlns=\"http://www.w3.org/2000/svg\" height=\"24px\"viewBox=\"0 0 24 24\"\n",
              "     width=\"24px\">\n",
              "    <g>\n",
              "        <path d=\"M19 3H5c-1.1 0-2 .9-2 2v14c0 1.1.9 2 2 2h14c1.1 0 2-.9 2-2V5c0-1.1-.9-2-2-2zM9 17H7v-7h2v7zm4 0h-2V7h2v10zm4 0h-2v-4h2v4z\"/>\n",
              "    </g>\n",
              "</svg>\n",
              "  </button>\n",
              "\n",
              "<style>\n",
              "  .colab-df-quickchart {\n",
              "      --bg-color: #E8F0FE;\n",
              "      --fill-color: #1967D2;\n",
              "      --hover-bg-color: #E2EBFA;\n",
              "      --hover-fill-color: #174EA6;\n",
              "      --disabled-fill-color: #AAA;\n",
              "      --disabled-bg-color: #DDD;\n",
              "  }\n",
              "\n",
              "  [theme=dark] .colab-df-quickchart {\n",
              "      --bg-color: #3B4455;\n",
              "      --fill-color: #D2E3FC;\n",
              "      --hover-bg-color: #434B5C;\n",
              "      --hover-fill-color: #FFFFFF;\n",
              "      --disabled-bg-color: #3B4455;\n",
              "      --disabled-fill-color: #666;\n",
              "  }\n",
              "\n",
              "  .colab-df-quickchart {\n",
              "    background-color: var(--bg-color);\n",
              "    border: none;\n",
              "    border-radius: 50%;\n",
              "    cursor: pointer;\n",
              "    display: none;\n",
              "    fill: var(--fill-color);\n",
              "    height: 32px;\n",
              "    padding: 0;\n",
              "    width: 32px;\n",
              "  }\n",
              "\n",
              "  .colab-df-quickchart:hover {\n",
              "    background-color: var(--hover-bg-color);\n",
              "    box-shadow: 0 1px 2px rgba(60, 64, 67, 0.3), 0 1px 3px 1px rgba(60, 64, 67, 0.15);\n",
              "    fill: var(--button-hover-fill-color);\n",
              "  }\n",
              "\n",
              "  .colab-df-quickchart-complete:disabled,\n",
              "  .colab-df-quickchart-complete:disabled:hover {\n",
              "    background-color: var(--disabled-bg-color);\n",
              "    fill: var(--disabled-fill-color);\n",
              "    box-shadow: none;\n",
              "  }\n",
              "\n",
              "  .colab-df-spinner {\n",
              "    border: 2px solid var(--fill-color);\n",
              "    border-color: transparent;\n",
              "    border-bottom-color: var(--fill-color);\n",
              "    animation:\n",
              "      spin 1s steps(1) infinite;\n",
              "  }\n",
              "\n",
              "  @keyframes spin {\n",
              "    0% {\n",
              "      border-color: transparent;\n",
              "      border-bottom-color: var(--fill-color);\n",
              "      border-left-color: var(--fill-color);\n",
              "    }\n",
              "    20% {\n",
              "      border-color: transparent;\n",
              "      border-left-color: var(--fill-color);\n",
              "      border-top-color: var(--fill-color);\n",
              "    }\n",
              "    30% {\n",
              "      border-color: transparent;\n",
              "      border-left-color: var(--fill-color);\n",
              "      border-top-color: var(--fill-color);\n",
              "      border-right-color: var(--fill-color);\n",
              "    }\n",
              "    40% {\n",
              "      border-color: transparent;\n",
              "      border-right-color: var(--fill-color);\n",
              "      border-top-color: var(--fill-color);\n",
              "    }\n",
              "    60% {\n",
              "      border-color: transparent;\n",
              "      border-right-color: var(--fill-color);\n",
              "    }\n",
              "    80% {\n",
              "      border-color: transparent;\n",
              "      border-right-color: var(--fill-color);\n",
              "      border-bottom-color: var(--fill-color);\n",
              "    }\n",
              "    90% {\n",
              "      border-color: transparent;\n",
              "      border-bottom-color: var(--fill-color);\n",
              "    }\n",
              "  }\n",
              "</style>\n",
              "\n",
              "  <script>\n",
              "    async function quickchart(key) {\n",
              "      const quickchartButtonEl =\n",
              "        document.querySelector('#' + key + ' button');\n",
              "      quickchartButtonEl.disabled = true;  // To prevent multiple clicks.\n",
              "      quickchartButtonEl.classList.add('colab-df-spinner');\n",
              "      try {\n",
              "        const charts = await google.colab.kernel.invokeFunction(\n",
              "            'suggestCharts', [key], {});\n",
              "      } catch (error) {\n",
              "        console.error('Error during call to suggestCharts:', error);\n",
              "      }\n",
              "      quickchartButtonEl.classList.remove('colab-df-spinner');\n",
              "      quickchartButtonEl.classList.add('colab-df-quickchart-complete');\n",
              "    }\n",
              "    (() => {\n",
              "      let quickchartButtonEl =\n",
              "        document.querySelector('#df-bb99d929-49ac-4ebb-886f-b89b8780b649 button');\n",
              "      quickchartButtonEl.style.display =\n",
              "        google.colab.kernel.accessAllowed ? 'block' : 'none';\n",
              "    })();\n",
              "  </script>\n",
              "</div>\n",
              "\n",
              "    </div>\n",
              "  </div>\n"
            ],
            "application/vnd.google.colaboratory.intrinsic+json": {
              "type": "dataframe",
              "variable_name": "spam_df",
              "summary": "{\n  \"name\": \"spam_df\",\n  \"rows\": 5572,\n  \"fields\": [\n    {\n      \"column\": \"v1\",\n      \"properties\": {\n        \"dtype\": \"category\",\n        \"num_unique_values\": 2,\n        \"samples\": [\n          \"spam\",\n          \"ham\"\n        ],\n        \"semantic_type\": \"\",\n        \"description\": \"\"\n      }\n    },\n    {\n      \"column\": \"v2\",\n      \"properties\": {\n        \"dtype\": \"string\",\n        \"num_unique_values\": 5169,\n        \"samples\": [\n          \"Did u download the fring app?\",\n          \"Pass dis to all ur contacts n see wat u get! Red;i'm in luv wid u. Blue;u put a smile on my face. Purple;u r realy hot. Pink;u r so swt. Orange;i thnk i lyk u. Green;i realy wana go out wid u. Yelow;i wnt u bck. Black;i'm jealous of u. Brown;i miss you Nw plz giv me one color\"\n        ],\n        \"semantic_type\": \"\",\n        \"description\": \"\"\n      }\n    },\n    {\n      \"column\": \"Unnamed: 2\",\n      \"properties\": {\n        \"dtype\": \"category\",\n        \"num_unique_values\": 43,\n        \"samples\": [\n          \" GOD said\",\n          \" SHE SHUDVETOLD U. DID URGRAN KNOW?NEWAY\"\n        ],\n        \"semantic_type\": \"\",\n        \"description\": \"\"\n      }\n    },\n    {\n      \"column\": \"Unnamed: 3\",\n      \"properties\": {\n        \"dtype\": \"category\",\n        \"num_unique_values\": 10,\n        \"samples\": [\n          \" \\\\\\\"OH No! COMPETITION\\\\\\\". Who knew\",\n          \" why to miss them\"\n        ],\n        \"semantic_type\": \"\",\n        \"description\": \"\"\n      }\n    },\n    {\n      \"column\": \"Unnamed: 4\",\n      \"properties\": {\n        \"dtype\": \"category\",\n        \"num_unique_values\": 5,\n        \"samples\": [\n          \"GNT:-)\\\"\",\n          \" one day these two will become FREINDS FOREVER!\\\"\"\n        ],\n        \"semantic_type\": \"\",\n        \"description\": \"\"\n      }\n    }\n  ]\n}"
            }
          },
          "metadata": {},
          "execution_count": 8
        }
      ]
    },
    {
      "cell_type": "code",
      "source": [
        "# Setting up label encoder for future use\n",
        "label_encoder = LabelEncoder()"
      ],
      "metadata": {
        "id": "Dha62JLE17Tb"
      },
      "execution_count": 8,
      "outputs": []
    },
    {
      "cell_type": "code",
      "source": [
        "# Renaming\n",
        "spam_df= spam_df.rename(columns = {'v1': 'label','v2': 'message'})\n",
        "\n",
        "# Deleting\n",
        "spam_df = spam_df.drop(columns = {'Unnamed: 2','Unnamed: 3','Unnamed: 4'})\n",
        "\n",
        "# Resetting index\n",
        "spam_df = spam_df.reset_index(drop = True)\n",
        "\n",
        "# New df\n",
        "spam_df.head()"
      ],
      "metadata": {
        "colab": {
          "base_uri": "https://localhost:8080/",
          "height": 206
        },
        "id": "qJeD1Ouy2DEA",
        "outputId": "bc22aedf-9669-404c-a5a6-84ea2fcdd0de"
      },
      "execution_count": 9,
      "outputs": [
        {
          "output_type": "execute_result",
          "data": {
            "text/plain": [
              "  label                                            message\n",
              "0   ham  Go until jurong point, crazy.. Available only ...\n",
              "1   ham                      Ok lar... Joking wif u oni...\n",
              "2  spam  Free entry in 2 a wkly comp to win FA Cup fina...\n",
              "3   ham  U dun say so early hor... U c already then say...\n",
              "4   ham  Nah I don't think he goes to usf, he lives aro..."
            ],
            "text/html": [
              "\n",
              "  <div id=\"df-6342e6c7-1bad-4fd8-a155-969730cf95cd\" class=\"colab-df-container\">\n",
              "    <div>\n",
              "<style scoped>\n",
              "    .dataframe tbody tr th:only-of-type {\n",
              "        vertical-align: middle;\n",
              "    }\n",
              "\n",
              "    .dataframe tbody tr th {\n",
              "        vertical-align: top;\n",
              "    }\n",
              "\n",
              "    .dataframe thead th {\n",
              "        text-align: right;\n",
              "    }\n",
              "</style>\n",
              "<table border=\"1\" class=\"dataframe\">\n",
              "  <thead>\n",
              "    <tr style=\"text-align: right;\">\n",
              "      <th></th>\n",
              "      <th>label</th>\n",
              "      <th>message</th>\n",
              "    </tr>\n",
              "  </thead>\n",
              "  <tbody>\n",
              "    <tr>\n",
              "      <th>0</th>\n",
              "      <td>ham</td>\n",
              "      <td>Go until jurong point, crazy.. Available only ...</td>\n",
              "    </tr>\n",
              "    <tr>\n",
              "      <th>1</th>\n",
              "      <td>ham</td>\n",
              "      <td>Ok lar... Joking wif u oni...</td>\n",
              "    </tr>\n",
              "    <tr>\n",
              "      <th>2</th>\n",
              "      <td>spam</td>\n",
              "      <td>Free entry in 2 a wkly comp to win FA Cup fina...</td>\n",
              "    </tr>\n",
              "    <tr>\n",
              "      <th>3</th>\n",
              "      <td>ham</td>\n",
              "      <td>U dun say so early hor... U c already then say...</td>\n",
              "    </tr>\n",
              "    <tr>\n",
              "      <th>4</th>\n",
              "      <td>ham</td>\n",
              "      <td>Nah I don't think he goes to usf, he lives aro...</td>\n",
              "    </tr>\n",
              "  </tbody>\n",
              "</table>\n",
              "</div>\n",
              "    <div class=\"colab-df-buttons\">\n",
              "\n",
              "  <div class=\"colab-df-container\">\n",
              "    <button class=\"colab-df-convert\" onclick=\"convertToInteractive('df-6342e6c7-1bad-4fd8-a155-969730cf95cd')\"\n",
              "            title=\"Convert this dataframe to an interactive table.\"\n",
              "            style=\"display:none;\">\n",
              "\n",
              "  <svg xmlns=\"http://www.w3.org/2000/svg\" height=\"24px\" viewBox=\"0 -960 960 960\">\n",
              "    <path d=\"M120-120v-720h720v720H120Zm60-500h600v-160H180v160Zm220 220h160v-160H400v160Zm0 220h160v-160H400v160ZM180-400h160v-160H180v160Zm440 0h160v-160H620v160ZM180-180h160v-160H180v160Zm440 0h160v-160H620v160Z\"/>\n",
              "  </svg>\n",
              "    </button>\n",
              "\n",
              "  <style>\n",
              "    .colab-df-container {\n",
              "      display:flex;\n",
              "      gap: 12px;\n",
              "    }\n",
              "\n",
              "    .colab-df-convert {\n",
              "      background-color: #E8F0FE;\n",
              "      border: none;\n",
              "      border-radius: 50%;\n",
              "      cursor: pointer;\n",
              "      display: none;\n",
              "      fill: #1967D2;\n",
              "      height: 32px;\n",
              "      padding: 0 0 0 0;\n",
              "      width: 32px;\n",
              "    }\n",
              "\n",
              "    .colab-df-convert:hover {\n",
              "      background-color: #E2EBFA;\n",
              "      box-shadow: 0px 1px 2px rgba(60, 64, 67, 0.3), 0px 1px 3px 1px rgba(60, 64, 67, 0.15);\n",
              "      fill: #174EA6;\n",
              "    }\n",
              "\n",
              "    .colab-df-buttons div {\n",
              "      margin-bottom: 4px;\n",
              "    }\n",
              "\n",
              "    [theme=dark] .colab-df-convert {\n",
              "      background-color: #3B4455;\n",
              "      fill: #D2E3FC;\n",
              "    }\n",
              "\n",
              "    [theme=dark] .colab-df-convert:hover {\n",
              "      background-color: #434B5C;\n",
              "      box-shadow: 0px 1px 3px 1px rgba(0, 0, 0, 0.15);\n",
              "      filter: drop-shadow(0px 1px 2px rgba(0, 0, 0, 0.3));\n",
              "      fill: #FFFFFF;\n",
              "    }\n",
              "  </style>\n",
              "\n",
              "    <script>\n",
              "      const buttonEl =\n",
              "        document.querySelector('#df-6342e6c7-1bad-4fd8-a155-969730cf95cd button.colab-df-convert');\n",
              "      buttonEl.style.display =\n",
              "        google.colab.kernel.accessAllowed ? 'block' : 'none';\n",
              "\n",
              "      async function convertToInteractive(key) {\n",
              "        const element = document.querySelector('#df-6342e6c7-1bad-4fd8-a155-969730cf95cd');\n",
              "        const dataTable =\n",
              "          await google.colab.kernel.invokeFunction('convertToInteractive',\n",
              "                                                    [key], {});\n",
              "        if (!dataTable) return;\n",
              "\n",
              "        const docLinkHtml = 'Like what you see? Visit the ' +\n",
              "          '<a target=\"_blank\" href=https://colab.research.google.com/notebooks/data_table.ipynb>data table notebook</a>'\n",
              "          + ' to learn more about interactive tables.';\n",
              "        element.innerHTML = '';\n",
              "        dataTable['output_type'] = 'display_data';\n",
              "        await google.colab.output.renderOutput(dataTable, element);\n",
              "        const docLink = document.createElement('div');\n",
              "        docLink.innerHTML = docLinkHtml;\n",
              "        element.appendChild(docLink);\n",
              "      }\n",
              "    </script>\n",
              "  </div>\n",
              "\n",
              "\n",
              "<div id=\"df-ba1c8b1d-1802-4427-b90d-517be6592749\">\n",
              "  <button class=\"colab-df-quickchart\" onclick=\"quickchart('df-ba1c8b1d-1802-4427-b90d-517be6592749')\"\n",
              "            title=\"Suggest charts\"\n",
              "            style=\"display:none;\">\n",
              "\n",
              "<svg xmlns=\"http://www.w3.org/2000/svg\" height=\"24px\"viewBox=\"0 0 24 24\"\n",
              "     width=\"24px\">\n",
              "    <g>\n",
              "        <path d=\"M19 3H5c-1.1 0-2 .9-2 2v14c0 1.1.9 2 2 2h14c1.1 0 2-.9 2-2V5c0-1.1-.9-2-2-2zM9 17H7v-7h2v7zm4 0h-2V7h2v10zm4 0h-2v-4h2v4z\"/>\n",
              "    </g>\n",
              "</svg>\n",
              "  </button>\n",
              "\n",
              "<style>\n",
              "  .colab-df-quickchart {\n",
              "      --bg-color: #E8F0FE;\n",
              "      --fill-color: #1967D2;\n",
              "      --hover-bg-color: #E2EBFA;\n",
              "      --hover-fill-color: #174EA6;\n",
              "      --disabled-fill-color: #AAA;\n",
              "      --disabled-bg-color: #DDD;\n",
              "  }\n",
              "\n",
              "  [theme=dark] .colab-df-quickchart {\n",
              "      --bg-color: #3B4455;\n",
              "      --fill-color: #D2E3FC;\n",
              "      --hover-bg-color: #434B5C;\n",
              "      --hover-fill-color: #FFFFFF;\n",
              "      --disabled-bg-color: #3B4455;\n",
              "      --disabled-fill-color: #666;\n",
              "  }\n",
              "\n",
              "  .colab-df-quickchart {\n",
              "    background-color: var(--bg-color);\n",
              "    border: none;\n",
              "    border-radius: 50%;\n",
              "    cursor: pointer;\n",
              "    display: none;\n",
              "    fill: var(--fill-color);\n",
              "    height: 32px;\n",
              "    padding: 0;\n",
              "    width: 32px;\n",
              "  }\n",
              "\n",
              "  .colab-df-quickchart:hover {\n",
              "    background-color: var(--hover-bg-color);\n",
              "    box-shadow: 0 1px 2px rgba(60, 64, 67, 0.3), 0 1px 3px 1px rgba(60, 64, 67, 0.15);\n",
              "    fill: var(--button-hover-fill-color);\n",
              "  }\n",
              "\n",
              "  .colab-df-quickchart-complete:disabled,\n",
              "  .colab-df-quickchart-complete:disabled:hover {\n",
              "    background-color: var(--disabled-bg-color);\n",
              "    fill: var(--disabled-fill-color);\n",
              "    box-shadow: none;\n",
              "  }\n",
              "\n",
              "  .colab-df-spinner {\n",
              "    border: 2px solid var(--fill-color);\n",
              "    border-color: transparent;\n",
              "    border-bottom-color: var(--fill-color);\n",
              "    animation:\n",
              "      spin 1s steps(1) infinite;\n",
              "  }\n",
              "\n",
              "  @keyframes spin {\n",
              "    0% {\n",
              "      border-color: transparent;\n",
              "      border-bottom-color: var(--fill-color);\n",
              "      border-left-color: var(--fill-color);\n",
              "    }\n",
              "    20% {\n",
              "      border-color: transparent;\n",
              "      border-left-color: var(--fill-color);\n",
              "      border-top-color: var(--fill-color);\n",
              "    }\n",
              "    30% {\n",
              "      border-color: transparent;\n",
              "      border-left-color: var(--fill-color);\n",
              "      border-top-color: var(--fill-color);\n",
              "      border-right-color: var(--fill-color);\n",
              "    }\n",
              "    40% {\n",
              "      border-color: transparent;\n",
              "      border-right-color: var(--fill-color);\n",
              "      border-top-color: var(--fill-color);\n",
              "    }\n",
              "    60% {\n",
              "      border-color: transparent;\n",
              "      border-right-color: var(--fill-color);\n",
              "    }\n",
              "    80% {\n",
              "      border-color: transparent;\n",
              "      border-right-color: var(--fill-color);\n",
              "      border-bottom-color: var(--fill-color);\n",
              "    }\n",
              "    90% {\n",
              "      border-color: transparent;\n",
              "      border-bottom-color: var(--fill-color);\n",
              "    }\n",
              "  }\n",
              "</style>\n",
              "\n",
              "  <script>\n",
              "    async function quickchart(key) {\n",
              "      const quickchartButtonEl =\n",
              "        document.querySelector('#' + key + ' button');\n",
              "      quickchartButtonEl.disabled = true;  // To prevent multiple clicks.\n",
              "      quickchartButtonEl.classList.add('colab-df-spinner');\n",
              "      try {\n",
              "        const charts = await google.colab.kernel.invokeFunction(\n",
              "            'suggestCharts', [key], {});\n",
              "      } catch (error) {\n",
              "        console.error('Error during call to suggestCharts:', error);\n",
              "      }\n",
              "      quickchartButtonEl.classList.remove('colab-df-spinner');\n",
              "      quickchartButtonEl.classList.add('colab-df-quickchart-complete');\n",
              "    }\n",
              "    (() => {\n",
              "      let quickchartButtonEl =\n",
              "        document.querySelector('#df-ba1c8b1d-1802-4427-b90d-517be6592749 button');\n",
              "      quickchartButtonEl.style.display =\n",
              "        google.colab.kernel.accessAllowed ? 'block' : 'none';\n",
              "    })();\n",
              "  </script>\n",
              "</div>\n",
              "\n",
              "    </div>\n",
              "  </div>\n"
            ],
            "application/vnd.google.colaboratory.intrinsic+json": {
              "type": "dataframe",
              "variable_name": "spam_df",
              "summary": "{\n  \"name\": \"spam_df\",\n  \"rows\": 5572,\n  \"fields\": [\n    {\n      \"column\": \"label\",\n      \"properties\": {\n        \"dtype\": \"category\",\n        \"num_unique_values\": 2,\n        \"samples\": [\n          \"spam\",\n          \"ham\"\n        ],\n        \"semantic_type\": \"\",\n        \"description\": \"\"\n      }\n    },\n    {\n      \"column\": \"message\",\n      \"properties\": {\n        \"dtype\": \"string\",\n        \"num_unique_values\": 5169,\n        \"samples\": [\n          \"Did u download the fring app?\",\n          \"Pass dis to all ur contacts n see wat u get! Red;i'm in luv wid u. Blue;u put a smile on my face. Purple;u r realy hot. Pink;u r so swt. Orange;i thnk i lyk u. Green;i realy wana go out wid u. Yelow;i wnt u bck. Black;i'm jealous of u. Brown;i miss you Nw plz giv me one color\"\n        ],\n        \"semantic_type\": \"\",\n        \"description\": \"\"\n      }\n    }\n  ]\n}"
            }
          },
          "metadata": {},
          "execution_count": 9
        }
      ]
    },
    {
      "cell_type": "code",
      "source": [
        "print('Spam Data Shape:', spam_df.shape)"
      ],
      "metadata": {
        "colab": {
          "base_uri": "https://localhost:8080/"
        },
        "id": "8DTtnl_r2E5l",
        "outputId": "f4bdf227-1724-4670-d778-3b0591d548f7"
      },
      "execution_count": 10,
      "outputs": [
        {
          "output_type": "stream",
          "name": "stdout",
          "text": [
            "Spam Data Shape: (5572, 2)\n"
          ]
        }
      ]
    },
    {
      "cell_type": "code",
      "source": [
        "# Finding percentages of ham and spam\n",
        "spam_df['label'].value_counts(normalize = True) # Normalize shows the proportion."
      ],
      "metadata": {
        "colab": {
          "base_uri": "https://localhost:8080/",
          "height": 178
        },
        "id": "_DuglT_p2H_r",
        "outputId": "2fe45183-5c52-4a5b-9e63-72eda6a8fce6"
      },
      "execution_count": 11,
      "outputs": [
        {
          "output_type": "execute_result",
          "data": {
            "text/plain": [
              "label\n",
              "ham     0.865937\n",
              "spam    0.134063\n",
              "Name: proportion, dtype: float64"
            ],
            "text/html": [
              "<div>\n",
              "<style scoped>\n",
              "    .dataframe tbody tr th:only-of-type {\n",
              "        vertical-align: middle;\n",
              "    }\n",
              "\n",
              "    .dataframe tbody tr th {\n",
              "        vertical-align: top;\n",
              "    }\n",
              "\n",
              "    .dataframe thead th {\n",
              "        text-align: right;\n",
              "    }\n",
              "</style>\n",
              "<table border=\"1\" class=\"dataframe\">\n",
              "  <thead>\n",
              "    <tr style=\"text-align: right;\">\n",
              "      <th></th>\n",
              "      <th>proportion</th>\n",
              "    </tr>\n",
              "    <tr>\n",
              "      <th>label</th>\n",
              "      <th></th>\n",
              "    </tr>\n",
              "  </thead>\n",
              "  <tbody>\n",
              "    <tr>\n",
              "      <th>ham</th>\n",
              "      <td>0.865937</td>\n",
              "    </tr>\n",
              "    <tr>\n",
              "      <th>spam</th>\n",
              "      <td>0.134063</td>\n",
              "    </tr>\n",
              "  </tbody>\n",
              "</table>\n",
              "</div><br><label><b>dtype:</b> float64</label>"
            ]
          },
          "metadata": {},
          "execution_count": 11
        }
      ]
    },
    {
      "cell_type": "code",
      "source": [
        "# Pulling out the random 40% of the full data set for trai\n",
        "\n",
        "train_df, test_df = train_test_split(spam_df, train_size = 0.4,test_size = 0.2, random_state = 42)"
      ],
      "metadata": {
        "id": "QfiNal5p2KKj"
      },
      "execution_count": 12,
      "outputs": []
    },
    {
      "cell_type": "code",
      "source": [
        "print('Training Class distribution:', train_df['label'].value_counts())\n",
        "print('-'*30)\n",
        "print('Testing Class distribution:', test_df['label'].value_counts())"
      ],
      "metadata": {
        "colab": {
          "base_uri": "https://localhost:8080/"
        },
        "id": "Zz_p9qTq3TBF",
        "outputId": "af8ea3c0-a46e-4541-922e-c5932450f948"
      },
      "execution_count": 13,
      "outputs": [
        {
          "output_type": "stream",
          "name": "stdout",
          "text": [
            "Training Class distribution: label\n",
            "ham     1932\n",
            "spam     296\n",
            "Name: count, dtype: int64\n",
            "------------------------------\n",
            "Testing Class distribution: label\n",
            "ham     965\n",
            "spam    150\n",
            "Name: count, dtype: int64\n"
          ]
        }
      ]
    },
    {
      "cell_type": "markdown",
      "source": [
        "<font color = 'Pickle'>**We can see within even a larger sample of the data there is still a consistent class imbalance in the data. This is why our standard metric must be the F1-Score.**"
      ],
      "metadata": {
        "id": "h2ja2Q9y35Jc"
      }
    },
    {
      "cell_type": "code",
      "source": [
        "# Seperating out the X and y variables for test and train and encoding\n",
        "X_train = train_df['message'].values\n",
        "X_test = test_df['message'].values\n",
        "\n",
        "\n",
        "y_train = label_encoder.fit_transform(train_df['label'].values)\n",
        "y_test = label_encoder.transform(test_df['label'].values)\n",
        "\n",
        "# Checking distributions of counters\n",
        "\n",
        "train_distribution = Counter(y_train)\n",
        "test_distribution = Counter(y_test)\n",
        "\n",
        "print('Training Set Distribution:',train_distribution)\n",
        "\n",
        "print(\"-\"*30)\n",
        "\n",
        "print('Testing Distribution:', test_distribution)\n",
        "\n"
      ],
      "metadata": {
        "colab": {
          "base_uri": "https://localhost:8080/"
        },
        "id": "tDElcLEk30bd",
        "outputId": "141b2517-50aa-4ce9-c418-035fda0ee291"
      },
      "execution_count": 14,
      "outputs": [
        {
          "output_type": "stream",
          "name": "stdout",
          "text": [
            "Training Set Distribution: Counter({0: 1932, 1: 296})\n",
            "------------------------------\n",
            "Testing Distribution: Counter({0: 965, 1: 150})\n"
          ]
        }
      ]
    },
    {
      "cell_type": "code",
      "source": [
        "import CustomPreprocessorSpacy as cp"
      ],
      "metadata": {
        "id": "k3msbEWj5P3E"
      },
      "execution_count": 15,
      "outputs": []
    },
    {
      "cell_type": "markdown",
      "source": [
        "###<font color='Pickle'>**Preprocessing**"
      ],
      "metadata": {
        "id": "LsY-1-_98OSw"
      }
    },
    {
      "cell_type": "code",
      "source": [
        "# Cleaning the documents for tfidf features\n",
        "\n",
        "X_train_cleaned = cp.SpacyPreprocessor(model = 'en_core_web_sm', batch_size = 1000).transform(X_train)\n",
        "X_test_cleaned = cp.SpacyPreprocessor(model = 'en_core_web_sm',batch_size = 1000).transform(X_test)"
      ],
      "metadata": {
        "id": "1wK9_Wtne5hS"
      },
      "execution_count": null,
      "outputs": []
    },
    {
      "cell_type": "code",
      "source": [
        "file_X_train_final = data_folder/'X_train_final.pkl'\n",
        "file_X_test_final = data_folder/'X_test_final.pkl'"
      ],
      "metadata": {
        "id": "CyTESdZIe8-F"
      },
      "execution_count": 16,
      "outputs": []
    },
    {
      "cell_type": "code",
      "source": [
        "joblib.dump(X_train_cleaned, file_X_train_final)\n",
        "joblib.dump(X_test_cleaned, file_X_test_final)\n"
      ],
      "metadata": {
        "colab": {
          "base_uri": "https://localhost:8080/"
        },
        "id": "f4e9c0AS73sq",
        "outputId": "b74e3a21-0e6d-4c7d-af0e-37820ec68d69"
      },
      "execution_count": null,
      "outputs": [
        {
          "output_type": "stream",
          "name": "stderr",
          "text": [
            "/content/drive/MyDrive/Colab Notebooks/custom-functions/CustomPreprocessorSpacy.py:83: MarkupResemblesLocatorWarning: The input looks more like a filename than markup. You may want to open this file and pass the filehandle into Beautiful Soup.\n",
            "  soup = BeautifulSoup(text, \"html.parser\")\n"
          ]
        },
        {
          "output_type": "execute_result",
          "data": {
            "text/plain": [
              "['/content/drive/MyDrive/Colab Notebooks/datasets/spam_ds/X_test_final.pkl']"
            ]
          },
          "metadata": {},
          "execution_count": 19
        }
      ]
    },
    {
      "cell_type": "code",
      "source": [
        "# Creating manual features\n",
        "\n",
        "X_train_manual = cp.SpacyPreprocessor(model = 'en_core_web_sm', lemmatize =False,\n",
        "                                          lower = False, remove_stop = False,\n",
        "                                          remove_punct = False,remove_email = False,\n",
        "                                          remove_url = False, add_user_mention_prefix = False,\n",
        "                                          basic_clean_only = True).transform(X_train)"
      ],
      "metadata": {
        "id": "isjyM7OugGUN"
      },
      "execution_count": null,
      "outputs": []
    },
    {
      "cell_type": "code",
      "source": [
        "file_X_train_manual = data_folder/'X_train_manual.pkl'"
      ],
      "metadata": {
        "id": "DNNOjBJ7gJRA"
      },
      "execution_count": 20,
      "outputs": []
    },
    {
      "cell_type": "code",
      "source": [
        "joblib.dump(X_train_manual,file_X_train_manual)"
      ],
      "metadata": {
        "colab": {
          "base_uri": "https://localhost:8080/"
        },
        "id": "gWRftu-I_SdT",
        "outputId": "71aa7491-48d5-4049-b651-af4d0261df7b"
      },
      "execution_count": null,
      "outputs": [
        {
          "output_type": "stream",
          "name": "stderr",
          "text": [
            "/content/drive/MyDrive/Colab Notebooks/custom-functions/CustomPreprocessorSpacy.py:83: MarkupResemblesLocatorWarning: The input looks more like a filename than markup. You may want to open this file and pass the filehandle into Beautiful Soup.\n",
            "  soup = BeautifulSoup(text, \"html.parser\")\n"
          ]
        },
        {
          "output_type": "execute_result",
          "data": {
            "text/plain": [
              "['/content/drive/MyDrive/Colab Notebooks/datasets/spam_ds/X_train_manual.pkl']"
            ]
          },
          "metadata": {},
          "execution_count": 20
        }
      ]
    },
    {
      "cell_type": "code",
      "source": [
        "from FeaturizerSpacy import ExtendedManualFeatures"
      ],
      "metadata": {
        "id": "OYZIX-lqCXUX"
      },
      "execution_count": 21,
      "outputs": []
    },
    {
      "cell_type": "code",
      "source": [
        "featurizer = ExtendedManualFeatures(spacy_model = 'en_core_web_sm',batch_size = 1000)"
      ],
      "metadata": {
        "id": "CC7tkajtCOrK"
      },
      "execution_count": 22,
      "outputs": []
    },
    {
      "cell_type": "markdown",
      "source": [
        "###<font color = 'Pickle'>**Reloading and fitting the featurizer on train**"
      ],
      "metadata": {
        "id": "OY4HE1tODH5v"
      }
    },
    {
      "cell_type": "code",
      "source": [
        "X_train_manual = joblib.load(file_X_train_manual)\n",
        "X_train_manual_features,feature_names = featurizer.fit_transform(X_train_manual)\n",
        "\n",
        "feature_names"
      ],
      "metadata": {
        "colab": {
          "base_uri": "https://localhost:8080/"
        },
        "id": "XX8DNg8CC_9i",
        "outputId": "549d390a-c098-4cbd-933b-dea693517adc"
      },
      "execution_count": 23,
      "outputs": [
        {
          "output_type": "execute_result",
          "data": {
            "text/plain": [
              "['count_words',\n",
              " 'count_characters',\n",
              " 'count_characters_no_space',\n",
              " 'avg_word_length',\n",
              " 'count_numbers',\n",
              " 'count_sentences',\n",
              " 'noun_count',\n",
              " 'aux_count',\n",
              " 'verb_count',\n",
              " 'adj_count',\n",
              " 'ner',\n",
              " 'misspelled_count']"
            ]
          },
          "metadata": {},
          "execution_count": 23
        }
      ]
    },
    {
      "cell_type": "code",
      "source": [
        "X_train_manual_features[:10]"
      ],
      "metadata": {
        "colab": {
          "base_uri": "https://localhost:8080/"
        },
        "id": "wxHpkY1cE0wT",
        "outputId": "dbdf0b3f-5a11-45aa-ee4b-ebb448733777"
      },
      "execution_count": 24,
      "outputs": [
        {
          "output_type": "execute_result",
          "data": {
            "text/plain": [
              "array([[ 21.        ,  83.        ,  65.        ,   2.95454545,\n",
              "          0.        ,   4.        ,   3.        ,   2.        ,\n",
              "          1.        ,   2.        ,   1.        ,   5.        ],\n",
              "       [ 23.        , 137.        , 116.        ,   4.83333333,\n",
              "          1.        ,   1.        ,  14.        ,   1.        ,\n",
              "          1.        ,   0.        ,   4.        ,   9.        ],\n",
              "       [  9.        ,  46.        ,  38.        ,   3.8       ,\n",
              "          0.        ,   1.        ,   2.        ,   1.        ,\n",
              "          2.        ,   1.        ,   1.        ,   2.        ],\n",
              "       [ 10.        ,  40.        ,  32.        ,   2.90909091,\n",
              "          0.        ,   1.        ,   2.        ,   0.        ,\n",
              "          1.        ,   0.        ,   0.        ,   3.        ],\n",
              "       [ 22.        , 148.        , 128.        ,   5.56521739,\n",
              "          5.        ,   3.        ,   8.        ,   0.        ,\n",
              "          4.        ,   3.        ,   8.        ,   8.        ],\n",
              "       [  9.        ,  48.        ,  41.        ,   4.1       ,\n",
              "          0.        ,   1.        ,   2.        ,   0.        ,\n",
              "          4.        ,   0.        ,   0.        ,   2.        ],\n",
              "       [  6.        ,  33.        ,  28.        ,   4.        ,\n",
              "          2.        ,   1.        ,   2.        ,   0.        ,\n",
              "          1.        ,   0.        ,   3.        ,   1.        ],\n",
              "       [ 13.        ,  64.        ,  52.        ,   3.71428571,\n",
              "          0.        ,   1.        ,   4.        ,   1.        ,\n",
              "          1.        ,   0.        ,   1.        ,   4.        ],\n",
              "       [  7.        ,  32.        ,  26.        ,   3.25      ,\n",
              "          0.        ,   1.        ,   1.        ,   0.        ,\n",
              "          1.        ,   0.        ,   0.        ,   0.        ],\n",
              "       [  8.        ,  46.        ,  39.        ,   4.33333333,\n",
              "          0.        ,   1.        ,   4.        ,   1.        ,\n",
              "          1.        ,   1.        ,   1.        ,   4.        ]])"
            ]
          },
          "metadata": {},
          "execution_count": 24
        }
      ]
    },
    {
      "cell_type": "code",
      "source": [
        "file_X_train_manual_features = data_folder/'X_train_manual_features.pkl'\n",
        "file_feature_names_manual = data_folder/'feature_names_manual_final.pkl'"
      ],
      "metadata": {
        "id": "0B_2w8XGgW71"
      },
      "execution_count": 28,
      "outputs": []
    },
    {
      "cell_type": "code",
      "source": [
        "joblib.dump(X_train_manual_features,file_X_train_manual_features)\n",
        "joblib.dump(feature_names,file_feature_names_manual)"
      ],
      "metadata": {
        "colab": {
          "base_uri": "https://localhost:8080/"
        },
        "id": "apAK7Zkhguvc",
        "outputId": "407ad50c-22c9-4562-c2bf-50b229001cc9"
      },
      "execution_count": 29,
      "outputs": [
        {
          "output_type": "execute_result",
          "data": {
            "text/plain": [
              "['/content/drive/MyDrive/Colab Notebooks/datasets/spam_ds/feature_names_manual_final.pkl']"
            ]
          },
          "metadata": {},
          "execution_count": 29
        }
      ]
    },
    {
      "cell_type": "markdown",
      "source": [
        "###<font color = \"Pickle\">**Concatenating the training datasets.**\n"
      ],
      "metadata": {
        "id": "gM-RVqrmDsa-"
      }
    },
    {
      "cell_type": "code",
      "source": [
        "# Reload the cleaned train for TFIDF\n",
        "X_train_cleaned = joblib.load(file_X_train_final)\n",
        "X_train_manual_features = joblib.load(file_X_train_manual_features)\n",
        "feature_names = joblib.load(file_feature_names_manual)"
      ],
      "metadata": {
        "id": "9yPyoB1CDhvz"
      },
      "execution_count": 30,
      "outputs": []
    },
    {
      "cell_type": "code",
      "source": [
        "# Creating a combo cleaned dataset with the cleaned text and the manual features\n",
        "\n",
        "X_train_combo = pd.concat((pd.DataFrame(X_train_cleaned,columns = ['cleaned_text']),\n",
        "                           pd.DataFrame(X_train_manual_features, columns = feature_names)), axis = 1)\n",
        "\n",
        "X_train_combo.head()"
      ],
      "metadata": {
        "colab": {
          "base_uri": "https://localhost:8080/",
          "height": 452
        },
        "id": "DGBlbH9NEHIE",
        "outputId": "31f6999a-0d4f-4543-fc4e-ba68c9889f88"
      },
      "execution_count": 31,
      "outputs": [
        {
          "output_type": "execute_result",
          "data": {
            "text/plain": [
              "                                        cleaned_text  count_words  \\\n",
              "0                       boat mom check yo half naked         21.0   \n",
              "1  bank granite issue strong buy explosive pick m...         23.0   \n",
              "2                  r give second chance rahul dengra          9.0   \n",
              "3              o play smash bros   < >   religiously         10.0   \n",
              "4  private 2003 account statement 07973788240 sho...         22.0   \n",
              "\n",
              "   count_characters  count_characters_no_space  avg_word_length  \\\n",
              "0              83.0                       65.0         2.954545   \n",
              "1             137.0                      116.0         4.833333   \n",
              "2              46.0                       38.0         3.800000   \n",
              "3              40.0                       32.0         2.909091   \n",
              "4             148.0                      128.0         5.565217   \n",
              "\n",
              "   count_numbers  count_sentences  noun_count  aux_count  verb_count  \\\n",
              "0            0.0              4.0         3.0        2.0         1.0   \n",
              "1            1.0              1.0        14.0        1.0         1.0   \n",
              "2            0.0              1.0         2.0        1.0         2.0   \n",
              "3            0.0              1.0         2.0        0.0         1.0   \n",
              "4            5.0              3.0         8.0        0.0         4.0   \n",
              "\n",
              "   adj_count  ner  misspelled_count  \n",
              "0        2.0  1.0               5.0  \n",
              "1        0.0  4.0               9.0  \n",
              "2        1.0  1.0               2.0  \n",
              "3        0.0  0.0               3.0  \n",
              "4        3.0  8.0               8.0  "
            ],
            "text/html": [
              "\n",
              "  <div id=\"df-4d1e9e29-4988-4eb0-bbd3-ca3ecc366328\" class=\"colab-df-container\">\n",
              "    <div>\n",
              "<style scoped>\n",
              "    .dataframe tbody tr th:only-of-type {\n",
              "        vertical-align: middle;\n",
              "    }\n",
              "\n",
              "    .dataframe tbody tr th {\n",
              "        vertical-align: top;\n",
              "    }\n",
              "\n",
              "    .dataframe thead th {\n",
              "        text-align: right;\n",
              "    }\n",
              "</style>\n",
              "<table border=\"1\" class=\"dataframe\">\n",
              "  <thead>\n",
              "    <tr style=\"text-align: right;\">\n",
              "      <th></th>\n",
              "      <th>cleaned_text</th>\n",
              "      <th>count_words</th>\n",
              "      <th>count_characters</th>\n",
              "      <th>count_characters_no_space</th>\n",
              "      <th>avg_word_length</th>\n",
              "      <th>count_numbers</th>\n",
              "      <th>count_sentences</th>\n",
              "      <th>noun_count</th>\n",
              "      <th>aux_count</th>\n",
              "      <th>verb_count</th>\n",
              "      <th>adj_count</th>\n",
              "      <th>ner</th>\n",
              "      <th>misspelled_count</th>\n",
              "    </tr>\n",
              "  </thead>\n",
              "  <tbody>\n",
              "    <tr>\n",
              "      <th>0</th>\n",
              "      <td>boat mom check yo half naked</td>\n",
              "      <td>21.0</td>\n",
              "      <td>83.0</td>\n",
              "      <td>65.0</td>\n",
              "      <td>2.954545</td>\n",
              "      <td>0.0</td>\n",
              "      <td>4.0</td>\n",
              "      <td>3.0</td>\n",
              "      <td>2.0</td>\n",
              "      <td>1.0</td>\n",
              "      <td>2.0</td>\n",
              "      <td>1.0</td>\n",
              "      <td>5.0</td>\n",
              "    </tr>\n",
              "    <tr>\n",
              "      <th>1</th>\n",
              "      <td>bank granite issue strong buy explosive pick m...</td>\n",
              "      <td>23.0</td>\n",
              "      <td>137.0</td>\n",
              "      <td>116.0</td>\n",
              "      <td>4.833333</td>\n",
              "      <td>1.0</td>\n",
              "      <td>1.0</td>\n",
              "      <td>14.0</td>\n",
              "      <td>1.0</td>\n",
              "      <td>1.0</td>\n",
              "      <td>0.0</td>\n",
              "      <td>4.0</td>\n",
              "      <td>9.0</td>\n",
              "    </tr>\n",
              "    <tr>\n",
              "      <th>2</th>\n",
              "      <td>r give second chance rahul dengra</td>\n",
              "      <td>9.0</td>\n",
              "      <td>46.0</td>\n",
              "      <td>38.0</td>\n",
              "      <td>3.800000</td>\n",
              "      <td>0.0</td>\n",
              "      <td>1.0</td>\n",
              "      <td>2.0</td>\n",
              "      <td>1.0</td>\n",
              "      <td>2.0</td>\n",
              "      <td>1.0</td>\n",
              "      <td>1.0</td>\n",
              "      <td>2.0</td>\n",
              "    </tr>\n",
              "    <tr>\n",
              "      <th>3</th>\n",
              "      <td>o play smash bros   &lt; &gt;   religiously</td>\n",
              "      <td>10.0</td>\n",
              "      <td>40.0</td>\n",
              "      <td>32.0</td>\n",
              "      <td>2.909091</td>\n",
              "      <td>0.0</td>\n",
              "      <td>1.0</td>\n",
              "      <td>2.0</td>\n",
              "      <td>0.0</td>\n",
              "      <td>1.0</td>\n",
              "      <td>0.0</td>\n",
              "      <td>0.0</td>\n",
              "      <td>3.0</td>\n",
              "    </tr>\n",
              "    <tr>\n",
              "      <th>4</th>\n",
              "      <td>private 2003 account statement 07973788240 sho...</td>\n",
              "      <td>22.0</td>\n",
              "      <td>148.0</td>\n",
              "      <td>128.0</td>\n",
              "      <td>5.565217</td>\n",
              "      <td>5.0</td>\n",
              "      <td>3.0</td>\n",
              "      <td>8.0</td>\n",
              "      <td>0.0</td>\n",
              "      <td>4.0</td>\n",
              "      <td>3.0</td>\n",
              "      <td>8.0</td>\n",
              "      <td>8.0</td>\n",
              "    </tr>\n",
              "  </tbody>\n",
              "</table>\n",
              "</div>\n",
              "    <div class=\"colab-df-buttons\">\n",
              "\n",
              "  <div class=\"colab-df-container\">\n",
              "    <button class=\"colab-df-convert\" onclick=\"convertToInteractive('df-4d1e9e29-4988-4eb0-bbd3-ca3ecc366328')\"\n",
              "            title=\"Convert this dataframe to an interactive table.\"\n",
              "            style=\"display:none;\">\n",
              "\n",
              "  <svg xmlns=\"http://www.w3.org/2000/svg\" height=\"24px\" viewBox=\"0 -960 960 960\">\n",
              "    <path d=\"M120-120v-720h720v720H120Zm60-500h600v-160H180v160Zm220 220h160v-160H400v160Zm0 220h160v-160H400v160ZM180-400h160v-160H180v160Zm440 0h160v-160H620v160ZM180-180h160v-160H180v160Zm440 0h160v-160H620v160Z\"/>\n",
              "  </svg>\n",
              "    </button>\n",
              "\n",
              "  <style>\n",
              "    .colab-df-container {\n",
              "      display:flex;\n",
              "      gap: 12px;\n",
              "    }\n",
              "\n",
              "    .colab-df-convert {\n",
              "      background-color: #E8F0FE;\n",
              "      border: none;\n",
              "      border-radius: 50%;\n",
              "      cursor: pointer;\n",
              "      display: none;\n",
              "      fill: #1967D2;\n",
              "      height: 32px;\n",
              "      padding: 0 0 0 0;\n",
              "      width: 32px;\n",
              "    }\n",
              "\n",
              "    .colab-df-convert:hover {\n",
              "      background-color: #E2EBFA;\n",
              "      box-shadow: 0px 1px 2px rgba(60, 64, 67, 0.3), 0px 1px 3px 1px rgba(60, 64, 67, 0.15);\n",
              "      fill: #174EA6;\n",
              "    }\n",
              "\n",
              "    .colab-df-buttons div {\n",
              "      margin-bottom: 4px;\n",
              "    }\n",
              "\n",
              "    [theme=dark] .colab-df-convert {\n",
              "      background-color: #3B4455;\n",
              "      fill: #D2E3FC;\n",
              "    }\n",
              "\n",
              "    [theme=dark] .colab-df-convert:hover {\n",
              "      background-color: #434B5C;\n",
              "      box-shadow: 0px 1px 3px 1px rgba(0, 0, 0, 0.15);\n",
              "      filter: drop-shadow(0px 1px 2px rgba(0, 0, 0, 0.3));\n",
              "      fill: #FFFFFF;\n",
              "    }\n",
              "  </style>\n",
              "\n",
              "    <script>\n",
              "      const buttonEl =\n",
              "        document.querySelector('#df-4d1e9e29-4988-4eb0-bbd3-ca3ecc366328 button.colab-df-convert');\n",
              "      buttonEl.style.display =\n",
              "        google.colab.kernel.accessAllowed ? 'block' : 'none';\n",
              "\n",
              "      async function convertToInteractive(key) {\n",
              "        const element = document.querySelector('#df-4d1e9e29-4988-4eb0-bbd3-ca3ecc366328');\n",
              "        const dataTable =\n",
              "          await google.colab.kernel.invokeFunction('convertToInteractive',\n",
              "                                                    [key], {});\n",
              "        if (!dataTable) return;\n",
              "\n",
              "        const docLinkHtml = 'Like what you see? Visit the ' +\n",
              "          '<a target=\"_blank\" href=https://colab.research.google.com/notebooks/data_table.ipynb>data table notebook</a>'\n",
              "          + ' to learn more about interactive tables.';\n",
              "        element.innerHTML = '';\n",
              "        dataTable['output_type'] = 'display_data';\n",
              "        await google.colab.output.renderOutput(dataTable, element);\n",
              "        const docLink = document.createElement('div');\n",
              "        docLink.innerHTML = docLinkHtml;\n",
              "        element.appendChild(docLink);\n",
              "      }\n",
              "    </script>\n",
              "  </div>\n",
              "\n",
              "\n",
              "<div id=\"df-fa14eaa0-3539-4506-8687-725eac6c2153\">\n",
              "  <button class=\"colab-df-quickchart\" onclick=\"quickchart('df-fa14eaa0-3539-4506-8687-725eac6c2153')\"\n",
              "            title=\"Suggest charts\"\n",
              "            style=\"display:none;\">\n",
              "\n",
              "<svg xmlns=\"http://www.w3.org/2000/svg\" height=\"24px\"viewBox=\"0 0 24 24\"\n",
              "     width=\"24px\">\n",
              "    <g>\n",
              "        <path d=\"M19 3H5c-1.1 0-2 .9-2 2v14c0 1.1.9 2 2 2h14c1.1 0 2-.9 2-2V5c0-1.1-.9-2-2-2zM9 17H7v-7h2v7zm4 0h-2V7h2v10zm4 0h-2v-4h2v4z\"/>\n",
              "    </g>\n",
              "</svg>\n",
              "  </button>\n",
              "\n",
              "<style>\n",
              "  .colab-df-quickchart {\n",
              "      --bg-color: #E8F0FE;\n",
              "      --fill-color: #1967D2;\n",
              "      --hover-bg-color: #E2EBFA;\n",
              "      --hover-fill-color: #174EA6;\n",
              "      --disabled-fill-color: #AAA;\n",
              "      --disabled-bg-color: #DDD;\n",
              "  }\n",
              "\n",
              "  [theme=dark] .colab-df-quickchart {\n",
              "      --bg-color: #3B4455;\n",
              "      --fill-color: #D2E3FC;\n",
              "      --hover-bg-color: #434B5C;\n",
              "      --hover-fill-color: #FFFFFF;\n",
              "      --disabled-bg-color: #3B4455;\n",
              "      --disabled-fill-color: #666;\n",
              "  }\n",
              "\n",
              "  .colab-df-quickchart {\n",
              "    background-color: var(--bg-color);\n",
              "    border: none;\n",
              "    border-radius: 50%;\n",
              "    cursor: pointer;\n",
              "    display: none;\n",
              "    fill: var(--fill-color);\n",
              "    height: 32px;\n",
              "    padding: 0;\n",
              "    width: 32px;\n",
              "  }\n",
              "\n",
              "  .colab-df-quickchart:hover {\n",
              "    background-color: var(--hover-bg-color);\n",
              "    box-shadow: 0 1px 2px rgba(60, 64, 67, 0.3), 0 1px 3px 1px rgba(60, 64, 67, 0.15);\n",
              "    fill: var(--button-hover-fill-color);\n",
              "  }\n",
              "\n",
              "  .colab-df-quickchart-complete:disabled,\n",
              "  .colab-df-quickchart-complete:disabled:hover {\n",
              "    background-color: var(--disabled-bg-color);\n",
              "    fill: var(--disabled-fill-color);\n",
              "    box-shadow: none;\n",
              "  }\n",
              "\n",
              "  .colab-df-spinner {\n",
              "    border: 2px solid var(--fill-color);\n",
              "    border-color: transparent;\n",
              "    border-bottom-color: var(--fill-color);\n",
              "    animation:\n",
              "      spin 1s steps(1) infinite;\n",
              "  }\n",
              "\n",
              "  @keyframes spin {\n",
              "    0% {\n",
              "      border-color: transparent;\n",
              "      border-bottom-color: var(--fill-color);\n",
              "      border-left-color: var(--fill-color);\n",
              "    }\n",
              "    20% {\n",
              "      border-color: transparent;\n",
              "      border-left-color: var(--fill-color);\n",
              "      border-top-color: var(--fill-color);\n",
              "    }\n",
              "    30% {\n",
              "      border-color: transparent;\n",
              "      border-left-color: var(--fill-color);\n",
              "      border-top-color: var(--fill-color);\n",
              "      border-right-color: var(--fill-color);\n",
              "    }\n",
              "    40% {\n",
              "      border-color: transparent;\n",
              "      border-right-color: var(--fill-color);\n",
              "      border-top-color: var(--fill-color);\n",
              "    }\n",
              "    60% {\n",
              "      border-color: transparent;\n",
              "      border-right-color: var(--fill-color);\n",
              "    }\n",
              "    80% {\n",
              "      border-color: transparent;\n",
              "      border-right-color: var(--fill-color);\n",
              "      border-bottom-color: var(--fill-color);\n",
              "    }\n",
              "    90% {\n",
              "      border-color: transparent;\n",
              "      border-bottom-color: var(--fill-color);\n",
              "    }\n",
              "  }\n",
              "</style>\n",
              "\n",
              "  <script>\n",
              "    async function quickchart(key) {\n",
              "      const quickchartButtonEl =\n",
              "        document.querySelector('#' + key + ' button');\n",
              "      quickchartButtonEl.disabled = true;  // To prevent multiple clicks.\n",
              "      quickchartButtonEl.classList.add('colab-df-spinner');\n",
              "      try {\n",
              "        const charts = await google.colab.kernel.invokeFunction(\n",
              "            'suggestCharts', [key], {});\n",
              "      } catch (error) {\n",
              "        console.error('Error during call to suggestCharts:', error);\n",
              "      }\n",
              "      quickchartButtonEl.classList.remove('colab-df-spinner');\n",
              "      quickchartButtonEl.classList.add('colab-df-quickchart-complete');\n",
              "    }\n",
              "    (() => {\n",
              "      let quickchartButtonEl =\n",
              "        document.querySelector('#df-fa14eaa0-3539-4506-8687-725eac6c2153 button');\n",
              "      quickchartButtonEl.style.display =\n",
              "        google.colab.kernel.accessAllowed ? 'block' : 'none';\n",
              "    })();\n",
              "  </script>\n",
              "</div>\n",
              "\n",
              "    </div>\n",
              "  </div>\n"
            ],
            "application/vnd.google.colaboratory.intrinsic+json": {
              "type": "dataframe",
              "variable_name": "X_train_combo",
              "summary": "{\n  \"name\": \"X_train_combo\",\n  \"rows\": 2228,\n  \"fields\": [\n    {\n      \"column\": \"cleaned_text\",\n      \"properties\": {\n        \"dtype\": \"string\",\n        \"num_unique_values\": 2118,\n        \"samples\": [\n          \"go project centre\",\n          \"white fudge oreos stores\",\n          \"baaaaaaaabe wake miss crave need\"\n        ],\n        \"semantic_type\": \"\",\n        \"description\": \"\"\n      }\n    },\n    {\n      \"column\": \"count_words\",\n      \"properties\": {\n        \"dtype\": \"number\",\n        \"std\": 11.306501575482173,\n        \"min\": 1.0,\n        \"max\": 116.0,\n        \"num_unique_values\": 66,\n        \"samples\": [\n          37.0,\n          50.0,\n          21.0\n        ],\n        \"semantic_type\": \"\",\n        \"description\": \"\"\n      }\n    },\n    {\n      \"column\": \"count_characters\",\n      \"properties\": {\n        \"dtype\": \"number\",\n        \"std\": 57.98929853242988,\n        \"min\": 2.0,\n        \"max\": 588.0,\n        \"num_unique_values\": 222,\n        \"samples\": [\n          287.0,\n          173.0,\n          256.0\n        ],\n        \"semantic_type\": \"\",\n        \"description\": \"\"\n      }\n    },\n    {\n      \"column\": \"count_characters_no_space\",\n      \"properties\": {\n        \"dtype\": \"number\",\n        \"std\": 47.1198346390452,\n        \"min\": 2.0,\n        \"max\": 464.0,\n        \"num_unique_values\": 192,\n        \"samples\": [\n          117.0,\n          110.0,\n          112.0\n        ],\n        \"semantic_type\": \"\",\n        \"description\": \"\"\n      }\n    },\n    {\n      \"column\": \"avg_word_length\",\n      \"properties\": {\n        \"dtype\": \"number\",\n        \"std\": 0.7455878520478828,\n        \"min\": 1.0,\n        \"max\": 7.666666666666667,\n        \"num_unique_values\": 632,\n        \"samples\": [\n          3.066666666666667,\n          4.535714285714286,\n          3.03125\n        ],\n        \"semantic_type\": \"\",\n        \"description\": \"\"\n      }\n    },\n    {\n      \"column\": \"count_numbers\",\n      \"properties\": {\n        \"dtype\": \"number\",\n        \"std\": 1.020981653198253,\n        \"min\": 0.0,\n        \"max\": 9.0,\n        \"num_unique_values\": 10,\n        \"samples\": [\n          8.0,\n          1.0,\n          4.0\n        ],\n        \"semantic_type\": \"\",\n        \"description\": \"\"\n      }\n    },\n    {\n      \"column\": \"count_sentences\",\n      \"properties\": {\n        \"dtype\": \"number\",\n        \"std\": 1.5174336772508985,\n        \"min\": 1.0,\n        \"max\": 30.0,\n        \"num_unique_values\": 13,\n        \"samples\": [\n          15.0,\n          9.0,\n          4.0\n        ],\n        \"semantic_type\": \"\",\n        \"description\": \"\"\n      }\n    },\n    {\n      \"column\": \"noun_count\",\n      \"properties\": {\n        \"dtype\": \"number\",\n        \"std\": 4.1317404809461555,\n        \"min\": 0.0,\n        \"max\": 31.0,\n        \"num_unique_values\": 27,\n        \"samples\": [\n          18.0,\n          17.0,\n          5.0\n        ],\n        \"semantic_type\": \"\",\n        \"description\": \"\"\n      }\n    },\n    {\n      \"column\": \"aux_count\",\n      \"properties\": {\n        \"dtype\": \"number\",\n        \"std\": 1.2417994822311236,\n        \"min\": 0.0,\n        \"max\": 12.0,\n        \"num_unique_values\": 13,\n        \"samples\": [\n          10.0,\n          6.0,\n          2.0\n        ],\n        \"semantic_type\": \"\",\n        \"description\": \"\"\n      }\n    },\n    {\n      \"column\": \"verb_count\",\n      \"properties\": {\n        \"dtype\": \"number\",\n        \"std\": 2.06906698901282,\n        \"min\": 0.0,\n        \"max\": 20.0,\n        \"num_unique_values\": 17,\n        \"samples\": [\n          1.0,\n          2.0,\n          5.0\n        ],\n        \"semantic_type\": \"\",\n        \"description\": \"\"\n      }\n    },\n    {\n      \"column\": \"adj_count\",\n      \"properties\": {\n        \"dtype\": \"number\",\n        \"std\": 1.2164588281938635,\n        \"min\": 0.0,\n        \"max\": 12.0,\n        \"num_unique_values\": 10,\n        \"samples\": [\n          7.0,\n          0.0,\n          5.0\n        ],\n        \"semantic_type\": \"\",\n        \"description\": \"\"\n      }\n    },\n    {\n      \"column\": \"ner\",\n      \"properties\": {\n        \"dtype\": \"number\",\n        \"std\": 1.5580992870198465,\n        \"min\": 0.0,\n        \"max\": 9.0,\n        \"num_unique_values\": 10,\n        \"samples\": [\n          5.0,\n          4.0,\n          2.0\n        ],\n        \"semantic_type\": \"\",\n        \"description\": \"\"\n      }\n    },\n    {\n      \"column\": \"misspelled_count\",\n      \"properties\": {\n        \"dtype\": \"number\",\n        \"std\": 3.1730306114502373,\n        \"min\": 0.0,\n        \"max\": 32.0,\n        \"num_unique_values\": 22,\n        \"samples\": [\n          5.0,\n          13.0,\n          6.0\n        ],\n        \"semantic_type\": \"\",\n        \"description\": \"\"\n      }\n    }\n  ]\n}"
            }
          },
          "metadata": {},
          "execution_count": 31
        }
      ]
    },
    {
      "cell_type": "markdown",
      "source": [
        "<font color = \"Pickle\">**We can see above that we have successfully preprocessed the data into both the manual features and the cleaned text column. Below we can see the dtypes with the object type for the cleaned text feature and float for the rest which is expected.**"
      ],
      "metadata": {
        "id": "va3al9MMFNnQ"
      }
    },
    {
      "cell_type": "code",
      "source": [
        "X_train_combo.info()"
      ],
      "metadata": {
        "colab": {
          "base_uri": "https://localhost:8080/"
        },
        "id": "jK4BCJpTEoKz",
        "outputId": "98a5ad6a-bcef-4ccf-b248-98f73d7f0149"
      },
      "execution_count": 32,
      "outputs": [
        {
          "output_type": "stream",
          "name": "stdout",
          "text": [
            "<class 'pandas.core.frame.DataFrame'>\n",
            "RangeIndex: 2228 entries, 0 to 2227\n",
            "Data columns (total 13 columns):\n",
            " #   Column                     Non-Null Count  Dtype  \n",
            "---  ------                     --------------  -----  \n",
            " 0   cleaned_text               2228 non-null   object \n",
            " 1   count_words                2228 non-null   float64\n",
            " 2   count_characters           2228 non-null   float64\n",
            " 3   count_characters_no_space  2228 non-null   float64\n",
            " 4   avg_word_length            2228 non-null   float64\n",
            " 5   count_numbers              2228 non-null   float64\n",
            " 6   count_sentences            2228 non-null   float64\n",
            " 7   noun_count                 2228 non-null   float64\n",
            " 8   aux_count                  2228 non-null   float64\n",
            " 9   verb_count                 2228 non-null   float64\n",
            " 10  adj_count                  2228 non-null   float64\n",
            " 11  ner                        2228 non-null   float64\n",
            " 12  misspelled_count           2228 non-null   float64\n",
            "dtypes: float64(12), object(1)\n",
            "memory usage: 226.4+ KB\n"
          ]
        }
      ]
    },
    {
      "cell_type": "code",
      "source": [
        "# Defining the sparse transformer class\n",
        "class SparseTransformer(BaseEstimator, TransformerMixin):\n",
        "    def __init__(self): #initializes the function\n",
        "      pass\n",
        "\n",
        "    def fit(self,X,y = None): #fits and returns the input\n",
        "      return self\n",
        "\n",
        "    def transform(self, X, y = None): #transforms the input to sparse format\n",
        "      return csr_matrix(X) # .toarray for Dense\n",
        "\n"
      ],
      "metadata": {
        "id": "Zt0PJ3d3FKCe"
      },
      "execution_count": 35,
      "outputs": []
    },
    {
      "cell_type": "code",
      "source": [
        "# creating the sparse pipeline and the tfidf pipeline\n",
        "sparse_features = Pipeline([('sparse',SparseTransformer()),])\n",
        "\n",
        "vectorizer = Pipeline([('tfidf',TfidfVectorizer(min_df = 2,\n",
        "                                   max_df = 100,\n",
        "                                   token_pattern =r\"\\b\\w[\\w@#.!?]*\\b\",\n",
        "                                   max_features = 1000,\n",
        "                                   ngram_range = (1,3), # Pulls in bigrams and trigrams for common phrasing such as 'You won a','Congratulations you win', etc.\n",
        "                                   stop_words = None, # Stop words can be helpful in classifying spam emails because of common phrases.\n",
        "                                   lowercase = False # Keeping both capitalized and uncapitalized versions of words.\n",
        "                                   )),])"
      ],
      "metadata": {
        "id": "KdQbunEBFro1"
      },
      "execution_count": null,
      "outputs": []
    },
    {
      "cell_type": "code",
      "source": [
        "# creating the combined features transformer pipeline to be implemented in the last classifier\n",
        "combined_features = ColumnTransformer(\n",
        "      transformers = [\n",
        "          ('tfidf', vectorizer, 'cleaned_text'),],      # Calls the tfidf pipeline using vectorizer on the 'cleaned_text' column\n",
        "            remainder =sparse_features                 # Calls the sparse features pipeline on the remaining columns\n",
        ")"
      ],
      "metadata": {
        "id": "2uiZbJcBFvMs"
      },
      "execution_count": null,
      "outputs": []
    },
    {
      "cell_type": "markdown",
      "source": [
        "###<font color = 'Pickle'>**Final classifier pipelines:**"
      ],
      "metadata": {
        "id": "3pGje7ZzF6h0"
      }
    },
    {
      "cell_type": "code",
      "source": [
        "classifier_final = Pipeline([('combined_features', combined_features),\n",
        "                         ('classifier', XGBClassifier(enable_categorical = True, eval_metric = 'logloss')),])"
      ],
      "metadata": {
        "id": "s6m3qZJrFzh_"
      },
      "execution_count": null,
      "outputs": []
    },
    {
      "cell_type": "code",
      "source": [
        "classifier_final.get_params().keys()"
      ],
      "metadata": {
        "colab": {
          "base_uri": "https://localhost:8080/"
        },
        "id": "eXo0UFjUF4Y6",
        "outputId": "fa23ca02-ca87-48d2-9f25-0ae370c37bc2"
      },
      "execution_count": null,
      "outputs": [
        {
          "output_type": "execute_result",
          "data": {
            "text/plain": [
              "dict_keys(['memory', 'steps', 'verbose', 'combined_features', 'classifier', 'combined_features__n_jobs', 'combined_features__remainder__memory', 'combined_features__remainder__steps', 'combined_features__remainder__verbose', 'combined_features__remainder__sparse', 'combined_features__remainder', 'combined_features__sparse_threshold', 'combined_features__transformer_weights', 'combined_features__transformers', 'combined_features__verbose', 'combined_features__verbose_feature_names_out', 'combined_features__tfidf', 'combined_features__tfidf__memory', 'combined_features__tfidf__steps', 'combined_features__tfidf__verbose', 'combined_features__tfidf__tfidf', 'combined_features__tfidf__tfidf__analyzer', 'combined_features__tfidf__tfidf__binary', 'combined_features__tfidf__tfidf__decode_error', 'combined_features__tfidf__tfidf__dtype', 'combined_features__tfidf__tfidf__encoding', 'combined_features__tfidf__tfidf__input', 'combined_features__tfidf__tfidf__lowercase', 'combined_features__tfidf__tfidf__max_df', 'combined_features__tfidf__tfidf__max_features', 'combined_features__tfidf__tfidf__min_df', 'combined_features__tfidf__tfidf__ngram_range', 'combined_features__tfidf__tfidf__norm', 'combined_features__tfidf__tfidf__preprocessor', 'combined_features__tfidf__tfidf__smooth_idf', 'combined_features__tfidf__tfidf__stop_words', 'combined_features__tfidf__tfidf__strip_accents', 'combined_features__tfidf__tfidf__sublinear_tf', 'combined_features__tfidf__tfidf__token_pattern', 'combined_features__tfidf__tfidf__tokenizer', 'combined_features__tfidf__tfidf__use_idf', 'combined_features__tfidf__tfidf__vocabulary', 'classifier__objective', 'classifier__base_score', 'classifier__booster', 'classifier__callbacks', 'classifier__colsample_bylevel', 'classifier__colsample_bynode', 'classifier__colsample_bytree', 'classifier__device', 'classifier__early_stopping_rounds', 'classifier__enable_categorical', 'classifier__eval_metric', 'classifier__feature_types', 'classifier__gamma', 'classifier__grow_policy', 'classifier__importance_type', 'classifier__interaction_constraints', 'classifier__learning_rate', 'classifier__max_bin', 'classifier__max_cat_threshold', 'classifier__max_cat_to_onehot', 'classifier__max_delta_step', 'classifier__max_depth', 'classifier__max_leaves', 'classifier__min_child_weight', 'classifier__missing', 'classifier__monotone_constraints', 'classifier__multi_strategy', 'classifier__n_estimators', 'classifier__n_jobs', 'classifier__num_parallel_tree', 'classifier__random_state', 'classifier__reg_alpha', 'classifier__reg_lambda', 'classifier__sampling_method', 'classifier__scale_pos_weight', 'classifier__subsample', 'classifier__tree_method', 'classifier__validate_parameters', 'classifier__verbosity'])"
            ]
          },
          "metadata": {},
          "execution_count": 41
        }
      ]
    },
    {
      "cell_type": "markdown",
      "source": [
        "###<font color = 'Pickle'>**Hyperparameter Pipeline:**"
      ],
      "metadata": {
        "id": "7LHKBDBIGGaN"
      }
    },
    {
      "cell_type": "code",
      "source": [
        "param_grid_classifier_final = {\n",
        "    'combined_features__tfidf__tfidf__max_features': [300,500,700,1000], # Max features to test through\n",
        "    'classifier__n_estimators': [20,50,100], # Number of boosting rounds in XGB\n",
        "    'classifier__learning_rate': [0.01,0.1,0.2], # Learning rate for each boosting round\n",
        "    'classifier__max_depth': [3,5,7,9,11], # Maximum depth of trees (higher values make the model more complex)\n",
        "    'classifier__scale_pos_weight': [1,10,25,50,75,99,100,1000] # Class weight values to handle the class imbalance and some for exploration.\n",
        "}"
      ],
      "metadata": {
        "id": "CDzkSvY3F_CX"
      },
      "execution_count": null,
      "outputs": []
    },
    {
      "cell_type": "markdown",
      "source": [
        "###<font color = 'Pickle'>**Specifying RandomSearch:**"
      ],
      "metadata": {
        "id": "UxeAwmA9GS69"
      }
    },
    {
      "cell_type": "code",
      "source": [
        "cv_strategy = RepeatedStratifiedKFold(n_splits = 5,n_repeats = 1, random_state = 42)\n",
        "\n",
        "grid_classifier_final = RandomizedSearchCV(\n",
        "    estimator = classifier_final,\n",
        "    param_distributions = param_grid_classifier_final,\n",
        "    cv = cv_strategy,\n",
        "    n_iter = 300,\n",
        "    scoring = 'f1_macro',\n",
        "    verbose = 2,\n",
        "    n_jobs = -1\n",
        ")\n"
      ],
      "metadata": {
        "id": "Ql3F-YTyGMbU"
      },
      "execution_count": null,
      "outputs": []
    },
    {
      "cell_type": "markdown",
      "source": [
        "###<font color = 'Pickle'>**Fitting the Model:**"
      ],
      "metadata": {
        "id": "Xl_A6dIzGdGv"
      }
    },
    {
      "cell_type": "code",
      "source": [
        "grid_classifier_final.fit(X_train_combo, y_train)"
      ],
      "metadata": {
        "colab": {
          "base_uri": "https://localhost:8080/",
          "height": 236
        },
        "id": "EZWrpy6OGUIS",
        "outputId": "5f9b627c-8d6e-438a-d18f-52869cb2af0f"
      },
      "execution_count": null,
      "outputs": [
        {
          "output_type": "stream",
          "name": "stdout",
          "text": [
            "Fitting 5 folds for each of 300 candidates, totalling 1500 fits\n"
          ]
        },
        {
          "output_type": "execute_result",
          "data": {
            "text/plain": [
              "RandomizedSearchCV(cv=RepeatedStratifiedKFold(n_repeats=1, n_splits=5, random_state=42),\n",
              "                   estimator=Pipeline(steps=[('combined_features',\n",
              "                                              ColumnTransformer(remainder=Pipeline(steps=[('sparse',\n",
              "                                                                                           SparseTransformer())]),\n",
              "                                                                transformers=[('tfidf',\n",
              "                                                                               Pipeline(steps=[('tfidf',\n",
              "                                                                                                TfidfVectorizer(lowercase=False,\n",
              "                                                                                                                max_df=100,\n",
              "                                                                                                                max_features=1000,\n",
              "                                                                                                                min_df=2,\n",
              "                                                                                                                ngram_range=(1,\n",
              "                                                                                                                             3),\n",
              "                                                                                                                toke...\n",
              "                                                            num_parallel_tree=None,\n",
              "                                                            random_state=None, ...))]),\n",
              "                   n_iter=300, n_jobs=-1,\n",
              "                   param_distributions={'classifier__learning_rate': [0.01, 0.1,\n",
              "                                                                      0.2],\n",
              "                                        'classifier__max_depth': [3, 5, 7, 9,\n",
              "                                                                  11],\n",
              "                                        'classifier__n_estimators': [20, 50,\n",
              "                                                                     100],\n",
              "                                        'classifier__scale_pos_weight': [1, 10,\n",
              "                                                                         25, 50,\n",
              "                                                                         75, 99,\n",
              "                                                                         100,\n",
              "                                                                         1000],\n",
              "                                        'combined_features__tfidf__tfidf__max_features': [300,\n",
              "                                                                                          500,\n",
              "                                                                                          700,\n",
              "                                                                                          1000]},\n",
              "                   scoring='f1_macro', verbose=2)"
            ],
            "text/html": [
              "<style>#sk-container-id-1 {color: black;}#sk-container-id-1 pre{padding: 0;}#sk-container-id-1 div.sk-toggleable {background-color: white;}#sk-container-id-1 label.sk-toggleable__label {cursor: pointer;display: block;width: 100%;margin-bottom: 0;padding: 0.3em;box-sizing: border-box;text-align: center;}#sk-container-id-1 label.sk-toggleable__label-arrow:before {content: \"▸\";float: left;margin-right: 0.25em;color: #696969;}#sk-container-id-1 label.sk-toggleable__label-arrow:hover:before {color: black;}#sk-container-id-1 div.sk-estimator:hover label.sk-toggleable__label-arrow:before {color: black;}#sk-container-id-1 div.sk-toggleable__content {max-height: 0;max-width: 0;overflow: hidden;text-align: left;background-color: #f0f8ff;}#sk-container-id-1 div.sk-toggleable__content pre {margin: 0.2em;color: black;border-radius: 0.25em;background-color: #f0f8ff;}#sk-container-id-1 input.sk-toggleable__control:checked~div.sk-toggleable__content {max-height: 200px;max-width: 100%;overflow: auto;}#sk-container-id-1 input.sk-toggleable__control:checked~label.sk-toggleable__label-arrow:before {content: \"▾\";}#sk-container-id-1 div.sk-estimator input.sk-toggleable__control:checked~label.sk-toggleable__label {background-color: #d4ebff;}#sk-container-id-1 div.sk-label input.sk-toggleable__control:checked~label.sk-toggleable__label {background-color: #d4ebff;}#sk-container-id-1 input.sk-hidden--visually {border: 0;clip: rect(1px 1px 1px 1px);clip: rect(1px, 1px, 1px, 1px);height: 1px;margin: -1px;overflow: hidden;padding: 0;position: absolute;width: 1px;}#sk-container-id-1 div.sk-estimator {font-family: monospace;background-color: #f0f8ff;border: 1px dotted black;border-radius: 0.25em;box-sizing: border-box;margin-bottom: 0.5em;}#sk-container-id-1 div.sk-estimator:hover {background-color: #d4ebff;}#sk-container-id-1 div.sk-parallel-item::after {content: \"\";width: 100%;border-bottom: 1px solid gray;flex-grow: 1;}#sk-container-id-1 div.sk-label:hover label.sk-toggleable__label {background-color: #d4ebff;}#sk-container-id-1 div.sk-serial::before {content: \"\";position: absolute;border-left: 1px solid gray;box-sizing: border-box;top: 0;bottom: 0;left: 50%;z-index: 0;}#sk-container-id-1 div.sk-serial {display: flex;flex-direction: column;align-items: center;background-color: white;padding-right: 0.2em;padding-left: 0.2em;position: relative;}#sk-container-id-1 div.sk-item {position: relative;z-index: 1;}#sk-container-id-1 div.sk-parallel {display: flex;align-items: stretch;justify-content: center;background-color: white;position: relative;}#sk-container-id-1 div.sk-item::before, #sk-container-id-1 div.sk-parallel-item::before {content: \"\";position: absolute;border-left: 1px solid gray;box-sizing: border-box;top: 0;bottom: 0;left: 50%;z-index: -1;}#sk-container-id-1 div.sk-parallel-item {display: flex;flex-direction: column;z-index: 1;position: relative;background-color: white;}#sk-container-id-1 div.sk-parallel-item:first-child::after {align-self: flex-end;width: 50%;}#sk-container-id-1 div.sk-parallel-item:last-child::after {align-self: flex-start;width: 50%;}#sk-container-id-1 div.sk-parallel-item:only-child::after {width: 0;}#sk-container-id-1 div.sk-dashed-wrapped {border: 1px dashed gray;margin: 0 0.4em 0.5em 0.4em;box-sizing: border-box;padding-bottom: 0.4em;background-color: white;}#sk-container-id-1 div.sk-label label {font-family: monospace;font-weight: bold;display: inline-block;line-height: 1.2em;}#sk-container-id-1 div.sk-label-container {text-align: center;}#sk-container-id-1 div.sk-container {/* jupyter's `normalize.less` sets `[hidden] { display: none; }` but bootstrap.min.css set `[hidden] { display: none !important; }` so we also need the `!important` here to be able to override the default hidden behavior on the sphinx rendered scikit-learn.org. See: https://github.com/scikit-learn/scikit-learn/issues/21755 */display: inline-block !important;position: relative;}#sk-container-id-1 div.sk-text-repr-fallback {display: none;}</style><div id=\"sk-container-id-1\" class=\"sk-top-container\"><div class=\"sk-text-repr-fallback\"><pre>RandomizedSearchCV(cv=RepeatedStratifiedKFold(n_repeats=1, n_splits=5, random_state=42),\n",
              "                   estimator=Pipeline(steps=[(&#x27;combined_features&#x27;,\n",
              "                                              ColumnTransformer(remainder=Pipeline(steps=[(&#x27;sparse&#x27;,\n",
              "                                                                                           SparseTransformer())]),\n",
              "                                                                transformers=[(&#x27;tfidf&#x27;,\n",
              "                                                                               Pipeline(steps=[(&#x27;tfidf&#x27;,\n",
              "                                                                                                TfidfVectorizer(lowercase=False,\n",
              "                                                                                                                max_df=100,\n",
              "                                                                                                                max_features=1000,\n",
              "                                                                                                                min_df=2,\n",
              "                                                                                                                ngram_range=(1,\n",
              "                                                                                                                             3),\n",
              "                                                                                                                toke...\n",
              "                                                            num_parallel_tree=None,\n",
              "                                                            random_state=None, ...))]),\n",
              "                   n_iter=300, n_jobs=-1,\n",
              "                   param_distributions={&#x27;classifier__learning_rate&#x27;: [0.01, 0.1,\n",
              "                                                                      0.2],\n",
              "                                        &#x27;classifier__max_depth&#x27;: [3, 5, 7, 9,\n",
              "                                                                  11],\n",
              "                                        &#x27;classifier__n_estimators&#x27;: [20, 50,\n",
              "                                                                     100],\n",
              "                                        &#x27;classifier__scale_pos_weight&#x27;: [1, 10,\n",
              "                                                                         25, 50,\n",
              "                                                                         75, 99,\n",
              "                                                                         100,\n",
              "                                                                         1000],\n",
              "                                        &#x27;combined_features__tfidf__tfidf__max_features&#x27;: [300,\n",
              "                                                                                          500,\n",
              "                                                                                          700,\n",
              "                                                                                          1000]},\n",
              "                   scoring=&#x27;f1_macro&#x27;, verbose=2)</pre><b>In a Jupyter environment, please rerun this cell to show the HTML representation or trust the notebook. <br />On GitHub, the HTML representation is unable to render, please try loading this page with nbviewer.org.</b></div><div class=\"sk-container\" hidden><div class=\"sk-item sk-dashed-wrapped\"><div class=\"sk-label-container\"><div class=\"sk-label sk-toggleable\"><input class=\"sk-toggleable__control sk-hidden--visually\" id=\"sk-estimator-id-1\" type=\"checkbox\" ><label for=\"sk-estimator-id-1\" class=\"sk-toggleable__label sk-toggleable__label-arrow\">RandomizedSearchCV</label><div class=\"sk-toggleable__content\"><pre>RandomizedSearchCV(cv=RepeatedStratifiedKFold(n_repeats=1, n_splits=5, random_state=42),\n",
              "                   estimator=Pipeline(steps=[(&#x27;combined_features&#x27;,\n",
              "                                              ColumnTransformer(remainder=Pipeline(steps=[(&#x27;sparse&#x27;,\n",
              "                                                                                           SparseTransformer())]),\n",
              "                                                                transformers=[(&#x27;tfidf&#x27;,\n",
              "                                                                               Pipeline(steps=[(&#x27;tfidf&#x27;,\n",
              "                                                                                                TfidfVectorizer(lowercase=False,\n",
              "                                                                                                                max_df=100,\n",
              "                                                                                                                max_features=1000,\n",
              "                                                                                                                min_df=2,\n",
              "                                                                                                                ngram_range=(1,\n",
              "                                                                                                                             3),\n",
              "                                                                                                                toke...\n",
              "                                                            num_parallel_tree=None,\n",
              "                                                            random_state=None, ...))]),\n",
              "                   n_iter=300, n_jobs=-1,\n",
              "                   param_distributions={&#x27;classifier__learning_rate&#x27;: [0.01, 0.1,\n",
              "                                                                      0.2],\n",
              "                                        &#x27;classifier__max_depth&#x27;: [3, 5, 7, 9,\n",
              "                                                                  11],\n",
              "                                        &#x27;classifier__n_estimators&#x27;: [20, 50,\n",
              "                                                                     100],\n",
              "                                        &#x27;classifier__scale_pos_weight&#x27;: [1, 10,\n",
              "                                                                         25, 50,\n",
              "                                                                         75, 99,\n",
              "                                                                         100,\n",
              "                                                                         1000],\n",
              "                                        &#x27;combined_features__tfidf__tfidf__max_features&#x27;: [300,\n",
              "                                                                                          500,\n",
              "                                                                                          700,\n",
              "                                                                                          1000]},\n",
              "                   scoring=&#x27;f1_macro&#x27;, verbose=2)</pre></div></div></div><div class=\"sk-parallel\"><div class=\"sk-parallel-item\"><div class=\"sk-item\"><div class=\"sk-label-container\"><div class=\"sk-label sk-toggleable\"><input class=\"sk-toggleable__control sk-hidden--visually\" id=\"sk-estimator-id-2\" type=\"checkbox\" ><label for=\"sk-estimator-id-2\" class=\"sk-toggleable__label sk-toggleable__label-arrow\">estimator: Pipeline</label><div class=\"sk-toggleable__content\"><pre>Pipeline(steps=[(&#x27;combined_features&#x27;,\n",
              "                 ColumnTransformer(remainder=Pipeline(steps=[(&#x27;sparse&#x27;,\n",
              "                                                              SparseTransformer())]),\n",
              "                                   transformers=[(&#x27;tfidf&#x27;,\n",
              "                                                  Pipeline(steps=[(&#x27;tfidf&#x27;,\n",
              "                                                                   TfidfVectorizer(lowercase=False,\n",
              "                                                                                   max_df=100,\n",
              "                                                                                   max_features=1000,\n",
              "                                                                                   min_df=2,\n",
              "                                                                                   ngram_range=(1,\n",
              "                                                                                                3),\n",
              "                                                                                   token_pattern=&#x27;\\\\b\\\\w[\\\\w@#.!?]*\\\\b&#x27;))]),\n",
              "                                                  &#x27;cleaned_text&#x27;)])),\n",
              "                (&#x27;classifier&#x27;,\n",
              "                 XGBClassifier(base_score=N...\n",
              "                               feature_types=None, gamma=None, grow_policy=None,\n",
              "                               importance_type=None,\n",
              "                               interaction_constraints=None, learning_rate=None,\n",
              "                               max_bin=None, max_cat_threshold=None,\n",
              "                               max_cat_to_onehot=None, max_delta_step=None,\n",
              "                               max_depth=None, max_leaves=None,\n",
              "                               min_child_weight=None, missing=nan,\n",
              "                               monotone_constraints=None, multi_strategy=None,\n",
              "                               n_estimators=None, n_jobs=None,\n",
              "                               num_parallel_tree=None, random_state=None, ...))])</pre></div></div></div><div class=\"sk-serial\"><div class=\"sk-item\"><div class=\"sk-serial\"><div class=\"sk-item sk-dashed-wrapped\"><div class=\"sk-label-container\"><div class=\"sk-label sk-toggleable\"><input class=\"sk-toggleable__control sk-hidden--visually\" id=\"sk-estimator-id-3\" type=\"checkbox\" ><label for=\"sk-estimator-id-3\" class=\"sk-toggleable__label sk-toggleable__label-arrow\">combined_features: ColumnTransformer</label><div class=\"sk-toggleable__content\"><pre>ColumnTransformer(remainder=Pipeline(steps=[(&#x27;sparse&#x27;, SparseTransformer())]),\n",
              "                  transformers=[(&#x27;tfidf&#x27;,\n",
              "                                 Pipeline(steps=[(&#x27;tfidf&#x27;,\n",
              "                                                  TfidfVectorizer(lowercase=False,\n",
              "                                                                  max_df=100,\n",
              "                                                                  max_features=1000,\n",
              "                                                                  min_df=2,\n",
              "                                                                  ngram_range=(1,\n",
              "                                                                               3),\n",
              "                                                                  token_pattern=&#x27;\\\\b\\\\w[\\\\w@#.!?]*\\\\b&#x27;))]),\n",
              "                                 &#x27;cleaned_text&#x27;)])</pre></div></div></div><div class=\"sk-parallel\"><div class=\"sk-parallel-item\"><div class=\"sk-item\"><div class=\"sk-label-container\"><div class=\"sk-label sk-toggleable\"><input class=\"sk-toggleable__control sk-hidden--visually\" id=\"sk-estimator-id-4\" type=\"checkbox\" ><label for=\"sk-estimator-id-4\" class=\"sk-toggleable__label sk-toggleable__label-arrow\">tfidf</label><div class=\"sk-toggleable__content\"><pre>cleaned_text</pre></div></div></div><div class=\"sk-serial\"><div class=\"sk-item\"><div class=\"sk-serial\"><div class=\"sk-item\"><div class=\"sk-estimator sk-toggleable\"><input class=\"sk-toggleable__control sk-hidden--visually\" id=\"sk-estimator-id-5\" type=\"checkbox\" ><label for=\"sk-estimator-id-5\" class=\"sk-toggleable__label sk-toggleable__label-arrow\">TfidfVectorizer</label><div class=\"sk-toggleable__content\"><pre>TfidfVectorizer(lowercase=False, max_df=100, max_features=1000, min_df=2,\n",
              "                ngram_range=(1, 3), token_pattern=&#x27;\\\\b\\\\w[\\\\w@#.!?]*\\\\b&#x27;)</pre></div></div></div></div></div></div></div></div><div class=\"sk-parallel-item\"><div class=\"sk-item\"><div class=\"sk-label-container\"><div class=\"sk-label sk-toggleable\"><input class=\"sk-toggleable__control sk-hidden--visually\" id=\"sk-estimator-id-6\" type=\"checkbox\" ><label for=\"sk-estimator-id-6\" class=\"sk-toggleable__label sk-toggleable__label-arrow\">remainder</label><div class=\"sk-toggleable__content\"><pre></pre></div></div></div><div class=\"sk-serial\"><div class=\"sk-item\"><div class=\"sk-serial\"><div class=\"sk-item\"><div class=\"sk-estimator sk-toggleable\"><input class=\"sk-toggleable__control sk-hidden--visually\" id=\"sk-estimator-id-7\" type=\"checkbox\" ><label for=\"sk-estimator-id-7\" class=\"sk-toggleable__label sk-toggleable__label-arrow\">SparseTransformer</label><div class=\"sk-toggleable__content\"><pre>SparseTransformer()</pre></div></div></div></div></div></div></div></div></div></div><div class=\"sk-item\"><div class=\"sk-estimator sk-toggleable\"><input class=\"sk-toggleable__control sk-hidden--visually\" id=\"sk-estimator-id-8\" type=\"checkbox\" ><label for=\"sk-estimator-id-8\" class=\"sk-toggleable__label sk-toggleable__label-arrow\">XGBClassifier</label><div class=\"sk-toggleable__content\"><pre>XGBClassifier(base_score=None, booster=None, callbacks=None,\n",
              "              colsample_bylevel=None, colsample_bynode=None,\n",
              "              colsample_bytree=None, device=None, early_stopping_rounds=None,\n",
              "              enable_categorical=True, eval_metric=&#x27;logloss&#x27;,\n",
              "              feature_types=None, gamma=None, grow_policy=None,\n",
              "              importance_type=None, interaction_constraints=None,\n",
              "              learning_rate=None, max_bin=None, max_cat_threshold=None,\n",
              "              max_cat_to_onehot=None, max_delta_step=None, max_depth=None,\n",
              "              max_leaves=None, min_child_weight=None, missing=nan,\n",
              "              monotone_constraints=None, multi_strategy=None, n_estimators=None,\n",
              "              n_jobs=None, num_parallel_tree=None, random_state=None, ...)</pre></div></div></div></div></div></div></div></div></div></div></div></div>"
            ]
          },
          "metadata": {},
          "execution_count": 47
        }
      ]
    },
    {
      "cell_type": "markdown",
      "source": [
        "##<font color = 'indianred'>**Time to train: 12 minutes 26 seconds**"
      ],
      "metadata": {
        "id": "cnOiC1LtJnFW"
      }
    },
    {
      "cell_type": "markdown",
      "source": [
        "--------------------\n",
        "###<font color = 'Pickle'>**Getting the best parameters:**"
      ],
      "metadata": {
        "id": "htQKVvdvJ6So"
      }
    },
    {
      "cell_type": "code",
      "source": [
        "print('Best Cross Validation Score:',grid_classifier_final.best_score_)\n",
        "print('\\nBest Parameters:', grid_classifier_final.best_params_)\n",
        "print('\\nBest estimator:',grid_classifier_final.best_estimator_)"
      ],
      "metadata": {
        "colab": {
          "base_uri": "https://localhost:8080/"
        },
        "id": "atXp33B2Gti-",
        "outputId": "5a5ea7f3-021a-4e3d-db05-c43fc791c806"
      },
      "execution_count": null,
      "outputs": [
        {
          "output_type": "stream",
          "name": "stdout",
          "text": [
            "Best Cross Validation Score: 0.9436366588224157\n",
            "\n",
            "Best Parameters: {'combined_features__tfidf__tfidf__max_features': 700, 'classifier__scale_pos_weight': 1, 'classifier__n_estimators': 100, 'classifier__max_depth': 3, 'classifier__learning_rate': 0.1}\n",
            "\n",
            "Best estimator: Pipeline(steps=[('combined_features',\n",
            "                 ColumnTransformer(remainder=Pipeline(steps=[('sparse',\n",
            "                                                              SparseTransformer())]),\n",
            "                                   transformers=[('tfidf',\n",
            "                                                  Pipeline(steps=[('tfidf',\n",
            "                                                                   TfidfVectorizer(lowercase=False,\n",
            "                                                                                   max_df=100,\n",
            "                                                                                   max_features=700,\n",
            "                                                                                   min_df=2,\n",
            "                                                                                   ngram_range=(1,\n",
            "                                                                                                3),\n",
            "                                                                                   token_pattern='\\\\b\\\\w[\\\\w@#.!?]*\\\\b'))]),\n",
            "                                                  'cleaned_text')])),\n",
            "                ('classifier',\n",
            "                 XGBClassifier(base_score=No...\n",
            "                               feature_types=None, gamma=None, grow_policy=None,\n",
            "                               importance_type=None,\n",
            "                               interaction_constraints=None, learning_rate=0.1,\n",
            "                               max_bin=None, max_cat_threshold=None,\n",
            "                               max_cat_to_onehot=None, max_delta_step=None,\n",
            "                               max_depth=3, max_leaves=None,\n",
            "                               min_child_weight=None, missing=nan,\n",
            "                               monotone_constraints=None, multi_strategy=None,\n",
            "                               n_estimators=100, n_jobs=None,\n",
            "                               num_parallel_tree=None, random_state=None, ...))])\n"
          ]
        }
      ]
    },
    {
      "cell_type": "markdown",
      "source": [
        "###<font color = 'Pickle'>**Saving the model:**"
      ],
      "metadata": {
        "id": "rI4IjHuQKgfA"
      }
    },
    {
      "cell_type": "code",
      "source": [
        "file_best_estimator_spam_model = model_folder/'best_estimator_spam_MF_TFIDF_model.pkl'\n",
        "\n",
        "file_complete_grid_spam_model = model_folder/'complete_grid_spam_MF_TFIDF_model.pkl'\n",
        "\n"
      ],
      "metadata": {
        "id": "7PnXcwVxKUMx"
      },
      "execution_count": 33,
      "outputs": []
    },
    {
      "cell_type": "code",
      "source": [
        "# dumping in drive\n",
        "joblib.dump(grid_classifier_final.best_estimator_,file_best_estimator_spam_model)\n",
        "joblib.dump(grid_classifier_final, file_complete_grid_spam_model)"
      ],
      "metadata": {
        "id": "Og8u7fAEeUa1"
      },
      "execution_count": null,
      "outputs": []
    },
    {
      "cell_type": "markdown",
      "source": [
        "###<font color = 'Pickle'>**Reloading the Model:**"
      ],
      "metadata": {
        "id": "C5U5rV_lLcvj"
      }
    },
    {
      "cell_type": "code",
      "source": [
        "best_estimator_spam_model = joblib.load(file_best_estimator_spam_model)\n",
        "complete_grid_spam_model = joblib.load(file_complete_grid_spam_model)"
      ],
      "metadata": {
        "id": "iCZjXUDlLXDH"
      },
      "execution_count": 36,
      "outputs": []
    },
    {
      "cell_type": "markdown",
      "source": [
        "###<font color = 'Pickle'>**Plotting the learning curve:**"
      ],
      "metadata": {
        "id": "vrKykiSuLy-K"
      }
    },
    {
      "cell_type": "code",
      "source": [
        "from plot_learning_curve import plot_learning_curve"
      ],
      "metadata": {
        "id": "2NWnfE8gMSP-"
      },
      "execution_count": 37,
      "outputs": []
    },
    {
      "cell_type": "code",
      "source": [
        "plot_learning_curve(\n",
        "    best_estimator_spam_model,\n",
        "    'Final Model Learning Curve on 40% of Full Dataset: TFIDF and Manual',\n",
        "    X_train_combo,\n",
        "    y_train,\n",
        "    scoring = 'f1_macro',\n",
        "    n_jobs = -1)"
      ],
      "metadata": {
        "colab": {
          "base_uri": "https://localhost:8080/",
          "height": 234
        },
        "id": "wBJDSOPlLuSF",
        "outputId": "b9671c78-7eba-48fa-e247-053f827623e2"
      },
      "execution_count": 38,
      "outputs": [
        {
          "output_type": "execute_result",
          "data": {
            "text/plain": [
              "<module 'matplotlib.pyplot' from '/usr/local/lib/python3.10/dist-packages/matplotlib/pyplot.py'>"
            ]
          },
          "metadata": {},
          "execution_count": 38
        },
        {
          "output_type": "display_data",
          "data": {
            "text/plain": [
              "<Figure size 2000x500 with 3 Axes>"
            ],
            "image/png": "[encoded data removed]"
          },
          "metadata": {}
        }
      ]
    },
    {
      "cell_type": "markdown",
      "source": [
        "### **<font color='Pickle'>Observations</font>**\n",
        "\n",
        "- **<font color='Pickle'>Learning Curve:</font>**  \n",
        "  This model still shows indication of **<font color='indianred'>overfitting</font>** even on a larger dataset.\n",
        " This is because of the model nearly perfectly fitting the training data. However we can see a consistent increase in the **<font color='Pickle'>CV</font>** scores of the validation data and a slight decrease in the **<font color='Pickle'>training score</font>**, indicating that this model is generalizing ok with the addition of new data up to a point but then tapering slightly downward.\n",
        "\n",
        "- **<font color='Pickle'>Scalability of the Model:</font>**  \n",
        "  As with the combo small pipeline we can see a general upward and steady trend of fit times as the training examples increase. The fit times are slightly larger and have higher varaibility as the training examples increase as well. However, even in a limited compute enivronment we were able to only run the model for around 12 minutes using a RandomSearch and acheive good results on the CV.\n",
        "\n",
        "- **<font color='Pickle'>Performance of the Model:</font>**  \n",
        "We can see a steady improvement in model performance overall as the fit times increase. The shading around the line also shows us that the variability of the model is decreasing and stabilizing as the fit times increase.\n",
        "\n",
        "###<font color = \"pickle\">**Potential Improvements:**\n",
        "  - Given that the model is <font color = 'indianred'>**overfitting**</font> we can improve the performance further by adding more data and reducing the compexity of the model perhaps by normalizing the trees setting the lambda parameter to a higher value. This could increase the pruning and keep branches with lower output values from having as much of an impact on the model."
      ],
      "metadata": {
        "id": "cvDiuKSXSebR"
      }
    },
    {
      "cell_type": "markdown",
      "source": [
        "------------------------\n",
        "###<font color = 'Pickle'>**CV and Train Score:**"
      ],
      "metadata": {
        "id": "0Of4VngTUYo8"
      }
    },
    {
      "cell_type": "code",
      "source": [
        "# Checking train\n",
        "print(best_estimator_spam_model.score(X_train_combo,y_train))\n",
        "\n",
        "# Checking CV\n",
        "print(complete_grid_spam_model.best_score_)"
      ],
      "metadata": {
        "colab": {
          "base_uri": "https://localhost:8080/"
        },
        "id": "aQPh315IMMWq",
        "outputId": "8adfd504-787d-428a-96f4-ea2ae07c4464"
      },
      "execution_count": null,
      "outputs": [
        {
          "output_type": "stream",
          "name": "stdout",
          "text": [
            "0.9874326750448833\n",
            "0.9436366588224157\n"
          ]
        }
      ]
    },
    {
      "cell_type": "markdown",
      "source": [
        "###<font color = 'Pickle'>**Evaluating on the test set:**"
      ],
      "metadata": {
        "id": "wIBnk9uUVDN8"
      }
    },
    {
      "cell_type": "code",
      "source": [
        "def final_pipeline(text):\n",
        "  cleaned_text = joblib.load(file_X_test_final)\n",
        "  X_features,feature_names = featurizer.fit_transform(text)\n",
        "  X_combo = pd.concat((pd.DataFrame(cleaned_text, columns = ['cleaned_text']),\n",
        "                       pd.DataFrame(X_features, columns = feature_names)),axis = 1) # concatenates the cleaned_text from test with featurized data based on the row as a key.\n",
        "  best_estimator_spam_model = joblib.load(file_best_estimator_spam_model)\n",
        "  predictions = best_estimator_spam_model.predict(X_combo)\n",
        "  probabilities = best_estimator_spam_model.predict_proba(X_combo)\n",
        "  return probabilities, predictions"
      ],
      "metadata": {
        "id": "PKsBvi7QU-vc"
      },
      "execution_count": 43,
      "outputs": []
    },
    {
      "cell_type": "code",
      "source": [
        "# Final Predictions with probabilities\n",
        "y_test_prob, y_test_pred = final_pipeline(X_test)\n"
      ],
      "metadata": {
        "id": "YAJHQxZOWehX"
      },
      "execution_count": 44,
      "outputs": []
    },
    {
      "cell_type": "markdown",
      "source": [
        "###<font color = 'Pickle'>**Classification Report:**"
      ],
      "metadata": {
        "id": "bat1cqniWsON"
      }
    },
    {
      "cell_type": "code",
      "source": [
        "print('\\nTest set classification report on unseen data:\\n\\n',\n",
        "      classification_report(y_test,y_test_pred))\n",
        "\n",
        "# Create a scatter plot with color-coded points\n",
        "plt.figure(figsize=(10, 6))\n",
        "correct_predictions = y_test == y_test_pred\n",
        "incorrect_predictions = y_test != y_test_pred\n",
        "\n",
        "plt.scatter(\n",
        "    np.where(correct_predictions)[0],\n",
        "    y_test[correct_predictions],\n",
        "    color='green',\n",
        "    label='Correct Predictions',\n",
        "    alpha=0.7\n",
        ")\n",
        "plt.scatter(\n",
        "    np.where(incorrect_predictions)[0],\n",
        "    y_test[incorrect_predictions],\n",
        "    color='red',\n",
        "    label='Incorrect Predictions',\n",
        "    alpha=0.7\n",
        ")\n",
        "\n",
        "plt.xlabel('Data Point Index')\n",
        "plt.ylabel('Actual Label')\n",
        "plt.title('Predictions vs Actual with Color-Coded Accuracy')\n",
        "plt.legend()\n",
        "plt.show()\n",
        "\n",
        "# Confusion Matrix\n",
        "cm = confusion_matrix(y_test, y_test_pred)\n",
        "\n",
        "plt.figure(figsize=(11.04, 6))\n",
        "sns.heatmap(\n",
        "    cm,\n",
        "    annot=True,\n",
        "    fmt=\"d\",\n",
        "    cmap=\"Greens\",\n",
        "    xticklabels=['Ham', 'Spam'],\n",
        "    yticklabels=['Ham', 'Spam']\n",
        ")\n",
        "plt.title('Confusion Matrix')\n",
        "plt.xlabel('Predicted Label')\n",
        "plt.ylabel('True Label')\n",
        "plt.show()\n"
      ],
      "metadata": {
        "colab": {
          "base_uri": "https://localhost:8080/",
          "height": 1000
        },
        "id": "GupxNO4IWm4P",
        "outputId": "5f186cdd-8571-4ada-8d1f-457b6b4c6a65"
      },
      "execution_count": 48,
      "outputs": [
        {
          "output_type": "stream",
          "name": "stdout",
          "text": [
            "\n",
            "Test set classification report on unseen data:\n",
            "\n",
            "               precision    recall  f1-score   support\n",
            "\n",
            "           0       0.98      0.99      0.99       965\n",
            "           1       0.93      0.89      0.91       150\n",
            "\n",
            "    accuracy                           0.98      1115\n",
            "   macro avg       0.96      0.94      0.95      1115\n",
            "weighted avg       0.98      0.98      0.98      1115\n",
            "\n"
          ]
        },
        {
          "output_type": "display_data",
          "data": {
            "text/plain": [
              "<Figure size 1000x600 with 1 Axes>"
            ],
            "image/png": "[encoded data removed]"
          },
          "metadata": {}
        },
        {
          "output_type": "display_data",
          "data": {
            "text/plain": [
              "<Figure size 1104x600 with 2 Axes>"
            ],
            "image/png": "[encoded data removed]"
          },
          "metadata": {}
        }
      ]
    },
    {
      "cell_type": "markdown",
      "source": [
        "# **<font color='Pickle'>Model Interpretation Final Summary</font>**\n",
        "\n",
        "- **<font color='Pickle'>Class 0 (Ham - Majority Class):</font>**\n",
        "  - **<font color='Pickle'>Precision: 0.98</font>** – The model correctly identifies 98% of ham emails, making it highly reliable in avoiding false positives for legitimate, non-spam emails.\n",
        "  - **<font color='Pickle'>Recall: 0.99</font>** – It captures the vast majority of ham emails, missing only 1%, which is excellent coverage.\n",
        "  - **<font color='Pickle'>F1-Score: 0.99</font>** – The balance between precision and recall is excellent, giving an overall F1-score of 0.99. This shows excellent performance on the majority class.\n",
        "\n",
        "- **<font color='Pickle'>Class 1 (Spam - Minority Class):</font>**\n",
        "  - **<font color='Pickle'>Precision: 0.93</font>** – When the model predicts an email as spam, it’s accurate 93% of the time. However, there are still some false positives, meaning 7% of emails flagged as spam are actually ham.\n",
        "  - **<font color='Pickle'>Recall: 0.89</font>** – It successfully identifies 89% of the actual spam emails, showing strong spam-catching ability, though there’s still room for improvement.\n",
        "  - **<font color='Pickle'>F1-Score: 0.91</font>** – The balance between precision and recall here gives us an F1-score of 0.91. This reflects solid handling of spam, perhaps increasing the amount of data and making small hyperparameter adjustments will add to the performance.\n",
        "\n",
        "### **<font color='Pickle'>Overall Takeaway:</font>**\n",
        "\n",
        "- **<font color='Pickle'>Majority Class (Ham) Performance:</font>** The model is spot-on when it comes to identifying ham emails, with both precision and recall near perfect. Legitimate emails are rarely misclassified, making this a big win for accuracy and user experience.\n",
        "  \n",
        "- **<font color='Pickle'>Spam Detection (Minority Class):</font>** The model does a great job catching most spam emails, but with slightly lower precision, meaning some legitimate emails still get flagged as spam. The strong F1-score of 0.91 shows we’ve struck an excellent balance between catching spam and minimizing false positives.\n",
        "\n",
        "- **<font color='Pickle'>Watch Out for Overfitting:</font>** Despite the high overall performance, the slightly uneven handling of the minority class suggests some potential overfitting. This could impact generalization on unseen data, so it’s worth keeping an eye on as more data is tested.\n",
        "\n",
        "### **<font color='Pickle'>Performance Metrics Summary:</font>**\n",
        "- **<font color='Pickle'>Accuracy:</font>** 98%\n",
        "- **<font color='Pickle'>Macro Average F1-Score:</font>** 0.95\n",
        "- **<font color='Pickle'>Weighted Average F1-Score:</font>** 0.98\n"
      ],
      "metadata": {
        "id": "ZdyycJXBbBP7"
      }
    },
    {
      "cell_type": "markdown",
      "source": [
        "#<font color = 'skyblue'>**Bonus ROC-AUC plot:**"
      ],
      "metadata": {
        "id": "kq1DuXhKlJNl"
      }
    },
    {
      "cell_type": "code",
      "source": [
        "# ROC AUC plot for added experimentation\n",
        "y_pred_prob = y_test_prob[:, 1]\n",
        "fpr, tpr, thresholds = roc_curve(y_test, y_pred_prob)\n",
        "roc_auc = auc(fpr, tpr)\n",
        "\n",
        "plt.figure()\n",
        "plt.plot(fpr, tpr, color='darkorange', lw=2, label='ROC curve (area = %0.2f)' % roc_auc)\n",
        "plt.plot([0, 1], [0, 1], color='navy', lw=2, linestyle='--')\n",
        "plt.xlim([0.0, 1.0])\n",
        "plt.ylim([0.0, 1.05])\n",
        "plt.xlabel('False Positive Rate')\n",
        "plt.ylabel('True Positive Rate')\n",
        "plt.title('Receiver Operating Characteristic')\n",
        "plt.legend(loc=\"lower right\")\n",
        "plt.show()"
      ],
      "metadata": {
        "colab": {
          "base_uri": "https://localhost:8080/",
          "height": 472
        },
        "id": "q2V12kMnk3Y_",
        "outputId": "a288508b-07fd-4d7c-b012-9139177c5e63"
      },
      "execution_count": 47,
      "outputs": [
        {
          "output_type": "display_data",
          "data": {
            "text/plain": [
              "<Figure size 640x480 with 1 Axes>"
            ],
            "image/png": "[encoded data removed]"
          },
          "metadata": {}
        }
      ]
    }
  ]
}