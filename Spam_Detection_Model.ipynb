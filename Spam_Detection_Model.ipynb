{
  "nbformat": 4,
  "nbformat_minor": 0,
  "metadata": {
    "colab": {
      "provenance": []
    },
    "kernelspec": {
      "name": "python3",
      "display_name": "Python 3"
    },
    "language_info": {
      "name": "python"
    }
  },
  "cells": [
    {
      "cell_type": "markdown",
      "source": [
        "# **<font color='Pickle'>Spam Detection Modeling on Imbalanced Data</font>**\n",
        "\n",
        "This notebook serves as a practical guide for building a classification model using pipelines. The process is broken down into two main parts:\n",
        "\n",
        "- **<font color='Pickle'>Pipeline Creation:</font>** In this first portion, I’ll be creating **three separate pipelines** using smaller samples of the dataset. Each pipeline will be designed to address the challenges of working with imbalanced data, particularly in the context of spam detection.\n",
        "  \n",
        "- **<font color='Pickle'>Model Selection & Final Pipeline:</font>** The second notebook will focus on evaluating the performance of these three pipelines. I’ll select the **best-performing model** from the three and use it to create a final, robust pipeline. This final pipeline will be trained on a **larger random sample** of the dataset to enhance the model’s generalization and effectiveness.\n",
        "\n",
        "This structured approach ensures that we carefully evaluate multiple strategies before committing to the final model, especially given the complexities of working with imbalanced data in spam detection."
      ],
      "metadata": {
        "id": "0sVkAt4zo6wY"
      }
    },
    {
      "cell_type": "code",
      "source": [
        "# Import necessary libraries\n",
        "import pandas as pd\n",
        "from pathlib import Path\n",
        "import sys\n",
        "import spacy\n",
        "import numpy as np\n",
        "import matplotlib.pyplot as plt\n",
        "\n",
        "# Import the joblib library for saving and loading models\n",
        "import joblib\n",
        "\n",
        "# Import scikit-learn classes for building models\n",
        "from sklearn.feature_extraction.text import TfidfVectorizer\n",
        "from sklearn.model_selection import RandomizedSearchCV\n",
        "from sklearn.model_selection import RepeatedStratifiedKFold\n",
        "from sklearn.metrics import classification_report\n",
        "from sklearn.pipeline import Pipeline\n",
        "from sklearn.base import TransformerMixin, BaseEstimator\n",
        "from sklearn.model_selection import train_test_split\n",
        "from sklearn.compose import ColumnTransformer\n",
        "from sklearn.preprocessing import LabelEncoder\n",
        "from sklearn.model_selection import learning_curve\n",
        "\n",
        "\n",
        "# XGB classifier import\n",
        "from xgboost import XGBClassifier\n",
        "\n",
        "from imblearn.over_sampling import SMOTE\n",
        "\n",
        "# Import required stopwords\n",
        "import nltk\n",
        "from nltk.corpus import stopwords as nltk_stopwords  # Stopwords corpus\n",
        "nltk.download('stopwords')  # Download the stopwords corpus\n",
        "\n",
        "# Import the scipy library for working with sparse matrices\n",
        "from scipy.sparse import csr_matrix\n",
        "# importing counter for class distributions\n",
        "from collections import Counter"
      ],
      "metadata": {
        "colab": {
          "base_uri": "https://localhost:8080/"
        },
        "id": "IwTmVhCyCukQ",
        "outputId": "6230c7df-19c4-49bf-ee8e-40fbd5c84e7b"
      },
      "execution_count": 50,
      "outputs": [
        {
          "output_type": "stream",
          "name": "stderr",
          "text": [
            "[nltk_data] Downloading package stopwords to /root/nltk_data...\n",
            "[nltk_data]   Package stopwords is already up-to-date!\n"
          ]
        }
      ]
    },
    {
      "cell_type": "code",
      "source": [
        "%load_ext autoreload\n",
        "%autoreload 2"
      ],
      "metadata": {
        "id": "aZBPh-HqClzf"
      },
      "execution_count": 2,
      "outputs": []
    },
    {
      "cell_type": "code",
      "source": [
        "if 'google.colab' in str(get_ipython()):  # If the code is running in Colab\n",
        "    # mount google drive\n",
        "    from google.colab import drive\n",
        "    drive.mount('/content/drive')\n",
        "\n",
        "\n",
        "    !pip install -U nltk -qq # -U ensures the most updated version\n",
        "    !pip install -U spacy -qq # -qq limits the output commands to only the most important messages\n",
        "    !python -m spacy download en_core_web_sm -qq # Small model from spacy\n",
        "    # set the base path to a Google Drive folder\n",
        "    base_path = '/content/drive/MyDrive/Colab Notebooks'\n",
        "\n",
        "    sys.path.append('/content/drive/MyDrive/Colab Notebooks/custom-functions')# enabling custom function usage"
      ],
      "metadata": {
        "colab": {
          "base_uri": "https://localhost:8080/"
        },
        "id": "eg9Tej6EB_8S",
        "outputId": "042e77c1-4a64-47d5-e7ed-e6e2ba6038f6"
      },
      "execution_count": 3,
      "outputs": [
        {
          "output_type": "stream",
          "name": "stdout",
          "text": [
            "Drive already mounted at /content/drive; to attempt to forcibly remount, call drive.mount(\"/content/drive\", force_remount=True).\n",
            "\u001b[2K     \u001b[90m━━━━━━━━━━━━━━━━━━━━━━━━━━━━━━━━━━━━━━━━\u001b[0m \u001b[32m12.8/12.8 MB\u001b[0m \u001b[31m79.3 MB/s\u001b[0m eta \u001b[36m0:00:00\u001b[0m\n",
            "\u001b[?25h\u001b[38;5;2m✔ Download and installation successful\u001b[0m\n",
            "You can now load the package via spacy.load('en_core_web_sm')\n",
            "\u001b[38;5;3m⚠ Restart to reload dependencies\u001b[0m\n",
            "If you are in a Jupyter or Colab notebook, you may need to restart Python in\n",
            "order to load all the package's dependencies. You can do this by selecting the\n",
            "'Restart kernel' or 'Restart runtime' option.\n"
          ]
        }
      ]
    },
    {
      "cell_type": "code",
      "source": [
        "# Double checking path\n",
        "sys.path"
      ],
      "metadata": {
        "colab": {
          "base_uri": "https://localhost:8080/"
        },
        "id": "EwpehImPDhyU",
        "outputId": "ecddb0d4-f8be-45dd-ee9d-724c15216f3a"
      },
      "execution_count": 4,
      "outputs": [
        {
          "output_type": "execute_result",
          "data": {
            "text/plain": [
              "['/content',\n",
              " '/env/python',\n",
              " '/usr/lib/python310.zip',\n",
              " '/usr/lib/python3.10',\n",
              " '/usr/lib/python3.10/lib-dynload',\n",
              " '',\n",
              " '/usr/local/lib/python3.10/dist-packages',\n",
              " '/usr/lib/python3/dist-packages',\n",
              " '/usr/local/lib/python3.10/dist-packages/IPython/extensions',\n",
              " '/usr/local/lib/python3.10/dist-packages/setuptools/_vendor',\n",
              " '/root/.ipython',\n",
              " '/content/drive/MyDrive/Colab Notebooks/custom-functions']"
            ]
          },
          "metadata": {},
          "execution_count": 4
        }
      ]
    },
    {
      "cell_type": "code",
      "source": [
        "# Appending the data set path\n",
        "base_folder = Path(base_path)\n",
        "data_folder = base_folder/'datasets/spam_ds'\n",
        "model_folder = base_folder/'models/nlp_fall_2024/spam'"
      ],
      "metadata": {
        "id": "nVnpdpa3GcNs"
      },
      "execution_count": 5,
      "outputs": []
    },
    {
      "cell_type": "code",
      "source": [
        "# Making the directory for my models in google drive.\n",
        "model_folder.mkdir(parents=True, exist_ok=True)"
      ],
      "metadata": {
        "id": "g7kRLf6MlKf3"
      },
      "execution_count": 6,
      "outputs": []
    },
    {
      "cell_type": "code",
      "source": [
        "# location of the spam data set\n",
        "spam_file = data_folder/'spam.csv'\n",
        "\n",
        "# Creating the dataframe object for the Spam data set\n",
        "spam_df = pd.read_csv(spam_file, encoding='ISO-8859-1')"
      ],
      "metadata": {
        "id": "-0xlX6b9I0Jx"
      },
      "execution_count": 7,
      "outputs": []
    },
    {
      "cell_type": "markdown",
      "source": [
        "<font color='Pickle'> **We can see below that there are three additional columns within the data-set that have no meaning. I will start by renaming the v1 and v2 columns to label and message respectively then deleting the 3 unnamed columns.**</font>"
      ],
      "metadata": {
        "id": "HIuuABcuLdfw"
      }
    },
    {
      "cell_type": "code",
      "source": [
        "spam_df.head()"
      ],
      "metadata": {
        "colab": {
          "base_uri": "https://localhost:8080/",
          "height": 206
        },
        "id": "Gyd-wlYyLR4t",
        "outputId": "2eafc06a-b422-4898-dafe-d8645681a501"
      },
      "execution_count": 8,
      "outputs": [
        {
          "output_type": "execute_result",
          "data": {
            "text/plain": [
              "     v1                                                 v2 Unnamed: 2  \\\n",
              "0   ham  Go until jurong point, crazy.. Available only ...        NaN   \n",
              "1   ham                      Ok lar... Joking wif u oni...        NaN   \n",
              "2  spam  Free entry in 2 a wkly comp to win FA Cup fina...        NaN   \n",
              "3   ham  U dun say so early hor... U c already then say...        NaN   \n",
              "4   ham  Nah I don't think he goes to usf, he lives aro...        NaN   \n",
              "\n",
              "  Unnamed: 3 Unnamed: 4  \n",
              "0        NaN        NaN  \n",
              "1        NaN        NaN  \n",
              "2        NaN        NaN  \n",
              "3        NaN        NaN  \n",
              "4        NaN        NaN  "
            ],
            "text/html": [
              "\n",
              "  <div id=\"df-0bdb262b-e2b4-4fa5-bff8-fea5a9935075\" class=\"colab-df-container\">\n",
              "    <div>\n",
              "<style scoped>\n",
              "    .dataframe tbody tr th:only-of-type {\n",
              "        vertical-align: middle;\n",
              "    }\n",
              "\n",
              "    .dataframe tbody tr th {\n",
              "        vertical-align: top;\n",
              "    }\n",
              "\n",
              "    .dataframe thead th {\n",
              "        text-align: right;\n",
              "    }\n",
              "</style>\n",
              "<table border=\"1\" class=\"dataframe\">\n",
              "  <thead>\n",
              "    <tr style=\"text-align: right;\">\n",
              "      <th></th>\n",
              "      <th>v1</th>\n",
              "      <th>v2</th>\n",
              "      <th>Unnamed: 2</th>\n",
              "      <th>Unnamed: 3</th>\n",
              "      <th>Unnamed: 4</th>\n",
              "    </tr>\n",
              "  </thead>\n",
              "  <tbody>\n",
              "    <tr>\n",
              "      <th>0</th>\n",
              "      <td>ham</td>\n",
              "      <td>Go until jurong point, crazy.. Available only ...</td>\n",
              "      <td>NaN</td>\n",
              "      <td>NaN</td>\n",
              "      <td>NaN</td>\n",
              "    </tr>\n",
              "    <tr>\n",
              "      <th>1</th>\n",
              "      <td>ham</td>\n",
              "      <td>Ok lar... Joking wif u oni...</td>\n",
              "      <td>NaN</td>\n",
              "      <td>NaN</td>\n",
              "      <td>NaN</td>\n",
              "    </tr>\n",
              "    <tr>\n",
              "      <th>2</th>\n",
              "      <td>spam</td>\n",
              "      <td>Free entry in 2 a wkly comp to win FA Cup fina...</td>\n",
              "      <td>NaN</td>\n",
              "      <td>NaN</td>\n",
              "      <td>NaN</td>\n",
              "    </tr>\n",
              "    <tr>\n",
              "      <th>3</th>\n",
              "      <td>ham</td>\n",
              "      <td>U dun say so early hor... U c already then say...</td>\n",
              "      <td>NaN</td>\n",
              "      <td>NaN</td>\n",
              "      <td>NaN</td>\n",
              "    </tr>\n",
              "    <tr>\n",
              "      <th>4</th>\n",
              "      <td>ham</td>\n",
              "      <td>Nah I don't think he goes to usf, he lives aro...</td>\n",
              "      <td>NaN</td>\n",
              "      <td>NaN</td>\n",
              "      <td>NaN</td>\n",
              "    </tr>\n",
              "  </tbody>\n",
              "</table>\n",
              "</div>\n",
              "    <div class=\"colab-df-buttons\">\n",
              "\n",
              "  <div class=\"colab-df-container\">\n",
              "    <button class=\"colab-df-convert\" onclick=\"convertToInteractive('df-0bdb262b-e2b4-4fa5-bff8-fea5a9935075')\"\n",
              "            title=\"Convert this dataframe to an interactive table.\"\n",
              "            style=\"display:none;\">\n",
              "\n",
              "  <svg xmlns=\"http://www.w3.org/2000/svg\" height=\"24px\" viewBox=\"0 -960 960 960\">\n",
              "    <path d=\"M120-120v-720h720v720H120Zm60-500h600v-160H180v160Zm220 220h160v-160H400v160Zm0 220h160v-160H400v160ZM180-400h160v-160H180v160Zm440 0h160v-160H620v160ZM180-180h160v-160H180v160Zm440 0h160v-160H620v160Z\"/>\n",
              "  </svg>\n",
              "    </button>\n",
              "\n",
              "  <style>\n",
              "    .colab-df-container {\n",
              "      display:flex;\n",
              "      gap: 12px;\n",
              "    }\n",
              "\n",
              "    .colab-df-convert {\n",
              "      background-color: #E8F0FE;\n",
              "      border: none;\n",
              "      border-radius: 50%;\n",
              "      cursor: pointer;\n",
              "      display: none;\n",
              "      fill: #1967D2;\n",
              "      height: 32px;\n",
              "      padding: 0 0 0 0;\n",
              "      width: 32px;\n",
              "    }\n",
              "\n",
              "    .colab-df-convert:hover {\n",
              "      background-color: #E2EBFA;\n",
              "      box-shadow: 0px 1px 2px rgba(60, 64, 67, 0.3), 0px 1px 3px 1px rgba(60, 64, 67, 0.15);\n",
              "      fill: #174EA6;\n",
              "    }\n",
              "\n",
              "    .colab-df-buttons div {\n",
              "      margin-bottom: 4px;\n",
              "    }\n",
              "\n",
              "    [theme=dark] .colab-df-convert {\n",
              "      background-color: #3B4455;\n",
              "      fill: #D2E3FC;\n",
              "    }\n",
              "\n",
              "    [theme=dark] .colab-df-convert:hover {\n",
              "      background-color: #434B5C;\n",
              "      box-shadow: 0px 1px 3px 1px rgba(0, 0, 0, 0.15);\n",
              "      filter: drop-shadow(0px 1px 2px rgba(0, 0, 0, 0.3));\n",
              "      fill: #FFFFFF;\n",
              "    }\n",
              "  </style>\n",
              "\n",
              "    <script>\n",
              "      const buttonEl =\n",
              "        document.querySelector('#df-0bdb262b-e2b4-4fa5-bff8-fea5a9935075 button.colab-df-convert');\n",
              "      buttonEl.style.display =\n",
              "        google.colab.kernel.accessAllowed ? 'block' : 'none';\n",
              "\n",
              "      async function convertToInteractive(key) {\n",
              "        const element = document.querySelector('#df-0bdb262b-e2b4-4fa5-bff8-fea5a9935075');\n",
              "        const dataTable =\n",
              "          await google.colab.kernel.invokeFunction('convertToInteractive',\n",
              "                                                    [key], {});\n",
              "        if (!dataTable) return;\n",
              "\n",
              "        const docLinkHtml = 'Like what you see? Visit the ' +\n",
              "          '<a target=\"_blank\" href=https://colab.research.google.com/notebooks/data_table.ipynb>data table notebook</a>'\n",
              "          + ' to learn more about interactive tables.';\n",
              "        element.innerHTML = '';\n",
              "        dataTable['output_type'] = 'display_data';\n",
              "        await google.colab.output.renderOutput(dataTable, element);\n",
              "        const docLink = document.createElement('div');\n",
              "        docLink.innerHTML = docLinkHtml;\n",
              "        element.appendChild(docLink);\n",
              "      }\n",
              "    </script>\n",
              "  </div>\n",
              "\n",
              "\n",
              "<div id=\"df-c821e57a-2133-460d-b798-8f7535c1f25a\">\n",
              "  <button class=\"colab-df-quickchart\" onclick=\"quickchart('df-c821e57a-2133-460d-b798-8f7535c1f25a')\"\n",
              "            title=\"Suggest charts\"\n",
              "            style=\"display:none;\">\n",
              "\n",
              "<svg xmlns=\"http://www.w3.org/2000/svg\" height=\"24px\"viewBox=\"0 0 24 24\"\n",
              "     width=\"24px\">\n",
              "    <g>\n",
              "        <path d=\"M19 3H5c-1.1 0-2 .9-2 2v14c0 1.1.9 2 2 2h14c1.1 0 2-.9 2-2V5c0-1.1-.9-2-2-2zM9 17H7v-7h2v7zm4 0h-2V7h2v10zm4 0h-2v-4h2v4z\"/>\n",
              "    </g>\n",
              "</svg>\n",
              "  </button>\n",
              "\n",
              "<style>\n",
              "  .colab-df-quickchart {\n",
              "      --bg-color: #E8F0FE;\n",
              "      --fill-color: #1967D2;\n",
              "      --hover-bg-color: #E2EBFA;\n",
              "      --hover-fill-color: #174EA6;\n",
              "      --disabled-fill-color: #AAA;\n",
              "      --disabled-bg-color: #DDD;\n",
              "  }\n",
              "\n",
              "  [theme=dark] .colab-df-quickchart {\n",
              "      --bg-color: #3B4455;\n",
              "      --fill-color: #D2E3FC;\n",
              "      --hover-bg-color: #434B5C;\n",
              "      --hover-fill-color: #FFFFFF;\n",
              "      --disabled-bg-color: #3B4455;\n",
              "      --disabled-fill-color: #666;\n",
              "  }\n",
              "\n",
              "  .colab-df-quickchart {\n",
              "    background-color: var(--bg-color);\n",
              "    border: none;\n",
              "    border-radius: 50%;\n",
              "    cursor: pointer;\n",
              "    display: none;\n",
              "    fill: var(--fill-color);\n",
              "    height: 32px;\n",
              "    padding: 0;\n",
              "    width: 32px;\n",
              "  }\n",
              "\n",
              "  .colab-df-quickchart:hover {\n",
              "    background-color: var(--hover-bg-color);\n",
              "    box-shadow: 0 1px 2px rgba(60, 64, 67, 0.3), 0 1px 3px 1px rgba(60, 64, 67, 0.15);\n",
              "    fill: var(--button-hover-fill-color);\n",
              "  }\n",
              "\n",
              "  .colab-df-quickchart-complete:disabled,\n",
              "  .colab-df-quickchart-complete:disabled:hover {\n",
              "    background-color: var(--disabled-bg-color);\n",
              "    fill: var(--disabled-fill-color);\n",
              "    box-shadow: none;\n",
              "  }\n",
              "\n",
              "  .colab-df-spinner {\n",
              "    border: 2px solid var(--fill-color);\n",
              "    border-color: transparent;\n",
              "    border-bottom-color: var(--fill-color);\n",
              "    animation:\n",
              "      spin 1s steps(1) infinite;\n",
              "  }\n",
              "\n",
              "  @keyframes spin {\n",
              "    0% {\n",
              "      border-color: transparent;\n",
              "      border-bottom-color: var(--fill-color);\n",
              "      border-left-color: var(--fill-color);\n",
              "    }\n",
              "    20% {\n",
              "      border-color: transparent;\n",
              "      border-left-color: var(--fill-color);\n",
              "      border-top-color: var(--fill-color);\n",
              "    }\n",
              "    30% {\n",
              "      border-color: transparent;\n",
              "      border-left-color: var(--fill-color);\n",
              "      border-top-color: var(--fill-color);\n",
              "      border-right-color: var(--fill-color);\n",
              "    }\n",
              "    40% {\n",
              "      border-color: transparent;\n",
              "      border-right-color: var(--fill-color);\n",
              "      border-top-color: var(--fill-color);\n",
              "    }\n",
              "    60% {\n",
              "      border-color: transparent;\n",
              "      border-right-color: var(--fill-color);\n",
              "    }\n",
              "    80% {\n",
              "      border-color: transparent;\n",
              "      border-right-color: var(--fill-color);\n",
              "      border-bottom-color: var(--fill-color);\n",
              "    }\n",
              "    90% {\n",
              "      border-color: transparent;\n",
              "      border-bottom-color: var(--fill-color);\n",
              "    }\n",
              "  }\n",
              "</style>\n",
              "\n",
              "  <script>\n",
              "    async function quickchart(key) {\n",
              "      const quickchartButtonEl =\n",
              "        document.querySelector('#' + key + ' button');\n",
              "      quickchartButtonEl.disabled = true;  // To prevent multiple clicks.\n",
              "      quickchartButtonEl.classList.add('colab-df-spinner');\n",
              "      try {\n",
              "        const charts = await google.colab.kernel.invokeFunction(\n",
              "            'suggestCharts', [key], {});\n",
              "      } catch (error) {\n",
              "        console.error('Error during call to suggestCharts:', error);\n",
              "      }\n",
              "      quickchartButtonEl.classList.remove('colab-df-spinner');\n",
              "      quickchartButtonEl.classList.add('colab-df-quickchart-complete');\n",
              "    }\n",
              "    (() => {\n",
              "      let quickchartButtonEl =\n",
              "        document.querySelector('#df-c821e57a-2133-460d-b798-8f7535c1f25a button');\n",
              "      quickchartButtonEl.style.display =\n",
              "        google.colab.kernel.accessAllowed ? 'block' : 'none';\n",
              "    })();\n",
              "  </script>\n",
              "</div>\n",
              "\n",
              "    </div>\n",
              "  </div>\n"
            ],
            "application/vnd.google.colaboratory.intrinsic+json": {
              "type": "dataframe",
              "variable_name": "spam_df",
              "summary": "{\n  \"name\": \"spam_df\",\n  \"rows\": 5572,\n  \"fields\": [\n    {\n      \"column\": \"v1\",\n      \"properties\": {\n        \"dtype\": \"category\",\n        \"num_unique_values\": 2,\n        \"samples\": [\n          \"spam\",\n          \"ham\"\n        ],\n        \"semantic_type\": \"\",\n        \"description\": \"\"\n      }\n    },\n    {\n      \"column\": \"v2\",\n      \"properties\": {\n        \"dtype\": \"string\",\n        \"num_unique_values\": 5169,\n        \"samples\": [\n          \"Did u download the fring app?\",\n          \"Pass dis to all ur contacts n see wat u get! Red;i'm in luv wid u. Blue;u put a smile on my face. Purple;u r realy hot. Pink;u r so swt. Orange;i thnk i lyk u. Green;i realy wana go out wid u. Yelow;i wnt u bck. Black;i'm jealous of u. Brown;i miss you Nw plz giv me one color\"\n        ],\n        \"semantic_type\": \"\",\n        \"description\": \"\"\n      }\n    },\n    {\n      \"column\": \"Unnamed: 2\",\n      \"properties\": {\n        \"dtype\": \"category\",\n        \"num_unique_values\": 43,\n        \"samples\": [\n          \" GOD said\",\n          \" SHE SHUDVETOLD U. DID URGRAN KNOW?NEWAY\"\n        ],\n        \"semantic_type\": \"\",\n        \"description\": \"\"\n      }\n    },\n    {\n      \"column\": \"Unnamed: 3\",\n      \"properties\": {\n        \"dtype\": \"category\",\n        \"num_unique_values\": 10,\n        \"samples\": [\n          \" \\\\\\\"OH No! COMPETITION\\\\\\\". Who knew\",\n          \" why to miss them\"\n        ],\n        \"semantic_type\": \"\",\n        \"description\": \"\"\n      }\n    },\n    {\n      \"column\": \"Unnamed: 4\",\n      \"properties\": {\n        \"dtype\": \"category\",\n        \"num_unique_values\": 5,\n        \"samples\": [\n          \"GNT:-)\\\"\",\n          \" one day these two will become FREINDS FOREVER!\\\"\"\n        ],\n        \"semantic_type\": \"\",\n        \"description\": \"\"\n      }\n    }\n  ]\n}"
            }
          },
          "metadata": {},
          "execution_count": 8
        }
      ]
    },
    {
      "cell_type": "code",
      "source": [
        "# Setting up label encoder for future use\n",
        "label_encoder = LabelEncoder()"
      ],
      "metadata": {
        "id": "qg96-XFzXhT5"
      },
      "execution_count": 9,
      "outputs": []
    },
    {
      "cell_type": "code",
      "source": [
        "# Renaming\n",
        "spam_df= spam_df.rename(columns = {'v1': 'label','v2': 'message'})\n",
        "\n",
        "# Deleting\n",
        "spam_df = spam_df.drop(columns = {'Unnamed: 2','Unnamed: 3','Unnamed: 4'})\n",
        "\n",
        "# Resetting index\n",
        "spam_df = spam_df.reset_index(drop = True)\n",
        "\n",
        "# New df\n",
        "spam_df.head()"
      ],
      "metadata": {
        "colab": {
          "base_uri": "https://localhost:8080/",
          "height": 206
        },
        "id": "rtj3NZYNL4fQ",
        "outputId": "dbb704b9-0f97-4e29-a960-f00cb42b5425"
      },
      "execution_count": 10,
      "outputs": [
        {
          "output_type": "execute_result",
          "data": {
            "text/plain": [
              "  label                                            message\n",
              "0   ham  Go until jurong point, crazy.. Available only ...\n",
              "1   ham                      Ok lar... Joking wif u oni...\n",
              "2  spam  Free entry in 2 a wkly comp to win FA Cup fina...\n",
              "3   ham  U dun say so early hor... U c already then say...\n",
              "4   ham  Nah I don't think he goes to usf, he lives aro..."
            ],
            "text/html": [
              "\n",
              "  <div id=\"df-038bf734-3b25-4e05-9fd5-a937e389d979\" class=\"colab-df-container\">\n",
              "    <div>\n",
              "<style scoped>\n",
              "    .dataframe tbody tr th:only-of-type {\n",
              "        vertical-align: middle;\n",
              "    }\n",
              "\n",
              "    .dataframe tbody tr th {\n",
              "        vertical-align: top;\n",
              "    }\n",
              "\n",
              "    .dataframe thead th {\n",
              "        text-align: right;\n",
              "    }\n",
              "</style>\n",
              "<table border=\"1\" class=\"dataframe\">\n",
              "  <thead>\n",
              "    <tr style=\"text-align: right;\">\n",
              "      <th></th>\n",
              "      <th>label</th>\n",
              "      <th>message</th>\n",
              "    </tr>\n",
              "  </thead>\n",
              "  <tbody>\n",
              "    <tr>\n",
              "      <th>0</th>\n",
              "      <td>ham</td>\n",
              "      <td>Go until jurong point, crazy.. Available only ...</td>\n",
              "    </tr>\n",
              "    <tr>\n",
              "      <th>1</th>\n",
              "      <td>ham</td>\n",
              "      <td>Ok lar... Joking wif u oni...</td>\n",
              "    </tr>\n",
              "    <tr>\n",
              "      <th>2</th>\n",
              "      <td>spam</td>\n",
              "      <td>Free entry in 2 a wkly comp to win FA Cup fina...</td>\n",
              "    </tr>\n",
              "    <tr>\n",
              "      <th>3</th>\n",
              "      <td>ham</td>\n",
              "      <td>U dun say so early hor... U c already then say...</td>\n",
              "    </tr>\n",
              "    <tr>\n",
              "      <th>4</th>\n",
              "      <td>ham</td>\n",
              "      <td>Nah I don't think he goes to usf, he lives aro...</td>\n",
              "    </tr>\n",
              "  </tbody>\n",
              "</table>\n",
              "</div>\n",
              "    <div class=\"colab-df-buttons\">\n",
              "\n",
              "  <div class=\"colab-df-container\">\n",
              "    <button class=\"colab-df-convert\" onclick=\"convertToInteractive('df-038bf734-3b25-4e05-9fd5-a937e389d979')\"\n",
              "            title=\"Convert this dataframe to an interactive table.\"\n",
              "            style=\"display:none;\">\n",
              "\n",
              "  <svg xmlns=\"http://www.w3.org/2000/svg\" height=\"24px\" viewBox=\"0 -960 960 960\">\n",
              "    <path d=\"M120-120v-720h720v720H120Zm60-500h600v-160H180v160Zm220 220h160v-160H400v160Zm0 220h160v-160H400v160ZM180-400h160v-160H180v160Zm440 0h160v-160H620v160ZM180-180h160v-160H180v160Zm440 0h160v-160H620v160Z\"/>\n",
              "  </svg>\n",
              "    </button>\n",
              "\n",
              "  <style>\n",
              "    .colab-df-container {\n",
              "      display:flex;\n",
              "      gap: 12px;\n",
              "    }\n",
              "\n",
              "    .colab-df-convert {\n",
              "      background-color: #E8F0FE;\n",
              "      border: none;\n",
              "      border-radius: 50%;\n",
              "      cursor: pointer;\n",
              "      display: none;\n",
              "      fill: #1967D2;\n",
              "      height: 32px;\n",
              "      padding: 0 0 0 0;\n",
              "      width: 32px;\n",
              "    }\n",
              "\n",
              "    .colab-df-convert:hover {\n",
              "      background-color: #E2EBFA;\n",
              "      box-shadow: 0px 1px 2px rgba(60, 64, 67, 0.3), 0px 1px 3px 1px rgba(60, 64, 67, 0.15);\n",
              "      fill: #174EA6;\n",
              "    }\n",
              "\n",
              "    .colab-df-buttons div {\n",
              "      margin-bottom: 4px;\n",
              "    }\n",
              "\n",
              "    [theme=dark] .colab-df-convert {\n",
              "      background-color: #3B4455;\n",
              "      fill: #D2E3FC;\n",
              "    }\n",
              "\n",
              "    [theme=dark] .colab-df-convert:hover {\n",
              "      background-color: #434B5C;\n",
              "      box-shadow: 0px 1px 3px 1px rgba(0, 0, 0, 0.15);\n",
              "      filter: drop-shadow(0px 1px 2px rgba(0, 0, 0, 0.3));\n",
              "      fill: #FFFFFF;\n",
              "    }\n",
              "  </style>\n",
              "\n",
              "    <script>\n",
              "      const buttonEl =\n",
              "        document.querySelector('#df-038bf734-3b25-4e05-9fd5-a937e389d979 button.colab-df-convert');\n",
              "      buttonEl.style.display =\n",
              "        google.colab.kernel.accessAllowed ? 'block' : 'none';\n",
              "\n",
              "      async function convertToInteractive(key) {\n",
              "        const element = document.querySelector('#df-038bf734-3b25-4e05-9fd5-a937e389d979');\n",
              "        const dataTable =\n",
              "          await google.colab.kernel.invokeFunction('convertToInteractive',\n",
              "                                                    [key], {});\n",
              "        if (!dataTable) return;\n",
              "\n",
              "        const docLinkHtml = 'Like what you see? Visit the ' +\n",
              "          '<a target=\"_blank\" href=https://colab.research.google.com/notebooks/data_table.ipynb>data table notebook</a>'\n",
              "          + ' to learn more about interactive tables.';\n",
              "        element.innerHTML = '';\n",
              "        dataTable['output_type'] = 'display_data';\n",
              "        await google.colab.output.renderOutput(dataTable, element);\n",
              "        const docLink = document.createElement('div');\n",
              "        docLink.innerHTML = docLinkHtml;\n",
              "        element.appendChild(docLink);\n",
              "      }\n",
              "    </script>\n",
              "  </div>\n",
              "\n",
              "\n",
              "<div id=\"df-43a490ca-5f0b-48b5-9b4d-58cf6c938e26\">\n",
              "  <button class=\"colab-df-quickchart\" onclick=\"quickchart('df-43a490ca-5f0b-48b5-9b4d-58cf6c938e26')\"\n",
              "            title=\"Suggest charts\"\n",
              "            style=\"display:none;\">\n",
              "\n",
              "<svg xmlns=\"http://www.w3.org/2000/svg\" height=\"24px\"viewBox=\"0 0 24 24\"\n",
              "     width=\"24px\">\n",
              "    <g>\n",
              "        <path d=\"M19 3H5c-1.1 0-2 .9-2 2v14c0 1.1.9 2 2 2h14c1.1 0 2-.9 2-2V5c0-1.1-.9-2-2-2zM9 17H7v-7h2v7zm4 0h-2V7h2v10zm4 0h-2v-4h2v4z\"/>\n",
              "    </g>\n",
              "</svg>\n",
              "  </button>\n",
              "\n",
              "<style>\n",
              "  .colab-df-quickchart {\n",
              "      --bg-color: #E8F0FE;\n",
              "      --fill-color: #1967D2;\n",
              "      --hover-bg-color: #E2EBFA;\n",
              "      --hover-fill-color: #174EA6;\n",
              "      --disabled-fill-color: #AAA;\n",
              "      --disabled-bg-color: #DDD;\n",
              "  }\n",
              "\n",
              "  [theme=dark] .colab-df-quickchart {\n",
              "      --bg-color: #3B4455;\n",
              "      --fill-color: #D2E3FC;\n",
              "      --hover-bg-color: #434B5C;\n",
              "      --hover-fill-color: #FFFFFF;\n",
              "      --disabled-bg-color: #3B4455;\n",
              "      --disabled-fill-color: #666;\n",
              "  }\n",
              "\n",
              "  .colab-df-quickchart {\n",
              "    background-color: var(--bg-color);\n",
              "    border: none;\n",
              "    border-radius: 50%;\n",
              "    cursor: pointer;\n",
              "    display: none;\n",
              "    fill: var(--fill-color);\n",
              "    height: 32px;\n",
              "    padding: 0;\n",
              "    width: 32px;\n",
              "  }\n",
              "\n",
              "  .colab-df-quickchart:hover {\n",
              "    background-color: var(--hover-bg-color);\n",
              "    box-shadow: 0 1px 2px rgba(60, 64, 67, 0.3), 0 1px 3px 1px rgba(60, 64, 67, 0.15);\n",
              "    fill: var(--button-hover-fill-color);\n",
              "  }\n",
              "\n",
              "  .colab-df-quickchart-complete:disabled,\n",
              "  .colab-df-quickchart-complete:disabled:hover {\n",
              "    background-color: var(--disabled-bg-color);\n",
              "    fill: var(--disabled-fill-color);\n",
              "    box-shadow: none;\n",
              "  }\n",
              "\n",
              "  .colab-df-spinner {\n",
              "    border: 2px solid var(--fill-color);\n",
              "    border-color: transparent;\n",
              "    border-bottom-color: var(--fill-color);\n",
              "    animation:\n",
              "      spin 1s steps(1) infinite;\n",
              "  }\n",
              "\n",
              "  @keyframes spin {\n",
              "    0% {\n",
              "      border-color: transparent;\n",
              "      border-bottom-color: var(--fill-color);\n",
              "      border-left-color: var(--fill-color);\n",
              "    }\n",
              "    20% {\n",
              "      border-color: transparent;\n",
              "      border-left-color: var(--fill-color);\n",
              "      border-top-color: var(--fill-color);\n",
              "    }\n",
              "    30% {\n",
              "      border-color: transparent;\n",
              "      border-left-color: var(--fill-color);\n",
              "      border-top-color: var(--fill-color);\n",
              "      border-right-color: var(--fill-color);\n",
              "    }\n",
              "    40% {\n",
              "      border-color: transparent;\n",
              "      border-right-color: var(--fill-color);\n",
              "      border-top-color: var(--fill-color);\n",
              "    }\n",
              "    60% {\n",
              "      border-color: transparent;\n",
              "      border-right-color: var(--fill-color);\n",
              "    }\n",
              "    80% {\n",
              "      border-color: transparent;\n",
              "      border-right-color: var(--fill-color);\n",
              "      border-bottom-color: var(--fill-color);\n",
              "    }\n",
              "    90% {\n",
              "      border-color: transparent;\n",
              "      border-bottom-color: var(--fill-color);\n",
              "    }\n",
              "  }\n",
              "</style>\n",
              "\n",
              "  <script>\n",
              "    async function quickchart(key) {\n",
              "      const quickchartButtonEl =\n",
              "        document.querySelector('#' + key + ' button');\n",
              "      quickchartButtonEl.disabled = true;  // To prevent multiple clicks.\n",
              "      quickchartButtonEl.classList.add('colab-df-spinner');\n",
              "      try {\n",
              "        const charts = await google.colab.kernel.invokeFunction(\n",
              "            'suggestCharts', [key], {});\n",
              "      } catch (error) {\n",
              "        console.error('Error during call to suggestCharts:', error);\n",
              "      }\n",
              "      quickchartButtonEl.classList.remove('colab-df-spinner');\n",
              "      quickchartButtonEl.classList.add('colab-df-quickchart-complete');\n",
              "    }\n",
              "    (() => {\n",
              "      let quickchartButtonEl =\n",
              "        document.querySelector('#df-43a490ca-5f0b-48b5-9b4d-58cf6c938e26 button');\n",
              "      quickchartButtonEl.style.display =\n",
              "        google.colab.kernel.accessAllowed ? 'block' : 'none';\n",
              "    })();\n",
              "  </script>\n",
              "</div>\n",
              "\n",
              "    </div>\n",
              "  </div>\n"
            ],
            "application/vnd.google.colaboratory.intrinsic+json": {
              "type": "dataframe",
              "variable_name": "spam_df",
              "summary": "{\n  \"name\": \"spam_df\",\n  \"rows\": 5572,\n  \"fields\": [\n    {\n      \"column\": \"label\",\n      \"properties\": {\n        \"dtype\": \"category\",\n        \"num_unique_values\": 2,\n        \"samples\": [\n          \"spam\",\n          \"ham\"\n        ],\n        \"semantic_type\": \"\",\n        \"description\": \"\"\n      }\n    },\n    {\n      \"column\": \"message\",\n      \"properties\": {\n        \"dtype\": \"string\",\n        \"num_unique_values\": 5169,\n        \"samples\": [\n          \"Did u download the fring app?\",\n          \"Pass dis to all ur contacts n see wat u get! Red;i'm in luv wid u. Blue;u put a smile on my face. Purple;u r realy hot. Pink;u r so swt. Orange;i thnk i lyk u. Green;i realy wana go out wid u. Yelow;i wnt u bck. Black;i'm jealous of u. Brown;i miss you Nw plz giv me one color\"\n        ],\n        \"semantic_type\": \"\",\n        \"description\": \"\"\n      }\n    }\n  ]\n}"
            }
          },
          "metadata": {},
          "execution_count": 10
        }
      ]
    },
    {
      "cell_type": "code",
      "source": [
        "print('Spam Data Shape:', spam_df.shape)"
      ],
      "metadata": {
        "colab": {
          "base_uri": "https://localhost:8080/"
        },
        "id": "ZgUGIm6zMrGo",
        "outputId": "f08efff9-1c6a-4c32-8338-b8f667813bf9"
      },
      "execution_count": 11,
      "outputs": [
        {
          "output_type": "stream",
          "name": "stdout",
          "text": [
            "Spam Data Shape: (5572, 2)\n"
          ]
        }
      ]
    },
    {
      "cell_type": "code",
      "source": [
        "# Finding percentages of ham and spam\n",
        "spam_df['label'].value_counts(normalize = True) # Normalize shows the proportion."
      ],
      "metadata": {
        "colab": {
          "base_uri": "https://localhost:8080/",
          "height": 178
        },
        "id": "yWKeXFkPNBa8",
        "outputId": "283224c4-8f4f-4b76-c697-5fade7ab3043"
      },
      "execution_count": 12,
      "outputs": [
        {
          "output_type": "execute_result",
          "data": {
            "text/plain": [
              "label\n",
              "ham     0.865937\n",
              "spam    0.134063\n",
              "Name: proportion, dtype: float64"
            ],
            "text/html": [
              "<div>\n",
              "<style scoped>\n",
              "    .dataframe tbody tr th:only-of-type {\n",
              "        vertical-align: middle;\n",
              "    }\n",
              "\n",
              "    .dataframe tbody tr th {\n",
              "        vertical-align: top;\n",
              "    }\n",
              "\n",
              "    .dataframe thead th {\n",
              "        text-align: right;\n",
              "    }\n",
              "</style>\n",
              "<table border=\"1\" class=\"dataframe\">\n",
              "  <thead>\n",
              "    <tr style=\"text-align: right;\">\n",
              "      <th></th>\n",
              "      <th>proportion</th>\n",
              "    </tr>\n",
              "    <tr>\n",
              "      <th>label</th>\n",
              "      <th></th>\n",
              "    </tr>\n",
              "  </thead>\n",
              "  <tbody>\n",
              "    <tr>\n",
              "      <th>ham</th>\n",
              "      <td>0.865937</td>\n",
              "    </tr>\n",
              "    <tr>\n",
              "      <th>spam</th>\n",
              "      <td>0.134063</td>\n",
              "    </tr>\n",
              "  </tbody>\n",
              "</table>\n",
              "</div><br><label><b>dtype:</b> float64</label>"
            ]
          },
          "metadata": {},
          "execution_count": 12
        }
      ]
    },
    {
      "cell_type": "markdown",
      "source": [
        "<font color='Pickle'>**Observations on Class Imbalance**</font>\n",
        "\n",
        "We can observe a <font color='Pickle'>**significant class imbalance**</font> in the dataset:\n",
        "\n",
        "- <font color='Pickle'>**Ham**:</font> Represents the proportion of email messages that are not spam, making up approximately **87%** of the dataset.\n",
        "- <font color='Pickle'>**Spam**:</font> Represents the spam emails, accounting for only about **13%** of the data.\n",
        "\n",
        "This imbalance highlights the need for careful consideration in model training to ensure that the <font color='Pickle'>**minority class (Spam)**</font> is adequately represented and that the model doesn't become biased towards the <font color='Pickle'>**majority class (Ham)**</font>.\n"
      ],
      "metadata": {
        "id": "-3CFrz11OWME"
      }
    },
    {
      "cell_type": "markdown",
      "source": [
        "# **<font color='Pickle'>Metric for Evaluating the Model:**\n",
        "\n",
        "## **<font color='Pickle'>F1 Score**\n",
        "\n",
        "Given the stark class imbalance between Spam and Ham, it's crucial to select the most appropriate metric for evaluating our model, as the traditional metric of accuracy will not suffice. Always predicting messages as ham would yield an accuracy of 87%, but this wouldn't truly reflect the model's performance in classifying spam.\n",
        "\n",
        "The optimal metric for this situation is the **<font color='Pickle'>F1 Score</font>**, a harmonic mean of two critical metrics: **<font color='Pickle'>Precision</font>** and **<font color='Pickle'>Recall</font>**.\n",
        "\n",
        "### **<font color='Pickle'>Precision</font>**\n",
        "Precision is calculated using the formula:\n",
        "\n",
        "<font color='Pickle'>**Precision = TP / (TP + FP)**</font>\n",
        "\n",
        "where:\n",
        "- **<font color='Pickle'>TP</font>** (True Positives): The number of correctly classified spam messages.\n",
        "- **<font color='Pickle'>FP</font>** (False Positives): The number of messages incorrectly classified as spam.\n",
        "\n",
        "A high **<font color='Pickle'>Precision</font>** value indicates that the model makes few mistakes when predicting positive instances (i.e., spam).\n",
        "\n",
        "### **<font color='Pickle'>Recall</font>**\n",
        "Recall (also known as sensitivity or true positive rate) is the ratio of true positive predictions to the total number of actual positive instances within the dataset. It is represented by the formula:\n",
        "\n",
        "<font color = 'Pickle'>**Recall = TP / (TP + FN)**\n",
        "\n",
        "where:\n",
        "- **<font color='Pickle'>FN</font>** (False Negatives): The number of messages that are actually spam but have been incorrectly classified as ham.\n",
        "\n",
        "**<font color='Pickle'>Recall</font>** answers the question: \"Out of all the positive instances in the dataset, how many did we correctly predict?\"\n",
        "\n",
        "### **<font color='Pickle'>F1 Score</font>**\n",
        "The **<font color='Pickle'>F1 Score</font>**, as mentioned above, is the harmonic mean of **<font color='Pickle'>Precision</font>** and **<font color='Pickle'>Recall</font>**, represented by the formula:\n",
        "\n",
        "**<font color='Pickle'> F1 Score = 2(Precision x Recall) / (Precision + Recall)**\n",
        "\n",
        "The harmonic mean is used here because it gives greater weight to lower values. This means that the **<font color='Pickle'>F1 Score</font>** will only be high if both **<font color='Pickle'>precision</font>** and **<font color='Pickle'>recall</font>** are high. If either metric is low, then the **<font color='Pickle'>F1 score</font>** will also be low. This ensures that a model with a precision of 0.8 and recall of 0.1 will have a lower **<font color='Pickle'>F1 score</font>** than a model with a precision and recall both at 0.6.\n",
        "\n",
        "\n",
        "\n",
        "\n"
      ],
      "metadata": {
        "id": "VpG5hjQqYMRF"
      }
    },
    {
      "cell_type": "markdown",
      "source": [
        "# **<font color='Pickle'>Classification Pipelines**\n",
        "Below I am creating three model Pipelines to test which is most effective at classification. Each Pipeline will be evaluated on 10% of the full data set. After I evaluate each model I will create a second notebook to use the best model weights to train a model on a randomly selected 40% of the data where it will then be evaluated on a test set of un-seen data.\n",
        "\n",
        "\n"
      ],
      "metadata": {
        "id": "Bv9efsGmfvAX"
      }
    },
    {
      "cell_type": "markdown",
      "source": [
        "### <font color ='pickle'>**Creating Pipeline data subsets**"
      ],
      "metadata": {
        "id": "VMQ1Vxb7lvO_"
      }
    },
    {
      "cell_type": "code",
      "source": [
        "# Sampling for Sparse Embedding Pipeline\n",
        "sparse_df = spam_df.sample(frac = 0.1,random_state = 42)\n",
        "\n",
        "# Feature Engineering Pipeline sampling\n",
        "fe_df = sparse_df\n",
        "\n",
        "# Feature engineering and Sparse Embedding Pipeline\n",
        "s_fe_df = sparse_df\n",
        "\n",
        "# New df without sparse for later use\n",
        "remain_df = spam_df.drop(sparse_df.index)\n",
        "\n",
        "file_remain_df = data_folder/'remain_df.pkl'\n",
        "\n",
        "joblib.dump(remain_df,file_remain_df)\n"
      ],
      "metadata": {
        "id": "nMJX6TIFgy5O",
        "colab": {
          "base_uri": "https://localhost:8080/"
        },
        "outputId": "335e5e5d-42ac-48b4-e880-13f187c7931b"
      },
      "execution_count": 13,
      "outputs": [
        {
          "output_type": "execute_result",
          "data": {
            "text/plain": [
              "['/content/drive/MyDrive/Colab Notebooks/datasets/spam_ds/remain_df.pkl']"
            ]
          },
          "metadata": {},
          "execution_count": 13
        }
      ]
    },
    {
      "cell_type": "markdown",
      "source": [
        "# **<font color='Pickle'>Pipeline 1: Preprocessing + Sparse Embeddings Pipeline + ML model</font>**\n",
        "\n",
        "## **<font color='Pickle'>For this pipeline, I will:</font>**\n",
        "\n",
        "- Sample 10% of the entire dataset.\n",
        "- Split the subset into train and test sets.\n",
        "- Preprocess the data using the Spacy preprocessor\n",
        "- Create the data pipeline that uses a <font color = 'Pickle'>**TFIDF vectorizer**</font> and an <font color ='Pickle'>**XGBoost**</font> model.\n",
        "- Train the hyperparameters of the model using <font color = 'Pickle'>**RandomSearchCV**</font> and 5-fold cross-validation.\n",
        "- Fit the best parameters on the training data to evaluate the model.\n",
        "- Plot the learning curves of the model based on a model performance metric <font color = 'Pickle'>**(F1 score)**</font>\n",
        "- Evaluate the model on the test data set by printing the classification report.\n",
        "\n",
        "\n"
      ],
      "metadata": {
        "id": "2S5cbbQ6tAew"
      }
    },
    {
      "cell_type": "code",
      "source": [
        "# Splitting into training and temp data\n",
        "train_s_df,test_s_df = train_test_split(sparse_df, test_size = 0.4, random_state = 42)"
      ],
      "metadata": {
        "id": "cm6YlymHwQLz"
      },
      "execution_count": 14,
      "outputs": []
    },
    {
      "cell_type": "code",
      "source": [
        "print('Train class distribution:',train_s_df['label'].value_counts())\n",
        "\n",
        "print('-'*30)\n",
        "print('Test class distribution:',test_s_df['label'].value_counts())\n"
      ],
      "metadata": {
        "colab": {
          "base_uri": "https://localhost:8080/"
        },
        "id": "4o6eoS2M2rvu",
        "outputId": "b3cfffb1-ce41-43a9-b8a5-0c4a8199a377"
      },
      "execution_count": 15,
      "outputs": [
        {
          "output_type": "stream",
          "name": "stdout",
          "text": [
            "Train class distribution: label\n",
            "ham     303\n",
            "spam     31\n",
            "Name: count, dtype: int64\n",
            "------------------------------\n",
            "Test class distribution: label\n",
            "ham     187\n",
            "spam     36\n",
            "Name: count, dtype: int64\n"
          ]
        }
      ]
    },
    {
      "cell_type": "code",
      "source": [
        "# Seperating independent and dependent columns and Label Encoding\n",
        "X_train_s = train_s_df['message'].values\n",
        "X_test_s = test_s_df['message'].values\n",
        "\n",
        "y_train_s = train_s_df['label'].values\n",
        "y_test_s = test_s_df['label'].values\n",
        "\n",
        "y_train_s_encoded = label_encoder.fit_transform(y_train_s)\n",
        "y_test_s_encoded = label_encoder.transform(y_test_s)\n",
        "\n",
        "# Checking class distributions\n",
        "train_distribution = Counter(y_train_s_encoded)\n",
        "print(\"Training set distribution:\", train_distribution)\n",
        "\n",
        "test_distribution = Counter(y_test_s_encoded)\n",
        "print(\"Test set distribution:\", test_distribution)"
      ],
      "metadata": {
        "id": "daBbeGPXj_mz",
        "colab": {
          "base_uri": "https://localhost:8080/"
        },
        "outputId": "17c28191-fd04-418f-8478-d2d8f09891bb"
      },
      "execution_count": 44,
      "outputs": [
        {
          "output_type": "stream",
          "name": "stdout",
          "text": [
            "Training set distribution: Counter({0: 303, 1: 31})\n",
            "Test set distribution: Counter({0: 187, 1: 36})\n"
          ]
        }
      ]
    },
    {
      "cell_type": "code",
      "source": [
        "# import custom-preprocessor from python file\n",
        "import CustomPreprocessorSpacy as cp"
      ],
      "metadata": {
        "id": "_L7xVvG8j1_3"
      },
      "execution_count": 20,
      "outputs": []
    },
    {
      "cell_type": "code",
      "source": [
        "cp.SpacyPreprocessor?"
      ],
      "metadata": {
        "id": "lKRnxv_HIll8"
      },
      "execution_count": null,
      "outputs": []
    },
    {
      "cell_type": "markdown",
      "source": [
        "###<font color='Pickle'>**The Spacy Preprocessor above is a full text preprocessing class allowing for multiple parameters.**</font>\n",
        "\n",
        "For full documentation refer to this link. https://github.com/explosion/spacy-models/releases/tag/en_core_web_sm-3.7.1\n",
        "\n",
        "#### **<font color='Pickle'>Attributes:**\n",
        "\n",
        "- **<font color='Pickle'>`model`</font>** *(str)*:  \n",
        "  The spaCy language model to be used for tokenization and other NLP tasks.\n",
        "\n",
        "- **<font color='Pickle'>`batch_size`</font>** *(int)*:  \n",
        "  The number of documents to process at once during spaCy's pipeline processing.\n",
        "\n",
        "- **<font color='Pickle'>`lemmatize`</font>** *(bool)*:  \n",
        "  If `True`, lemmatize tokens.\n",
        "\n",
        "- **<font color='Pickle'>`lower`</font>** *(bool)*:  \n",
        "  If `True`, convert all characters to lowercase.\n",
        "\n",
        "- **<font color='Pickle'>`remove_stop`</font>** *(bool)*:  \n",
        "  If `True`, remove stopwords.\n",
        "\n",
        "- **<font color='Pickle'>`remove_punct`</font>** *(bool)*:  \n",
        "  If `True`, remove punctuation.\n",
        "\n",
        "- **<font color='Pickle'>`remove_email`</font>** *(bool)*:  \n",
        "  If `True`, remove email addresses.\n",
        "\n",
        "- **<font color='Pickle'>`remove_url`</font>** *(bool)*:  \n",
        "  If `True`, remove URLs.\n",
        "\n",
        "- **<font color='Pickle'>`remove_num`</font>** *(bool)*:  \n",
        "  If `True`, remove numbers.\n",
        "\n",
        "- **<font color='Pickle'>`stemming`</font>** *(bool)*:  \n",
        "  If `True`, apply stemming to tokens *(mutually exclusive with lemmatization)*.\n",
        "\n",
        "- **<font color='Pickle'>`add_user_mention_prefix`</font>** *(bool)*:  \n",
        "  If `True`, add `'@'` as a separate token *(useful for user mentions in social media data)*.\n",
        "\n",
        "- **<font color='Pickle'>`remove_hashtag_prefix`</font>** *(bool)*:  \n",
        "  If `True`, do not separate `'#'` from the following text.\n",
        "\n",
        "- **<font color='Pickle'>`basic_clean_only`</font>** *(bool)*:  \n",
        "  If `True`, perform only basic cleaning *(HTML tags removal, line breaks, etc.)* and ignore other preprocessing steps.\n",
        "\n"
      ],
      "metadata": {
        "id": "qLofej9IEXMF"
      }
    },
    {
      "cell_type": "markdown",
      "source": [
        "###<font color='Pickle'>**Preprocessing**\n"
      ],
      "metadata": {
        "id": "bDfXFYJbNRg8"
      }
    },
    {
      "cell_type": "code",
      "source": [
        "# Using the custom Spacy preprocessor to clean the train and test data,\n",
        "X_train_cleaned_s = cp.SpacyPreprocessor(model = 'en_core_web_sm',batch_size = 100).transform(X_train_s)\n",
        "X_test_cleaned_s = cp.SpacyPreprocessor(model = 'en_core_web_sm',batch_size = 100).transform(X_test_s)\n",
        "\n",
        "# Creating filepaths in drive\n",
        "file_X_train_cleaned_s = data_folder/'X_train_cleaned_sparse.pkl'\n",
        "file_X_test_cleaned_s = data_folder/'X_test_cleaned_sparse.pkl'\n",
        "\n",
        "# Uploading pkl files to drive\n",
        "joblib.dump(X_train_cleaned_s, file_X_train_cleaned_s)\n",
        "joblib.dump(X_test_cleaned_s, file_X_test_cleaned_s)"
      ],
      "metadata": {
        "colab": {
          "base_uri": "https://localhost:8080/"
        },
        "id": "d5hHpP9eNcGd",
        "outputId": "fd0ea261-1535-4684-f024-5ebf42a2f3bd"
      },
      "execution_count": 45,
      "outputs": [
        {
          "output_type": "stream",
          "name": "stderr",
          "text": [
            "/content/drive/MyDrive/Colab Notebooks/custom-functions/CustomPreprocessorSpacy.py:83: MarkupResemblesLocatorWarning: The input looks more like a filename than markup. You may want to open this file and pass the filehandle into Beautiful Soup.\n",
            "  soup = BeautifulSoup(text, \"html.parser\")\n"
          ]
        },
        {
          "output_type": "execute_result",
          "data": {
            "text/plain": [
              "['/content/drive/MyDrive/Colab Notebooks/datasets/spam_ds/X_test_cleaned_sparse.pkl']"
            ]
          },
          "metadata": {},
          "execution_count": 45
        }
      ]
    },
    {
      "cell_type": "markdown",
      "source": [
        "### <font color='Pickle'>**Pipeline Set Up**</font>\n",
        "\n",
        "- Using the TF-IDF vectorizer with the following hyperparameters:\n",
        "  - **<font color='Pickle'>`min_df = 2`</font>**: This ensures that terms must appear in at least 2 documents to be considered. This helps in filtering out very rare words that might not contribute meaningfully to the model.\n",
        "  - **<font color='Pickle'>`max_df = 100`</font>**: Terms that appear in more than 100 documents are excluded. This helps in removing extremely common words or phrases that are too frequent to be useful in distinguishing between spam and non-spam.\n",
        "  - **<font color='Pickle'>`token_pattern = r\"\\b\\w[\\w@#.!?]*\\b\"`</font>**: This pattern is designed to capture a wide range of tokens, including words with special characters like `@`, `#`, `.` and `!`. It helps in recognizing abnormal spellings and patterns that are often indicative of spam.\n",
        "  - **<font color='Pickle'>`max_features = 1000`</font>**: Limits the number of features (terms) to the top 1000 based on term frequency. This reduces the dimensionality of the feature space while keeping the most informative terms.\n",
        "  - **<font color='Pickle'>`ngram_range = (1, 3)`</font>**: Extracts unigrams, bigrams, and trigrams. This helps capture common phrases and sequences like \"You won a\" or \"Congratulations you win,\" which are often used in spam emails.\n",
        "  - **<font color='Pickle'>`stop_words = None`</font>**: No stopwords are removed. Stopwords are retained because common phrases that include stopwords can be indicative of spam, such as \"click here\" or \"you have won.\"\n",
        "  - **<font color='Pickle'>`lowercase = False`</font>**: Text is not converted to lowercase, allowing the model to differentiate between capitalized and uncapitalized versions of words, which might be important in identifying spam (e.g., \"FREE\" vs. \"free\").\n",
        "\n"
      ],
      "metadata": {
        "id": "DzRVAiKGJs0Q"
      }
    },
    {
      "cell_type": "code",
      "source": [
        "# Importing the nltk stopwords library\n",
        "nltk_stop_words = nltk_stopwords.words('english')"
      ],
      "metadata": {
        "id": "N5U0qFugK9aJ"
      },
      "execution_count": null,
      "outputs": []
    },
    {
      "cell_type": "code",
      "source": [
        "classifier_1 = Pipeline([\n",
        "    ('vectorizer',TfidfVectorizer(min_df = 2,\n",
        "                                   max_df = 100,\n",
        "                                   token_pattern =r\"\\b\\w[\\w@#.!?]*\\b\",\n",
        "                                   max_features = 1000,\n",
        "                                   ngram_range = (1,3), # Pulls in bigrams and trigrams for common phrasing such as 'You won a','Congratulations you win', etc.\n",
        "                                   stop_words = None, # Stop words can be helpful in classifying spam emails because of common phrases.\n",
        "                                   lowercase = False # Keeping both capitalized and uncapitalized versions of words.\n",
        "                                   )),\n",
        "    ('classifier',XGBClassifier(enable_categorical=True, eval_metric = 'logloss'))\n",
        "])"
      ],
      "metadata": {
        "id": "S4G9bzCS0fVh"
      },
      "execution_count": null,
      "outputs": []
    },
    {
      "cell_type": "markdown",
      "source": [
        "### <font color='Pickle'>**Hyperparameter Tuning Setup**</font>\n",
        "\n",
        "- Using `RandomizedSearchCV` to tune the following hyperparameters:\n",
        "\n",
        "  - **<font color='Pickle'>`vectorizer__max_features`</font>**:\n",
        "    - **Values:** `[300, 500, 700, 1000]`\n",
        "    - **Explanation:** Controls the number of features (terms) considered by the TF-IDF vectorizer. This range helps explore different levels of feature dimensionality, allowing the model to capture the most relevant terms.\n",
        "\n",
        "  - **<font color='Pickle'>`classifier__n_estimators`</font>**:\n",
        "    - **Values:** `[20, 50, 100]`\n",
        "    - **Explanation:** Determines the number of boosting rounds in the XGBoost model. More boosting rounds can increase model complexity, allowing the model to learn more intricate patterns in the data.\n",
        "\n",
        "  - **<font color='Pickle'>`classifier__learning_rate`</font>**:\n",
        "    - **Values:** `[0.01, 0.1, 0.2]`\n",
        "    - **Explanation:** Sets the learning rate for each boosting round. Lower values make the model update more cautiously, which can help prevent overfitting, especially in smaller datasets.\n",
        "\n",
        "  - **<font color='Pickle'>`classifier__max_depth`</font>**:\n",
        "    - **Values:** `[3, 5, 7]`\n",
        "    - **Explanation:** Controls the maximum depth of the trees in the XGBoost model. Deeper trees allow the model to capture more complex patterns, but they also increase the risk of overfitting.\n",
        "\n",
        "  - **<font color='Pickle'>`classifier__scale_pos_weight`</font>**:\n",
        "    - **Values:** `[1, 10, 25, 50, 75, 99, 100, 1000]`\n",
        "    - **Explanation:** Adjusts the balance between positive and negative classes to handle class imbalance. The wide range of values allows exploration of how much emphasis should be placed on the minority class to achieve better classification results.\n"
      ],
      "metadata": {
        "id": "R-78VFkRYVhM"
      }
    },
    {
      "cell_type": "code",
      "source": [
        "param_grid_classifier_1 = {\n",
        "    'vectorizer__max_features':[300,500,700,1000], # Number of features to consider in the RandomSearch for TF-IDF\n",
        "    'classifier__n_estimators': [20,50,100], # Number of boosting rounds in XGB\n",
        "    'classifier__learning_rate': [0.01,0.1,0.2], # Learning rate for each boosting round\n",
        "    'classifier__max_depth': [3,5,7,9,11], # Maximum depth of trees (higher values make the model more complex)\n",
        "    'classifier__scale_pos_weight': [1,10,25,50,75,99,100,1000] # Class weight values to handle the class imbalance and some for exploration.\n",
        "}\n"
      ],
      "metadata": {
        "id": "4v78XmOeVnlX"
      },
      "execution_count": null,
      "outputs": []
    },
    {
      "cell_type": "markdown",
      "source": [
        "### <font color='Pickle'>**Cross-Validation and Hyperparameter Tuning**</font>\n",
        "\n",
        "- **Cross-Validation Strategy**: Using **<font color='Pickle'>`RepeatedStratifiedKFold`</font>** with 5 splits and 1 repeat to ensure balanced class distribution across folds.\n",
        "  \n",
        "- **Hyperparameter Tuning with RandomizedSearchCV**:\n",
        "  - **Iterations**: Testing **<font color='Pickle'>`10`</font>** different hyperparameter combinations.\n",
        "  - **Scoring Metric**: Using **<font color='Pickle'>`f1_macro`</font>** to address class imbalance.\n",
        "  - **Parallel Processing**: Set **<font color='Pickle'>`n_jobs=-1`</font>** to utilize all available CPU cores.\n",
        "  - **Verbose Level**: Set to **<font color='Pickle'>`2`</font>** to provide detailed output for better understanding.\n"
      ],
      "metadata": {
        "id": "jraGPfV2bPAj"
      }
    },
    {
      "cell_type": "code",
      "source": [
        "cv_strategy = RepeatedStratifiedKFold(n_splits = 5,n_repeats = 1, random_state = 42)\n",
        "\n",
        "grid_classifier_1 = RandomizedSearchCV(\n",
        "    estimator = classifier_1,\n",
        "    param_distributions = param_grid_classifier_1,\n",
        "    n_iter =300,# Number of different combinations to try\n",
        "    cv=cv_strategy,\n",
        "    scoring = 'f1_macro', #F1 scoring metric within the CV\n",
        "    verbose = 2, # Showing output for personal understanding\n",
        "    n_jobs = -1 # Ensureing the use of all available cores.\n",
        ")"
      ],
      "metadata": {
        "id": "PlmoPGSG_4hg"
      },
      "execution_count": null,
      "outputs": []
    },
    {
      "cell_type": "markdown",
      "source": [
        "###<font color='Pickle'>**Fitting model**"
      ],
      "metadata": {
        "id": "A7WtNaMTcDhp"
      }
    },
    {
      "cell_type": "code",
      "source": [
        "X_train_cleaned_s = joblib.load(file_X_train_cleaned_s)\n",
        "grid_classifier_1.fit(X_train_cleaned_s, y_train_s_encoded)"
      ],
      "metadata": {
        "colab": {
          "base_uri": "https://localhost:8080/",
          "height": 170
        },
        "id": "pN2UA4CPcSam",
        "outputId": "b03cacf0-bdfe-439f-8f4b-d599299341ff"
      },
      "execution_count": null,
      "outputs": [
        {
          "output_type": "stream",
          "name": "stdout",
          "text": [
            "Fitting 5 folds for each of 300 candidates, totalling 1500 fits\n"
          ]
        },
        {
          "output_type": "execute_result",
          "data": {
            "text/plain": [
              "RandomizedSearchCV(cv=RepeatedStratifiedKFold(n_repeats=1, n_splits=5, random_state=42),\n",
              "                   estimator=Pipeline(steps=[('vectorizer',\n",
              "                                              TfidfVectorizer(lowercase=False,\n",
              "                                                              max_df=100,\n",
              "                                                              max_features=1000,\n",
              "                                                              min_df=2,\n",
              "                                                              ngram_range=(1,\n",
              "                                                                           3),\n",
              "                                                              token_pattern='\\\\b\\\\w[\\\\w@#.!?]*\\\\b')),\n",
              "                                             ('classifier',\n",
              "                                              XGBClassifier(base_score=None,\n",
              "                                                            booster=None,\n",
              "                                                            callbacks=None,\n",
              "                                                            colsample_bylevel=None,\n",
              "                                                            co...\n",
              "                                                            n_jobs=None,\n",
              "                                                            num_parallel_tree=None,\n",
              "                                                            random_state=None, ...))]),\n",
              "                   n_iter=300, n_jobs=-1,\n",
              "                   param_distributions={'classifier__learning_rate': [0.01, 0.1,\n",
              "                                                                      0.2],\n",
              "                                        'classifier__max_depth': [3, 5, 7, 9,\n",
              "                                                                  11],\n",
              "                                        'classifier__n_estimators': [20, 50,\n",
              "                                                                     100],\n",
              "                                        'classifier__scale_pos_weight': [1, 10,\n",
              "                                                                         25, 50,\n",
              "                                                                         75, 99,\n",
              "                                                                         100,\n",
              "                                                                         1000],\n",
              "                                        'vectorizer__max_features': [300, 500,\n",
              "                                                                     700,\n",
              "                                                                     1000]},\n",
              "                   scoring='f1_macro', verbose=2)"
            ],
            "text/html": [
              "<style>#sk-container-id-7 {color: black;}#sk-container-id-7 pre{padding: 0;}#sk-container-id-7 div.sk-toggleable {background-color: white;}#sk-container-id-7 label.sk-toggleable__label {cursor: pointer;display: block;width: 100%;margin-bottom: 0;padding: 0.3em;box-sizing: border-box;text-align: center;}#sk-container-id-7 label.sk-toggleable__label-arrow:before {content: \"▸\";float: left;margin-right: 0.25em;color: #696969;}#sk-container-id-7 label.sk-toggleable__label-arrow:hover:before {color: black;}#sk-container-id-7 div.sk-estimator:hover label.sk-toggleable__label-arrow:before {color: black;}#sk-container-id-7 div.sk-toggleable__content {max-height: 0;max-width: 0;overflow: hidden;text-align: left;background-color: #f0f8ff;}#sk-container-id-7 div.sk-toggleable__content pre {margin: 0.2em;color: black;border-radius: 0.25em;background-color: #f0f8ff;}#sk-container-id-7 input.sk-toggleable__control:checked~div.sk-toggleable__content {max-height: 200px;max-width: 100%;overflow: auto;}#sk-container-id-7 input.sk-toggleable__control:checked~label.sk-toggleable__label-arrow:before {content: \"▾\";}#sk-container-id-7 div.sk-estimator input.sk-toggleable__control:checked~label.sk-toggleable__label {background-color: #d4ebff;}#sk-container-id-7 div.sk-label input.sk-toggleable__control:checked~label.sk-toggleable__label {background-color: #d4ebff;}#sk-container-id-7 input.sk-hidden--visually {border: 0;clip: rect(1px 1px 1px 1px);clip: rect(1px, 1px, 1px, 1px);height: 1px;margin: -1px;overflow: hidden;padding: 0;position: absolute;width: 1px;}#sk-container-id-7 div.sk-estimator {font-family: monospace;background-color: #f0f8ff;border: 1px dotted black;border-radius: 0.25em;box-sizing: border-box;margin-bottom: 0.5em;}#sk-container-id-7 div.sk-estimator:hover {background-color: #d4ebff;}#sk-container-id-7 div.sk-parallel-item::after {content: \"\";width: 100%;border-bottom: 1px solid gray;flex-grow: 1;}#sk-container-id-7 div.sk-label:hover label.sk-toggleable__label {background-color: #d4ebff;}#sk-container-id-7 div.sk-serial::before {content: \"\";position: absolute;border-left: 1px solid gray;box-sizing: border-box;top: 0;bottom: 0;left: 50%;z-index: 0;}#sk-container-id-7 div.sk-serial {display: flex;flex-direction: column;align-items: center;background-color: white;padding-right: 0.2em;padding-left: 0.2em;position: relative;}#sk-container-id-7 div.sk-item {position: relative;z-index: 1;}#sk-container-id-7 div.sk-parallel {display: flex;align-items: stretch;justify-content: center;background-color: white;position: relative;}#sk-container-id-7 div.sk-item::before, #sk-container-id-7 div.sk-parallel-item::before {content: \"\";position: absolute;border-left: 1px solid gray;box-sizing: border-box;top: 0;bottom: 0;left: 50%;z-index: -1;}#sk-container-id-7 div.sk-parallel-item {display: flex;flex-direction: column;z-index: 1;position: relative;background-color: white;}#sk-container-id-7 div.sk-parallel-item:first-child::after {align-self: flex-end;width: 50%;}#sk-container-id-7 div.sk-parallel-item:last-child::after {align-self: flex-start;width: 50%;}#sk-container-id-7 div.sk-parallel-item:only-child::after {width: 0;}#sk-container-id-7 div.sk-dashed-wrapped {border: 1px dashed gray;margin: 0 0.4em 0.5em 0.4em;box-sizing: border-box;padding-bottom: 0.4em;background-color: white;}#sk-container-id-7 div.sk-label label {font-family: monospace;font-weight: bold;display: inline-block;line-height: 1.2em;}#sk-container-id-7 div.sk-label-container {text-align: center;}#sk-container-id-7 div.sk-container {/* jupyter's `normalize.less` sets `[hidden] { display: none; }` but bootstrap.min.css set `[hidden] { display: none !important; }` so we also need the `!important` here to be able to override the default hidden behavior on the sphinx rendered scikit-learn.org. See: https://github.com/scikit-learn/scikit-learn/issues/21755 */display: inline-block !important;position: relative;}#sk-container-id-7 div.sk-text-repr-fallback {display: none;}</style><div id=\"sk-container-id-7\" class=\"sk-top-container\"><div class=\"sk-text-repr-fallback\"><pre>RandomizedSearchCV(cv=RepeatedStratifiedKFold(n_repeats=1, n_splits=5, random_state=42),\n",
              "                   estimator=Pipeline(steps=[(&#x27;vectorizer&#x27;,\n",
              "                                              TfidfVectorizer(lowercase=False,\n",
              "                                                              max_df=100,\n",
              "                                                              max_features=1000,\n",
              "                                                              min_df=2,\n",
              "                                                              ngram_range=(1,\n",
              "                                                                           3),\n",
              "                                                              token_pattern=&#x27;\\\\b\\\\w[\\\\w@#.!?]*\\\\b&#x27;)),\n",
              "                                             (&#x27;classifier&#x27;,\n",
              "                                              XGBClassifier(base_score=None,\n",
              "                                                            booster=None,\n",
              "                                                            callbacks=None,\n",
              "                                                            colsample_bylevel=None,\n",
              "                                                            co...\n",
              "                                                            n_jobs=None,\n",
              "                                                            num_parallel_tree=None,\n",
              "                                                            random_state=None, ...))]),\n",
              "                   n_iter=300, n_jobs=-1,\n",
              "                   param_distributions={&#x27;classifier__learning_rate&#x27;: [0.01, 0.1,\n",
              "                                                                      0.2],\n",
              "                                        &#x27;classifier__max_depth&#x27;: [3, 5, 7, 9,\n",
              "                                                                  11],\n",
              "                                        &#x27;classifier__n_estimators&#x27;: [20, 50,\n",
              "                                                                     100],\n",
              "                                        &#x27;classifier__scale_pos_weight&#x27;: [1, 10,\n",
              "                                                                         25, 50,\n",
              "                                                                         75, 99,\n",
              "                                                                         100,\n",
              "                                                                         1000],\n",
              "                                        &#x27;vectorizer__max_features&#x27;: [300, 500,\n",
              "                                                                     700,\n",
              "                                                                     1000]},\n",
              "                   scoring=&#x27;f1_macro&#x27;, verbose=2)</pre><b>In a Jupyter environment, please rerun this cell to show the HTML representation or trust the notebook. <br />On GitHub, the HTML representation is unable to render, please try loading this page with nbviewer.org.</b></div><div class=\"sk-container\" hidden><div class=\"sk-item sk-dashed-wrapped\"><div class=\"sk-label-container\"><div class=\"sk-label sk-toggleable\"><input class=\"sk-toggleable__control sk-hidden--visually\" id=\"sk-estimator-id-25\" type=\"checkbox\" ><label for=\"sk-estimator-id-25\" class=\"sk-toggleable__label sk-toggleable__label-arrow\">RandomizedSearchCV</label><div class=\"sk-toggleable__content\"><pre>RandomizedSearchCV(cv=RepeatedStratifiedKFold(n_repeats=1, n_splits=5, random_state=42),\n",
              "                   estimator=Pipeline(steps=[(&#x27;vectorizer&#x27;,\n",
              "                                              TfidfVectorizer(lowercase=False,\n",
              "                                                              max_df=100,\n",
              "                                                              max_features=1000,\n",
              "                                                              min_df=2,\n",
              "                                                              ngram_range=(1,\n",
              "                                                                           3),\n",
              "                                                              token_pattern=&#x27;\\\\b\\\\w[\\\\w@#.!?]*\\\\b&#x27;)),\n",
              "                                             (&#x27;classifier&#x27;,\n",
              "                                              XGBClassifier(base_score=None,\n",
              "                                                            booster=None,\n",
              "                                                            callbacks=None,\n",
              "                                                            colsample_bylevel=None,\n",
              "                                                            co...\n",
              "                                                            n_jobs=None,\n",
              "                                                            num_parallel_tree=None,\n",
              "                                                            random_state=None, ...))]),\n",
              "                   n_iter=300, n_jobs=-1,\n",
              "                   param_distributions={&#x27;classifier__learning_rate&#x27;: [0.01, 0.1,\n",
              "                                                                      0.2],\n",
              "                                        &#x27;classifier__max_depth&#x27;: [3, 5, 7, 9,\n",
              "                                                                  11],\n",
              "                                        &#x27;classifier__n_estimators&#x27;: [20, 50,\n",
              "                                                                     100],\n",
              "                                        &#x27;classifier__scale_pos_weight&#x27;: [1, 10,\n",
              "                                                                         25, 50,\n",
              "                                                                         75, 99,\n",
              "                                                                         100,\n",
              "                                                                         1000],\n",
              "                                        &#x27;vectorizer__max_features&#x27;: [300, 500,\n",
              "                                                                     700,\n",
              "                                                                     1000]},\n",
              "                   scoring=&#x27;f1_macro&#x27;, verbose=2)</pre></div></div></div><div class=\"sk-parallel\"><div class=\"sk-parallel-item\"><div class=\"sk-item\"><div class=\"sk-label-container\"><div class=\"sk-label sk-toggleable\"><input class=\"sk-toggleable__control sk-hidden--visually\" id=\"sk-estimator-id-26\" type=\"checkbox\" ><label for=\"sk-estimator-id-26\" class=\"sk-toggleable__label sk-toggleable__label-arrow\">estimator: Pipeline</label><div class=\"sk-toggleable__content\"><pre>Pipeline(steps=[(&#x27;vectorizer&#x27;,\n",
              "                 TfidfVectorizer(lowercase=False, max_df=100, max_features=1000,\n",
              "                                 min_df=2, ngram_range=(1, 3),\n",
              "                                 token_pattern=&#x27;\\\\b\\\\w[\\\\w@#.!?]*\\\\b&#x27;)),\n",
              "                (&#x27;classifier&#x27;,\n",
              "                 XGBClassifier(base_score=None, booster=None, callbacks=None,\n",
              "                               colsample_bylevel=None, colsample_bynode=None,\n",
              "                               colsample_bytree=None, device=None,\n",
              "                               early_stopping_rounds=None,\n",
              "                               enable_categori...\n",
              "                               feature_types=None, gamma=None, grow_policy=None,\n",
              "                               importance_type=None,\n",
              "                               interaction_constraints=None, learning_rate=None,\n",
              "                               max_bin=None, max_cat_threshold=None,\n",
              "                               max_cat_to_onehot=None, max_delta_step=None,\n",
              "                               max_depth=None, max_leaves=None,\n",
              "                               min_child_weight=None, missing=nan,\n",
              "                               monotone_constraints=None, multi_strategy=None,\n",
              "                               n_estimators=None, n_jobs=None,\n",
              "                               num_parallel_tree=None, random_state=None, ...))])</pre></div></div></div><div class=\"sk-serial\"><div class=\"sk-item\"><div class=\"sk-serial\"><div class=\"sk-item\"><div class=\"sk-estimator sk-toggleable\"><input class=\"sk-toggleable__control sk-hidden--visually\" id=\"sk-estimator-id-27\" type=\"checkbox\" ><label for=\"sk-estimator-id-27\" class=\"sk-toggleable__label sk-toggleable__label-arrow\">TfidfVectorizer</label><div class=\"sk-toggleable__content\"><pre>TfidfVectorizer(lowercase=False, max_df=100, max_features=1000, min_df=2,\n",
              "                ngram_range=(1, 3), token_pattern=&#x27;\\\\b\\\\w[\\\\w@#.!?]*\\\\b&#x27;)</pre></div></div></div><div class=\"sk-item\"><div class=\"sk-estimator sk-toggleable\"><input class=\"sk-toggleable__control sk-hidden--visually\" id=\"sk-estimator-id-28\" type=\"checkbox\" ><label for=\"sk-estimator-id-28\" class=\"sk-toggleable__label sk-toggleable__label-arrow\">XGBClassifier</label><div class=\"sk-toggleable__content\"><pre>XGBClassifier(base_score=None, booster=None, callbacks=None,\n",
              "              colsample_bylevel=None, colsample_bynode=None,\n",
              "              colsample_bytree=None, device=None, early_stopping_rounds=None,\n",
              "              enable_categorical=True, eval_metric=&#x27;logloss&#x27;,\n",
              "              feature_types=None, gamma=None, grow_policy=None,\n",
              "              importance_type=None, interaction_constraints=None,\n",
              "              learning_rate=None, max_bin=None, max_cat_threshold=None,\n",
              "              max_cat_to_onehot=None, max_delta_step=None, max_depth=None,\n",
              "              max_leaves=None, min_child_weight=None, missing=nan,\n",
              "              monotone_constraints=None, multi_strategy=None, n_estimators=None,\n",
              "              n_jobs=None, num_parallel_tree=None, random_state=None, ...)</pre></div></div></div></div></div></div></div></div></div></div></div></div>"
            ]
          },
          "metadata": {},
          "execution_count": 143
        }
      ]
    },
    {
      "cell_type": "markdown",
      "source": [
        "##<font color = 'Pickle'>**Understanding XGBoost's Log Loss and F1 Scoring**\n",
        "\n",
        "### <font color = 'Pickle'>**Why Doesn't XGBoost Include F1 Scoring?**\n",
        "\n",
        "When working with the **<font color='Pickle'>XGBoost</font>** model, it's important to understand that it primarily optimizes **<font color='Pickle'>log loss</font>** during training. **<font color='Pickle'>Log loss</font>**, or logistic loss, is a common objective function for binary classification tasks, and it helps the model learn to predict probabilities that are well-calibrated.\n",
        "\n",
        "### <font color = 'Pickle'>**But What About F1 Score?**\n",
        "\n",
        "Even though I'm using **<font color='Pickle'>f1_macro</font>** as the scoring metric in **<font color='Pickle'>RandomizedSearchCV</font>**, this doesn't mean **<font color='Pickle'>XGBoost</font>** is optimizing the **<font color='Pickle'>F1 score</font>** during training. Instead, **<font color='Pickle'>XGBoost</font>** sticks to optimizing **<font color='Pickle'>log loss</font>** because it's a differentiable function, which is essential for gradient-based optimization algorithms like **<font color='Pickle'>XGBoost</font>**.\n",
        "\n",
        "The **<font color='Pickle'>F1 score</font>**, on the other hand, is not differentiable, which makes it unsuitable as a direct loss function. However, that doesn't mean it's not useful—quite the opposite! By using **<font color='Pickle'>F1</font>** as the scoring metric in **<font color='Pickle'>RandomizedSearchCV</font>**, I'm making sure that the model configuration that performs best is one that balances precision and recall, which is crucial for my imbalanced dataset.\n",
        "\n",
        "### <font color = 'Pickle'>**How Does This Work in Practice?**\n",
        "\n",
        "- **During Training:** **<font color='Pickle'>XGBoost</font>** optimizes the **<font color='Pickle'>log loss</font>** function to learn the best model parameters.\n",
        "- **During Hyperparameter Tuning:** **<font color='Pickle'>RandomizedSearchCV</font>** evaluates each model configuration using the **<font color='Pickle'>F1 score</font>** (or whichever metric I specify). This way, the model that is selected is the one that performs best in terms of **<font color='Pickle'>F1 score</font>**, even though it was trained using **<font color='Pickle'>log loss</font>**.\n",
        "\n",
        "### <font color = 'Pickle'>**Why This Makes Sense**\n",
        "\n",
        "Using **<font color='Pickle'>log loss</font>** for training helps the model become confident in its probability predictions, while evaluating it with **<font color='Pickle'>F1 score</font>** ensures that I'm picking a model that effectively handles the class imbalance in my data. It's a balanced approach that leverages the strengths of both metrics to improve model performance.\n",
        "\n",
        "\n"
      ],
      "metadata": {
        "id": "kaONcrLTSMXk"
      }
    },
    {
      "cell_type": "markdown",
      "source": [
        "##<font color = 'Pickle'>**Getting the best Parameters**"
      ],
      "metadata": {
        "id": "yfTEhaevA2Rz"
      }
    },
    {
      "cell_type": "code",
      "source": [
        "print(f'Best cross-validation score: {grid_classifier_1.best_score_:.2f}')\n",
        "print(\"\\nBest Parameters:\",grid_classifier_1.best_params_)\n",
        "print(\"\\nBest Estimator:\", grid_classifier_1.best_estimator_)"
      ],
      "metadata": {
        "colab": {
          "base_uri": "https://localhost:8080/"
        },
        "id": "fbtcEnVqgxK_",
        "outputId": "e18880f0-f6e3-477f-e462-2de9805660ad"
      },
      "execution_count": null,
      "outputs": [
        {
          "output_type": "stream",
          "name": "stdout",
          "text": [
            "Best cross-validation score: 0.85\n",
            "\n",
            "Best Parameters: {'vectorizer__max_features': 700, 'classifier__scale_pos_weight': 100, 'classifier__n_estimators': 100, 'classifier__max_depth': 3, 'classifier__learning_rate': 0.2}\n",
            "\n",
            "Best Estimator: Pipeline(steps=[('vectorizer',\n",
            "                 TfidfVectorizer(lowercase=False, max_df=100, max_features=700,\n",
            "                                 min_df=2, ngram_range=(1, 3),\n",
            "                                 token_pattern='\\\\b\\\\w[\\\\w@#.!?]*\\\\b')),\n",
            "                ('classifier',\n",
            "                 XGBClassifier(base_score=None, booster=None, callbacks=None,\n",
            "                               colsample_bylevel=None, colsample_bynode=None,\n",
            "                               colsample_bytree=None, device=None,\n",
            "                               early_stopping_rounds=None,\n",
            "                               enable_categoric...\n",
            "                               feature_types=None, gamma=None, grow_policy=None,\n",
            "                               importance_type=None,\n",
            "                               interaction_constraints=None, learning_rate=0.2,\n",
            "                               max_bin=None, max_cat_threshold=None,\n",
            "                               max_cat_to_onehot=None, max_delta_step=None,\n",
            "                               max_depth=3, max_leaves=None,\n",
            "                               min_child_weight=None, missing=nan,\n",
            "                               monotone_constraints=None, multi_strategy=None,\n",
            "                               n_estimators=100, n_jobs=None,\n",
            "                               num_parallel_tree=None, random_state=None, ...))])\n"
          ]
        }
      ]
    },
    {
      "cell_type": "markdown",
      "source": [
        "###<font color = 'Pickle'>**Saving the model**"
      ],
      "metadata": {
        "id": "H_0qrfHRsBYS"
      }
    },
    {
      "cell_type": "code",
      "source": [
        "file_best_estimator_pipeline1 = model_folder/'pipeline1_sparse_best_estimator.pkl'\n",
        "\n",
        "file_complete_grid_pipeline1 = model_folder/'pipeline1_sparse_complete_grid.pkl'\n",
        "\n",
        "joblib.dump(grid_classifier_1.best_estimator_, file_best_estimator_pipeline1)\n",
        "joblib.dump(grid_classifier_1, file_complete_grid_pipeline1)"
      ],
      "metadata": {
        "colab": {
          "base_uri": "https://localhost:8080/"
        },
        "id": "ZA610u76qgrJ",
        "outputId": "64774da6-7836-4f15-8a94-548eadacee60"
      },
      "execution_count": null,
      "outputs": [
        {
          "output_type": "execute_result",
          "data": {
            "text/plain": [
              "['/content/drive/MyDrive/Colab Notebooks/models/nlp_fall_2024/spam/pipeline1_sparse_complete_grid.pkl']"
            ]
          },
          "metadata": {},
          "execution_count": 145
        }
      ]
    },
    {
      "cell_type": "markdown",
      "source": [
        "###<font color = 'Pickle'>**Reload the model**"
      ],
      "metadata": {
        "id": "ttUEK8als7Do"
      }
    },
    {
      "cell_type": "code",
      "source": [
        "best_estimator_pipeline1 = joblib.load(file_best_estimator_pipeline1)\n",
        "\n",
        "complete_grid_pipeline1 = joblib.load(file_complete_grid_pipeline1)\n"
      ],
      "metadata": {
        "id": "T0feWuFbss5D"
      },
      "execution_count": null,
      "outputs": []
    },
    {
      "cell_type": "markdown",
      "source": [
        "### **Why Save and Reload the Model?**\n",
        "\n",
        "1. **<font color='Pickle'>Efficiency</font>:**\n",
        "   - After running **<font color='Pickle'>`RandomizedSearchCV`</font>**, I save the best model and grid search results using **<font color='Pickle'>`joblib`</font>**. Hyperparameter tuning is computationally expensive, and by saving the outputs, I can avoid repeating the time-consuming process. Reloading these saved objects later allows me to focus on analyzing the results, like plotting learning curves, without the need to rerun the entire tuning process.\n",
        "\n",
        "2. **<font color='Pickle'>Reproducibility</font>:**\n",
        "   - Saving and reloading the best model ensures consistency in my results. By working with the exact model configuration identified as the best, I avoid any variations that could arise from rerunning the grid search. This approach maintains the integrity of my analysis, especially when I need to reproduce or share my findings.\n",
        "\n",
        "3. **<font color='Pickle'>Experiment Management</font>:**\n",
        "   - In complex experiments involving multiple models or stages, saving intermediate results helps me keep everything organized. It’s easier to revisit specific parts of my experiment without having to rerun everything from scratch. This method allows me to separate the computationally intensive tasks from the analysis, making my workflow more modular and manageable.\n"
      ],
      "metadata": {
        "id": "KVbjyN4numoK"
      }
    },
    {
      "cell_type": "markdown",
      "source": [
        "###<font color = 'Pickle'>**Plotting the learning curve**"
      ],
      "metadata": {
        "id": "GtVKzeK5u39h"
      }
    },
    {
      "cell_type": "code",
      "source": [
        "from plot_learning_curve import plot_learning_curve"
      ],
      "metadata": {
        "id": "J3roocjPvsr2"
      },
      "execution_count": null,
      "outputs": []
    },
    {
      "cell_type": "code",
      "source": [
        "plot_learning_curve(\n",
        "    best_estimator_pipeline1,\n",
        "    'Learning Curves for XGBoost with F1 as scoring Metric',\n",
        "    X_train_cleaned_s,\n",
        "    y_train_s_encoded,\n",
        "    scoring = 'f1_macro',\n",
        "    n_jobs = -1)"
      ],
      "metadata": {
        "colab": {
          "base_uri": "https://localhost:8080/",
          "height": 397
        },
        "id": "2XezfBBHtg3C",
        "outputId": "002ecd8e-3fd3-422e-d40e-2e77c6a26452"
      },
      "execution_count": null,
      "outputs": [
        {
          "output_type": "execute_result",
          "data": {
            "text/plain": [
              "<module 'matplotlib.pyplot' from '/usr/local/lib/python3.10/dist-packages/matplotlib/pyplot.py'>"
            ]
          },
          "metadata": {},
          "execution_count": 148
        },
        {
          "output_type": "display_data",
          "data": {
            "text/plain": [
              "<Figure size 2000x500 with 3 Axes>"
            ],
            "image/png": "[encoded data removed]"
          },
          "metadata": {}
        }
      ]
    },
    {
      "cell_type": "markdown",
      "source": [
        "###<font color = 'Pickle'>**Observations**\n",
        "\n",
        "The learning curve shows a strong alignment between the **<font color='Pickle'>training</font>** and **<font color='Pickle'>cross-validation</font>** scores, which suggests that this model is likely to generalize well to unseen data. The fit times are impressively low, and there’s a steady improvement in performance without any signs of **<font color='Pickle'>diminishing returns</font>**. This indicates that the model is not only efficient but also robust in making accurate predictions on new data. It would be nice to see higher F1 scores though.\n"
      ],
      "metadata": {
        "id": "SZ7NSXNUFZOO"
      }
    },
    {
      "cell_type": "markdown",
      "source": [
        "###<font color = \"Pickle\">**Checking Cross Validation Scores and Train Scores**"
      ],
      "metadata": {
        "id": "lEBbhAR423BN"
      }
    },
    {
      "cell_type": "code",
      "source": [
        "print('Train scores:',best_estimator_pipeline1.score(X_train_cleaned_s,y_train_s_encoded))\n",
        "\n",
        "print('Cross Validation Scores:', complete_grid_pipeline1.best_score_)"
      ],
      "metadata": {
        "id": "bpJmJ1iSLRd4",
        "colab": {
          "base_uri": "https://localhost:8080/"
        },
        "outputId": "4c57f7d9-2fdd-4a15-e38a-17c3043b056f"
      },
      "execution_count": null,
      "outputs": [
        {
          "output_type": "stream",
          "name": "stdout",
          "text": [
            "Train scores: 0.9910179640718563\n",
            "Cross Validation Scores: 0.8549152241620905\n"
          ]
        }
      ]
    },
    {
      "cell_type": "markdown",
      "source": [
        "###<font color = 'Pickle'>**Evaluating on the Testing data set**"
      ],
      "metadata": {
        "id": "oyHfXYcV4BeO"
      }
    },
    {
      "cell_type": "code",
      "source": [
        "# Last Pipeline\n",
        "def final_pipeline(text):\n",
        "  cleaned_text = joblib.load(file_X_test_cleaned_s) # Pulling in the cleaned and preprocessed testing data\n",
        "  best_estimator_pipeline1 = joblib.load(file_best_estimator_pipeline1) # pulling in the best model parameters\n",
        "  predictions =best_estimator_pipeline1.predict(cleaned_text)\n",
        "  return predictions\n"
      ],
      "metadata": {
        "id": "YIDH6SB335Ic"
      },
      "execution_count": null,
      "outputs": []
    },
    {
      "cell_type": "code",
      "source": [
        "y_test_pred_s = final_pipeline(X_test_s)"
      ],
      "metadata": {
        "id": "H0XQikOP6XHV"
      },
      "execution_count": null,
      "outputs": []
    },
    {
      "cell_type": "markdown",
      "source": [
        "###<font color = 'Pickle'>**Classification Report**"
      ],
      "metadata": {
        "id": "bmE4OlVE6lB1"
      }
    },
    {
      "cell_type": "code",
      "source": [
        "print('Sparse embeddings model metrics through the tfidf vectorizer:\\n\\n', classification_report(y_test_s_encoded, y_test_pred_s))"
      ],
      "metadata": {
        "colab": {
          "base_uri": "https://localhost:8080/"
        },
        "id": "LofKh-St6f9X",
        "outputId": "7c4a0500-5324-4c59-b1e4-5eec78242b4b"
      },
      "execution_count": null,
      "outputs": [
        {
          "output_type": "stream",
          "name": "stdout",
          "text": [
            "Sparse embeddings model metrics through the tfidf vectorizer:\n",
            "\n",
            "               precision    recall  f1-score   support\n",
            "\n",
            "           0       0.94      0.96      0.95       187\n",
            "           1       0.75      0.67      0.71        36\n",
            "\n",
            "    accuracy                           0.91       223\n",
            "   macro avg       0.84      0.81      0.83       223\n",
            "weighted avg       0.91      0.91      0.91       223\n",
            "\n"
          ]
        }
      ]
    },
    {
      "cell_type": "markdown",
      "source": [
        "### **Model Interpretation Summary**\n",
        "\n",
        "- **Class 0 (Ham - Majority Class):**\n",
        "  - **<font color='Pickle'>Precision (0.94):</font>** The model correctly identifies 94% of ham emails, making it highly reliable in avoiding false positives for non-spam emails.\n",
        "  - **<font color='Pickle'>Recall (0.96):</font>** With a recall of 96%, the model is doing an excellent job of capturing nearly all ham emails, missing only a small fraction.\n",
        "  - **<font color='Pickle'>F1-Score (0.95):</font>** The F1-score, which balances precision and recall, is very high, indicating strong performance on the majority class.\n",
        "\n",
        "- **Class 1 (Spam - Minority Class):**\n",
        "  - **<font color='Pickle'>Precision (0.75):</font>** When the model predicts an email as spam, it’s accurate 75% of the time, meaning that 25% of the emails classified as spam are actually not spam emails (false positives).\n",
        "  - **<font color='Pickle'>Recall (0.67):</font>** The model successfully identifies 67% of the actual spam emails, indicating that it’s missing about one-third of spam instances.\n",
        "  - **<font color='Pickle'>F1-Score (0.71):</font>** Since both precision and recall for spam are around 70%, the F1-score, which is the harmonic mean of these two metrics, is approximately 0.71. This reflects the model’s balanced but moderate performance on the minority class.\n",
        "\n",
        "- **Overall Takeaway:**\n",
        "  - The model excels in identifying **<font color='Pickle'>ham</font>** emails, as expected, but the **<font color='Pickle'>spam</font>** class shows decent precision with a need for improved recall. The F1-score for spam highlights the balance between precision and recall, but further enhancements could push this value higher, leading to better overall spam detection.\n",
        "\n"
      ],
      "metadata": {
        "id": "O-UYCcpcFvpl"
      }
    },
    {
      "cell_type": "markdown",
      "source": [
        "# **<font color='Pickle'>Pipeline 2: Preprocessing + Manual Feature Engineering + ML Model Pipeline</font>**\n",
        "\n",
        "## **<font color='Pickle'>For this pipeline, I will:</font>**\n",
        "\n",
        "- Use 10% of the entire dataset.\n",
        "- Split the subset into train and test sets.\n",
        "- Preprocess the data using the Spacy preprocessor.\n",
        "- **<font color='Pickle'>Generate manual features</font>** such as the count of words, characters, digits, exclamation marks, numbers, nouns, proper nouns, auxiliary verbs (AUX), verbs, adjectives, named entities, spelling mistakes, and others of my choosing.\n",
        "- Create the data pipeline that integrates these engineered features along with an <font color='Pickle'>**XGBoost**</font> model.\n",
        "- Train the hyperparameters of the model using <font color='Pickle'>**GridSearchCV**</font> with 5-fold cross-validation.\n",
        "- Fit the best parameters on the training data to evaluate the model.\n",
        "- Plot the learning curves of the model based on a model performance metric <font color='Pickle'>**(F1 score)**</font>.\n",
        "- Evaluate the model on the test dataset by printing the classification report.\n"
      ],
      "metadata": {
        "id": "y1eGVgV_M5rv"
      }
    },
    {
      "cell_type": "code",
      "source": [
        "# Resetting the training and testing data to use for the manual features\n",
        "train_fe_df,test_fe_df = train_s_df,test_s_df"
      ],
      "metadata": {
        "id": "KYEYA4XvNm9u"
      },
      "execution_count": 16,
      "outputs": []
    },
    {
      "cell_type": "code",
      "source": [
        "print('Train class distribution:',train_fe_df['label'].value_counts())\n",
        "\n",
        "print('-'*30)\n",
        "print('Test class distribution:',test_fe_df['label'].value_counts())"
      ],
      "metadata": {
        "colab": {
          "base_uri": "https://localhost:8080/"
        },
        "id": "PYGGt84XN1P7",
        "outputId": "cf8c7b83-45bc-40c8-8f4a-34547de7f378"
      },
      "execution_count": 17,
      "outputs": [
        {
          "output_type": "stream",
          "name": "stdout",
          "text": [
            "Train class distribution: label\n",
            "ham     303\n",
            "spam     31\n",
            "Name: count, dtype: int64\n",
            "------------------------------\n",
            "Test class distribution: label\n",
            "ham     187\n",
            "spam     36\n",
            "Name: count, dtype: int64\n"
          ]
        }
      ]
    },
    {
      "cell_type": "code",
      "source": [
        "# Seperating indep and dependent columns and encoding\n",
        "X_train_fe = train_fe_df['message'].values\n",
        "X_test_fe = test_fe_df['message'].values\n",
        "\n",
        "y_train_fe = train_fe_df['label'].values\n",
        "y_test_fe = test_fe_df['label'].values\n",
        "\n",
        "y_train_fe_encoded = label_encoder.fit_transform(y_train_fe)\n",
        "y_test_fe_encoded = label_encoder.transform(y_test_fe)\n",
        "\n",
        "# Checking class distribution\n",
        "train_distribution = Counter(y_train_fe_encoded)\n",
        "print('Training distribution:',train_distribution)\n",
        "\n",
        "test_distribution = Counter(y_test_fe_encoded)\n",
        "print('Test distribution:',test_distribution)"
      ],
      "metadata": {
        "colab": {
          "base_uri": "https://localhost:8080/"
        },
        "id": "JZZf_qynOCLY",
        "outputId": "9e4ac307-3b34-4ac6-f6a6-1dda9a780930"
      },
      "execution_count": 18,
      "outputs": [
        {
          "output_type": "stream",
          "name": "stdout",
          "text": [
            "Training distribution: Counter({0: 303, 1: 31})\n",
            "Test distribution: Counter({0: 187, 1: 36})\n"
          ]
        }
      ]
    },
    {
      "cell_type": "markdown",
      "source": [
        "###<font color = 'Pickle'>**Generating Manual Features**\n",
        "- Note the usage of False for each of the parameters for the Spacy Preprocessor, this is because I will be adding my own manual features."
      ],
      "metadata": {
        "id": "ENfdo0xWPnSS"
      }
    },
    {
      "cell_type": "code",
      "source": [
        "# Cleaning the training set via SpacyPreprocessor\n",
        "X_train_cleaned_fe = cp.SpacyPreprocessor(model = 'en_core_web_sm',\n",
        "                                          lemmatize =False,\n",
        "                                          lower = False, remove_stop = False,\n",
        "                                          remove_punct = False,remove_email = False,\n",
        "                                          remove_url = False, add_user_mention_prefix = False,\n",
        "                                          basic_clean_only = True).transform(X_train_fe)\n",
        "# Cleaning the testing set\n",
        "X_test_cleaned_fe = cp.SpacyPreprocessor(model = 'en_core_web_sm',\n",
        "                                         lemmatize =False,\n",
        "                                          lower = False, remove_stop = False,\n",
        "                                          remove_punct = False,remove_email = False,\n",
        "                                          remove_url = False, add_user_mention_prefix = False,\n",
        "                                          basic_clean_only = True).transform(X_test_fe)\n",
        "# Saving our files for later use\n",
        "file_X_train_cleaned_fe = data_folder/'X_train_cleaned_fe.pkl'\n",
        "file_X_test_cleaned_fe = data_folder/'X_test_cleaned_fe.pkl'\n",
        "\n",
        "# Dumping files to drive\n",
        "joblib.dump(X_train_cleaned_fe,file_X_train_cleaned_fe)\n",
        "joblib.dump(X_test_cleaned_fe,file_X_test_cleaned_fe)"
      ],
      "metadata": {
        "colab": {
          "base_uri": "https://localhost:8080/"
        },
        "id": "ZS1KbeGlPt8V",
        "outputId": "7a4187b3-e1d1-45ea-9b96-76e4aebf3a54"
      },
      "execution_count": 21,
      "outputs": [
        {
          "output_type": "stream",
          "name": "stderr",
          "text": [
            "/content/drive/MyDrive/Colab Notebooks/custom-functions/CustomPreprocessorSpacy.py:83: MarkupResemblesLocatorWarning: The input looks more like a filename than markup. You may want to open this file and pass the filehandle into Beautiful Soup.\n",
            "  soup = BeautifulSoup(text, \"html.parser\")\n"
          ]
        },
        {
          "output_type": "execute_result",
          "data": {
            "text/plain": [
              "['/content/drive/MyDrive/Colab Notebooks/datasets/spam_ds/X_test_cleaned_fe.pkl']"
            ]
          },
          "metadata": {},
          "execution_count": 21
        }
      ]
    },
    {
      "cell_type": "code",
      "source": [
        "!pip install pyspellchecker"
      ],
      "metadata": {
        "colab": {
          "base_uri": "https://localhost:8080/"
        },
        "id": "sVnbABKUZOfw",
        "outputId": "3cd2a184-a617-4621-fc97-645f7957d115"
      },
      "execution_count": 23,
      "outputs": [
        {
          "output_type": "stream",
          "name": "stdout",
          "text": [
            "Collecting pyspellchecker\n",
            "  Downloading pyspellchecker-0.8.1-py3-none-any.whl.metadata (9.4 kB)\n",
            "Downloading pyspellchecker-0.8.1-py3-none-any.whl (6.8 MB)\n",
            "\u001b[?25l   \u001b[90m━━━━━━━━━━━━━━━━━━━━━━━━━━━━━━━━━━━━━━━━\u001b[0m \u001b[32m0.0/6.8 MB\u001b[0m \u001b[31m?\u001b[0m eta \u001b[36m-:--:--\u001b[0m\r\u001b[2K   \u001b[91m━━━━━━━━\u001b[0m\u001b[91m╸\u001b[0m\u001b[90m━━━━━━━━━━━━━━━━━━━━━━━━━━━━━━━\u001b[0m \u001b[32m1.5/6.8 MB\u001b[0m \u001b[31m44.3 MB/s\u001b[0m eta \u001b[36m0:00:01\u001b[0m\r\u001b[2K   \u001b[91m━━━━━━━━━━━━━━━━━━━━━━━\u001b[0m\u001b[90m╺\u001b[0m\u001b[90m━━━━━━━━━━━━━━━━\u001b[0m \u001b[32m4.0/6.8 MB\u001b[0m \u001b[31m56.0 MB/s\u001b[0m eta \u001b[36m0:00:01\u001b[0m\r\u001b[2K   \u001b[91m━━━━━━━━━━━━━━━━━━━━━━━━━━━━━━━━━━━━━━━\u001b[0m\u001b[91m╸\u001b[0m \u001b[32m6.8/6.8 MB\u001b[0m \u001b[31m65.6 MB/s\u001b[0m eta \u001b[36m0:00:01\u001b[0m\r\u001b[2K   \u001b[91m━━━━━━━━━━━━━━━━━━━━━━━━━━━━━━━━━━━━━━━\u001b[0m\u001b[91m╸\u001b[0m \u001b[32m6.8/6.8 MB\u001b[0m \u001b[31m65.6 MB/s\u001b[0m eta \u001b[36m0:00:01\u001b[0m\r\u001b[2K   \u001b[90m━━━━━━━━━━━━━━━━━━━━━━━━━━━━━━━━━━━━━━━━\u001b[0m \u001b[32m6.8/6.8 MB\u001b[0m \u001b[31m38.8 MB/s\u001b[0m eta \u001b[36m0:00:00\u001b[0m\n",
            "\u001b[?25hInstalling collected packages: pyspellchecker\n",
            "Successfully installed pyspellchecker-0.8.1\n"
          ]
        }
      ]
    },
    {
      "cell_type": "code",
      "source": [
        "from FeaturizerSpacy import ExtendedManualFeatures"
      ],
      "metadata": {
        "id": "L3_Tkmn_ZQ8u"
      },
      "execution_count": 24,
      "outputs": []
    },
    {
      "cell_type": "code",
      "source": [
        "ExtendedManualFeatures??"
      ],
      "metadata": {
        "id": "iNbOKoEHV3cy"
      },
      "execution_count": null,
      "outputs": []
    },
    {
      "cell_type": "markdown",
      "source": [
        "### **<font color='Pickle'>Summary of Edits to the `ManualFeatures` Class</font>**\n",
        "\n",
        "- Below are the enhancements made to the original `ManualFeatures` class to implement a spellchecker.\n",
        "- The new method processes the `cleaned_text` input, **<font color='Pickle'>tokenizes</font>** the text into individual words, and uses the **<font color='Pickle'>SpellChecker</font>** object to identify and count misspelled words in each document.\n",
        "- This misspelled word count is then integrated into the feature set through the `transform` method.\n",
        "- The **<font color='Pickle'>transform method</font>** first calls the parent class's transform method to generate the base features and feature names.\n",
        "- It then appends the misspelled word count as a new feature, resulting in an updated array of features and names, including the new feature called `misspelled_count`.\n",
        "\n",
        "\n",
        "```python\n",
        "class ExtendedManualFeatures(ManualFeatures):\n",
        "    def __init__(self, spacy_model, batch_size=64, pos_features=True, ner_features=True, text_descriptive_features=True, spellcheck_features=True):\n",
        "        super().__init__(spacy_model, batch_size, pos_features, ner_features, text_descriptive_features)\n",
        "        self.spellcheck_features = spellcheck_features\n",
        "        self.spell = SpellChecker()\n",
        "\n",
        "    def get_spellcheck_features(self, cleaned_text):\n",
        "        misspelled_count = []\n",
        "\n",
        "        for doc in cleaned_text:\n",
        "            tokens = doc.split()  # Simple tokenization\n",
        "            misspelled = self.spell.unknown(tokens)  # Identify misspelled words\n",
        "            misspelled_count.append(len(misspelled))\n",
        "\n",
        "        return np.array(misspelled_count).reshape(-1, 1)\n",
        "\n",
        "    def transform(self, X, y=None):\n",
        "        # Use the transform method from the parent class\n",
        "        features, feature_names = super().transform(X)\n",
        "\n",
        "        if self.spellcheck_features:\n",
        "            spellcheck_features = self.get_spellcheck_features(X)\n",
        "            feature_names.append('misspelled_count')\n",
        "            features = np.hstack((features, spellcheck_features))\n",
        "\n",
        "        return features, feature_names\n"
      ],
      "metadata": {
        "id": "0SYejk-IfQMp"
      }
    },
    {
      "cell_type": "code",
      "source": [
        "featurizer = ExtendedManualFeatures(spacy_model = 'en_core_web_sm',batch_size = 1000)"
      ],
      "metadata": {
        "id": "4W0JctN_ZAZF"
      },
      "execution_count": 25,
      "outputs": []
    },
    {
      "cell_type": "markdown",
      "source": [
        "###<font color = 'Pickle'>**Reloading and fitting the featurizer on train**"
      ],
      "metadata": {
        "id": "daCDq86Dqwqz"
      }
    },
    {
      "cell_type": "code",
      "source": [
        "X_trained_cleaned_fe = joblib.load(file_X_train_cleaned_fe)\n",
        "X_train_fe_features, feature_names = featurizer.fit_transform(X_train_cleaned_fe)\n",
        "feature_names"
      ],
      "metadata": {
        "colab": {
          "base_uri": "https://localhost:8080/"
        },
        "id": "UTV0JotqhuoY",
        "outputId": "cb44a2cc-334c-4d19-f5a1-5a465912d493"
      },
      "execution_count": 26,
      "outputs": [
        {
          "output_type": "execute_result",
          "data": {
            "text/plain": [
              "['count_words',\n",
              " 'count_characters',\n",
              " 'count_characters_no_space',\n",
              " 'avg_word_length',\n",
              " 'count_numbers',\n",
              " 'count_sentences',\n",
              " 'noun_count',\n",
              " 'aux_count',\n",
              " 'verb_count',\n",
              " 'adj_count',\n",
              " 'ner',\n",
              " 'misspelled_count']"
            ]
          },
          "metadata": {},
          "execution_count": 26
        }
      ]
    },
    {
      "cell_type": "markdown",
      "source": [
        "###<font color='Pickle'>**Pipeline**"
      ],
      "metadata": {
        "id": "BmS9_BxljInt"
      }
    },
    {
      "cell_type": "code",
      "source": [
        "classifier_2 = Pipeline([\n",
        "    ('classifier',XGBClassifier(enable_categorical = True, eval_metric = 'logloss'))\n",
        "])"
      ],
      "metadata": {
        "id": "Cy91tOyLiJiU"
      },
      "execution_count": 27,
      "outputs": []
    },
    {
      "cell_type": "markdown",
      "source": [
        "###<font color='Pickle'>**Parameter Grid**"
      ],
      "metadata": {
        "id": "LQJvTcmZjPbY"
      }
    },
    {
      "cell_type": "code",
      "source": [
        "param_grid_classifier_2 = {\n",
        "    'classifier__n_estimators': [20,50,100], # Number of boosting rounds in XGB\n",
        "    'classifier__learning_rate': [0.01,0.1,0.2], # Learning rate for each boosting round\n",
        "    'classifier__max_depth': [3,5,7,9,11], # Maximum depth of trees (higher values make the model more complex)\n",
        "    'classifier__scale_pos_weight': [1,10,25,50,75,99,100,1000] # Class weight values to handle the class imbalance and some for exploration.\n",
        "}"
      ],
      "metadata": {
        "id": "MigEkwvojN44"
      },
      "execution_count": 28,
      "outputs": []
    },
    {
      "cell_type": "markdown",
      "source": [
        "###<font color='Pickle'>**Specify Random Search**"
      ],
      "metadata": {
        "id": "ctPwvNN4jk5W"
      }
    },
    {
      "cell_type": "code",
      "source": [
        "cv_strategy = RepeatedStratifiedKFold(n_splits = 5,n_repeats = 1, random_state = 42)\n",
        "\n",
        "grid_classifier_2 = RandomizedSearchCV(\n",
        "    estimator = classifier_2,\n",
        "    param_distributions = param_grid_classifier_2,\n",
        "    n_iter = 300,\n",
        "    cv = cv_strategy, #Random Stratified 5 fold\n",
        "    scoring = 'f1_macro',\n",
        "    verbose = 2,\n",
        "    n_jobs = -1\n",
        ")"
      ],
      "metadata": {
        "id": "WsLv3Me2jfJi"
      },
      "execution_count": 29,
      "outputs": []
    },
    {
      "cell_type": "markdown",
      "source": [
        "###<font color = 'Pickle'>**Fitting the model**"
      ],
      "metadata": {
        "id": "PByIXT6kkXxl"
      }
    },
    {
      "cell_type": "code",
      "source": [
        "# fitting on train\n",
        "grid_classifier_2.fit(X_train_fe_features, y_train_fe_encoded)"
      ],
      "metadata": {
        "colab": {
          "base_uri": "https://localhost:8080/",
          "height": 532
        },
        "id": "iE2NOv_ikFVG",
        "outputId": "f28e7bf7-abab-4aaa-9f5e-67eb968c42a5"
      },
      "execution_count": 30,
      "outputs": [
        {
          "output_type": "stream",
          "name": "stdout",
          "text": [
            "Fitting 5 folds for each of 300 candidates, totalling 1500 fits\n"
          ]
        },
        {
          "output_type": "execute_result",
          "data": {
            "text/plain": [
              "RandomizedSearchCV(cv=RepeatedStratifiedKFold(n_repeats=1, n_splits=5, random_state=42),\n",
              "                   estimator=Pipeline(steps=[('classifier',\n",
              "                                              XGBClassifier(base_score=None,\n",
              "                                                            booster=None,\n",
              "                                                            callbacks=None,\n",
              "                                                            colsample_bylevel=None,\n",
              "                                                            colsample_bynode=None,\n",
              "                                                            colsample_bytree=None,\n",
              "                                                            device=None,\n",
              "                                                            early_stopping_rounds=None,\n",
              "                                                            enable_categorical=True,\n",
              "                                                            eval_metric='logloss',\n",
              "                                                            feature_types=...\n",
              "                                                            monotone_constraints=None,\n",
              "                                                            multi_strategy=None,\n",
              "                                                            n_estimators=None,\n",
              "                                                            n_jobs=None,\n",
              "                                                            num_parallel_tree=None,\n",
              "                                                            random_state=None, ...))]),\n",
              "                   n_iter=300, n_jobs=-1,\n",
              "                   param_distributions={'classifier__learning_rate': [0.01, 0.1,\n",
              "                                                                      0.2],\n",
              "                                        'classifier__max_depth': [3, 5, 7, 9,\n",
              "                                                                  11],\n",
              "                                        'classifier__n_estimators': [20, 50,\n",
              "                                                                     100],\n",
              "                                        'classifier__scale_pos_weight': [1, 10,\n",
              "                                                                         25, 50,\n",
              "                                                                         75, 99,\n",
              "                                                                         100,\n",
              "                                                                         1000]},\n",
              "                   scoring='f1_macro', verbose=2)"
            ],
            "text/html": [
              "<style>#sk-container-id-1 {color: black;}#sk-container-id-1 pre{padding: 0;}#sk-container-id-1 div.sk-toggleable {background-color: white;}#sk-container-id-1 label.sk-toggleable__label {cursor: pointer;display: block;width: 100%;margin-bottom: 0;padding: 0.3em;box-sizing: border-box;text-align: center;}#sk-container-id-1 label.sk-toggleable__label-arrow:before {content: \"▸\";float: left;margin-right: 0.25em;color: #696969;}#sk-container-id-1 label.sk-toggleable__label-arrow:hover:before {color: black;}#sk-container-id-1 div.sk-estimator:hover label.sk-toggleable__label-arrow:before {color: black;}#sk-container-id-1 div.sk-toggleable__content {max-height: 0;max-width: 0;overflow: hidden;text-align: left;background-color: #f0f8ff;}#sk-container-id-1 div.sk-toggleable__content pre {margin: 0.2em;color: black;border-radius: 0.25em;background-color: #f0f8ff;}#sk-container-id-1 input.sk-toggleable__control:checked~div.sk-toggleable__content {max-height: 200px;max-width: 100%;overflow: auto;}#sk-container-id-1 input.sk-toggleable__control:checked~label.sk-toggleable__label-arrow:before {content: \"▾\";}#sk-container-id-1 div.sk-estimator input.sk-toggleable__control:checked~label.sk-toggleable__label {background-color: #d4ebff;}#sk-container-id-1 div.sk-label input.sk-toggleable__control:checked~label.sk-toggleable__label {background-color: #d4ebff;}#sk-container-id-1 input.sk-hidden--visually {border: 0;clip: rect(1px 1px 1px 1px);clip: rect(1px, 1px, 1px, 1px);height: 1px;margin: -1px;overflow: hidden;padding: 0;position: absolute;width: 1px;}#sk-container-id-1 div.sk-estimator {font-family: monospace;background-color: #f0f8ff;border: 1px dotted black;border-radius: 0.25em;box-sizing: border-box;margin-bottom: 0.5em;}#sk-container-id-1 div.sk-estimator:hover {background-color: #d4ebff;}#sk-container-id-1 div.sk-parallel-item::after {content: \"\";width: 100%;border-bottom: 1px solid gray;flex-grow: 1;}#sk-container-id-1 div.sk-label:hover label.sk-toggleable__label {background-color: #d4ebff;}#sk-container-id-1 div.sk-serial::before {content: \"\";position: absolute;border-left: 1px solid gray;box-sizing: border-box;top: 0;bottom: 0;left: 50%;z-index: 0;}#sk-container-id-1 div.sk-serial {display: flex;flex-direction: column;align-items: center;background-color: white;padding-right: 0.2em;padding-left: 0.2em;position: relative;}#sk-container-id-1 div.sk-item {position: relative;z-index: 1;}#sk-container-id-1 div.sk-parallel {display: flex;align-items: stretch;justify-content: center;background-color: white;position: relative;}#sk-container-id-1 div.sk-item::before, #sk-container-id-1 div.sk-parallel-item::before {content: \"\";position: absolute;border-left: 1px solid gray;box-sizing: border-box;top: 0;bottom: 0;left: 50%;z-index: -1;}#sk-container-id-1 div.sk-parallel-item {display: flex;flex-direction: column;z-index: 1;position: relative;background-color: white;}#sk-container-id-1 div.sk-parallel-item:first-child::after {align-self: flex-end;width: 50%;}#sk-container-id-1 div.sk-parallel-item:last-child::after {align-self: flex-start;width: 50%;}#sk-container-id-1 div.sk-parallel-item:only-child::after {width: 0;}#sk-container-id-1 div.sk-dashed-wrapped {border: 1px dashed gray;margin: 0 0.4em 0.5em 0.4em;box-sizing: border-box;padding-bottom: 0.4em;background-color: white;}#sk-container-id-1 div.sk-label label {font-family: monospace;font-weight: bold;display: inline-block;line-height: 1.2em;}#sk-container-id-1 div.sk-label-container {text-align: center;}#sk-container-id-1 div.sk-container {/* jupyter's `normalize.less` sets `[hidden] { display: none; }` but bootstrap.min.css set `[hidden] { display: none !important; }` so we also need the `!important` here to be able to override the default hidden behavior on the sphinx rendered scikit-learn.org. See: https://github.com/scikit-learn/scikit-learn/issues/21755 */display: inline-block !important;position: relative;}#sk-container-id-1 div.sk-text-repr-fallback {display: none;}</style><div id=\"sk-container-id-1\" class=\"sk-top-container\"><div class=\"sk-text-repr-fallback\"><pre>RandomizedSearchCV(cv=RepeatedStratifiedKFold(n_repeats=1, n_splits=5, random_state=42),\n",
              "                   estimator=Pipeline(steps=[(&#x27;classifier&#x27;,\n",
              "                                              XGBClassifier(base_score=None,\n",
              "                                                            booster=None,\n",
              "                                                            callbacks=None,\n",
              "                                                            colsample_bylevel=None,\n",
              "                                                            colsample_bynode=None,\n",
              "                                                            colsample_bytree=None,\n",
              "                                                            device=None,\n",
              "                                                            early_stopping_rounds=None,\n",
              "                                                            enable_categorical=True,\n",
              "                                                            eval_metric=&#x27;logloss&#x27;,\n",
              "                                                            feature_types=...\n",
              "                                                            monotone_constraints=None,\n",
              "                                                            multi_strategy=None,\n",
              "                                                            n_estimators=None,\n",
              "                                                            n_jobs=None,\n",
              "                                                            num_parallel_tree=None,\n",
              "                                                            random_state=None, ...))]),\n",
              "                   n_iter=300, n_jobs=-1,\n",
              "                   param_distributions={&#x27;classifier__learning_rate&#x27;: [0.01, 0.1,\n",
              "                                                                      0.2],\n",
              "                                        &#x27;classifier__max_depth&#x27;: [3, 5, 7, 9,\n",
              "                                                                  11],\n",
              "                                        &#x27;classifier__n_estimators&#x27;: [20, 50,\n",
              "                                                                     100],\n",
              "                                        &#x27;classifier__scale_pos_weight&#x27;: [1, 10,\n",
              "                                                                         25, 50,\n",
              "                                                                         75, 99,\n",
              "                                                                         100,\n",
              "                                                                         1000]},\n",
              "                   scoring=&#x27;f1_macro&#x27;, verbose=2)</pre><b>In a Jupyter environment, please rerun this cell to show the HTML representation or trust the notebook. <br />On GitHub, the HTML representation is unable to render, please try loading this page with nbviewer.org.</b></div><div class=\"sk-container\" hidden><div class=\"sk-item sk-dashed-wrapped\"><div class=\"sk-label-container\"><div class=\"sk-label sk-toggleable\"><input class=\"sk-toggleable__control sk-hidden--visually\" id=\"sk-estimator-id-1\" type=\"checkbox\" ><label for=\"sk-estimator-id-1\" class=\"sk-toggleable__label sk-toggleable__label-arrow\">RandomizedSearchCV</label><div class=\"sk-toggleable__content\"><pre>RandomizedSearchCV(cv=RepeatedStratifiedKFold(n_repeats=1, n_splits=5, random_state=42),\n",
              "                   estimator=Pipeline(steps=[(&#x27;classifier&#x27;,\n",
              "                                              XGBClassifier(base_score=None,\n",
              "                                                            booster=None,\n",
              "                                                            callbacks=None,\n",
              "                                                            colsample_bylevel=None,\n",
              "                                                            colsample_bynode=None,\n",
              "                                                            colsample_bytree=None,\n",
              "                                                            device=None,\n",
              "                                                            early_stopping_rounds=None,\n",
              "                                                            enable_categorical=True,\n",
              "                                                            eval_metric=&#x27;logloss&#x27;,\n",
              "                                                            feature_types=...\n",
              "                                                            monotone_constraints=None,\n",
              "                                                            multi_strategy=None,\n",
              "                                                            n_estimators=None,\n",
              "                                                            n_jobs=None,\n",
              "                                                            num_parallel_tree=None,\n",
              "                                                            random_state=None, ...))]),\n",
              "                   n_iter=300, n_jobs=-1,\n",
              "                   param_distributions={&#x27;classifier__learning_rate&#x27;: [0.01, 0.1,\n",
              "                                                                      0.2],\n",
              "                                        &#x27;classifier__max_depth&#x27;: [3, 5, 7, 9,\n",
              "                                                                  11],\n",
              "                                        &#x27;classifier__n_estimators&#x27;: [20, 50,\n",
              "                                                                     100],\n",
              "                                        &#x27;classifier__scale_pos_weight&#x27;: [1, 10,\n",
              "                                                                         25, 50,\n",
              "                                                                         75, 99,\n",
              "                                                                         100,\n",
              "                                                                         1000]},\n",
              "                   scoring=&#x27;f1_macro&#x27;, verbose=2)</pre></div></div></div><div class=\"sk-parallel\"><div class=\"sk-parallel-item\"><div class=\"sk-item\"><div class=\"sk-label-container\"><div class=\"sk-label sk-toggleable\"><input class=\"sk-toggleable__control sk-hidden--visually\" id=\"sk-estimator-id-2\" type=\"checkbox\" ><label for=\"sk-estimator-id-2\" class=\"sk-toggleable__label sk-toggleable__label-arrow\">estimator: Pipeline</label><div class=\"sk-toggleable__content\"><pre>Pipeline(steps=[(&#x27;classifier&#x27;,\n",
              "                 XGBClassifier(base_score=None, booster=None, callbacks=None,\n",
              "                               colsample_bylevel=None, colsample_bynode=None,\n",
              "                               colsample_bytree=None, device=None,\n",
              "                               early_stopping_rounds=None,\n",
              "                               enable_categorical=True, eval_metric=&#x27;logloss&#x27;,\n",
              "                               feature_types=None, gamma=None, grow_policy=None,\n",
              "                               importance_type=None,\n",
              "                               interaction_constraints=None, learning_rate=None,\n",
              "                               max_bin=None, max_cat_threshold=None,\n",
              "                               max_cat_to_onehot=None, max_delta_step=None,\n",
              "                               max_depth=None, max_leaves=None,\n",
              "                               min_child_weight=None, missing=nan,\n",
              "                               monotone_constraints=None, multi_strategy=None,\n",
              "                               n_estimators=None, n_jobs=None,\n",
              "                               num_parallel_tree=None, random_state=None, ...))])</pre></div></div></div><div class=\"sk-serial\"><div class=\"sk-item\"><div class=\"sk-serial\"><div class=\"sk-item\"><div class=\"sk-estimator sk-toggleable\"><input class=\"sk-toggleable__control sk-hidden--visually\" id=\"sk-estimator-id-3\" type=\"checkbox\" ><label for=\"sk-estimator-id-3\" class=\"sk-toggleable__label sk-toggleable__label-arrow\">XGBClassifier</label><div class=\"sk-toggleable__content\"><pre>XGBClassifier(base_score=None, booster=None, callbacks=None,\n",
              "              colsample_bylevel=None, colsample_bynode=None,\n",
              "              colsample_bytree=None, device=None, early_stopping_rounds=None,\n",
              "              enable_categorical=True, eval_metric=&#x27;logloss&#x27;,\n",
              "              feature_types=None, gamma=None, grow_policy=None,\n",
              "              importance_type=None, interaction_constraints=None,\n",
              "              learning_rate=None, max_bin=None, max_cat_threshold=None,\n",
              "              max_cat_to_onehot=None, max_delta_step=None, max_depth=None,\n",
              "              max_leaves=None, min_child_weight=None, missing=nan,\n",
              "              monotone_constraints=None, multi_strategy=None, n_estimators=None,\n",
              "              n_jobs=None, num_parallel_tree=None, random_state=None, ...)</pre></div></div></div></div></div></div></div></div></div></div></div></div>"
            ]
          },
          "metadata": {},
          "execution_count": 30
        }
      ]
    },
    {
      "cell_type": "markdown",
      "source": [
        "###<font color = 'Pickle'>**Getting best parameters**"
      ],
      "metadata": {
        "id": "HUQV6-Y6lCps"
      }
    },
    {
      "cell_type": "code",
      "source": [
        "print('Best Cross validation:',{grid_classifier_2.best_score_}) # calling the best score attribute\n",
        "print('\\nBest Parameters:',grid_classifier_2.best_params_) #best param attribute\n",
        "print('\\nBest estimator:', grid_classifier_2.best_estimator_) # best estimator attribute"
      ],
      "metadata": {
        "colab": {
          "base_uri": "https://localhost:8080/"
        },
        "id": "CKUdMM3hkqG5",
        "outputId": "47d20ef3-2b06-4d93-e755-1edbfcace6b5"
      },
      "execution_count": 31,
      "outputs": [
        {
          "output_type": "stream",
          "name": "stdout",
          "text": [
            "Best Cross validation: {0.9229371398596437}\n",
            "\n",
            "Best Parameters: {'classifier__scale_pos_weight': 10, 'classifier__n_estimators': 100, 'classifier__max_depth': 3, 'classifier__learning_rate': 0.2}\n",
            "\n",
            "Best estimator: Pipeline(steps=[('classifier',\n",
            "                 XGBClassifier(base_score=None, booster=None, callbacks=None,\n",
            "                               colsample_bylevel=None, colsample_bynode=None,\n",
            "                               colsample_bytree=None, device=None,\n",
            "                               early_stopping_rounds=None,\n",
            "                               enable_categorical=True, eval_metric='logloss',\n",
            "                               feature_types=None, gamma=None, grow_policy=None,\n",
            "                               importance_type=None,\n",
            "                               interaction_constraints=None, learning_rate=0.2,\n",
            "                               max_bin=None, max_cat_threshold=None,\n",
            "                               max_cat_to_onehot=None, max_delta_step=None,\n",
            "                               max_depth=3, max_leaves=None,\n",
            "                               min_child_weight=None, missing=nan,\n",
            "                               monotone_constraints=None, multi_strategy=None,\n",
            "                               n_estimators=100, n_jobs=None,\n",
            "                               num_parallel_tree=None, random_state=None, ...))])\n"
          ]
        }
      ]
    },
    {
      "cell_type": "markdown",
      "source": [
        "###<font color = 'Pickle'>**Saving the Model**"
      ],
      "metadata": {
        "id": "UMTr11fGlvFL"
      }
    },
    {
      "cell_type": "code",
      "source": [
        "file_best_estimator_pipeline_2 = model_folder/'pipeline2_fe_best_estimator.pkl'\n",
        "\n",
        "file_complete_grid_pipeline2 = model_folder/'pipeline2_fe_complete_grid.pkl'\n",
        "\n",
        "joblib.dump(grid_classifier_2.best_estimator_, file_best_estimator_pipeline_2)\n",
        "\n",
        "joblib.dump(grid_classifier_2,file_complete_grid_pipeline2)\n"
      ],
      "metadata": {
        "colab": {
          "base_uri": "https://localhost:8080/"
        },
        "id": "Y5R5gBguloK-",
        "outputId": "15a9e2f1-5dfb-47b1-f8e4-fc326d35f209"
      },
      "execution_count": 32,
      "outputs": [
        {
          "output_type": "execute_result",
          "data": {
            "text/plain": [
              "['/content/drive/MyDrive/Colab Notebooks/models/nlp_fall_2024/spam/pipeline2_fe_complete_grid.pkl']"
            ]
          },
          "metadata": {},
          "execution_count": 32
        }
      ]
    },
    {
      "cell_type": "markdown",
      "source": [
        "###<font color = 'Pickle'>**Reload the saved model**"
      ],
      "metadata": {
        "id": "E1repPUrmiR-"
      }
    },
    {
      "cell_type": "code",
      "source": [
        "best_estimator_pipeline2 = joblib.load(file_best_estimator_pipeline_2)\n",
        "\n",
        "complete_grid_pipeline2 = joblib.load(file_complete_grid_pipeline2)"
      ],
      "metadata": {
        "id": "kE0KlpM2mGXj"
      },
      "execution_count": 33,
      "outputs": []
    },
    {
      "cell_type": "markdown",
      "source": [
        "###<font color = 'Pickle'>**Plot the learning curve for the model**"
      ],
      "metadata": {
        "id": "zXOfeY3TnFnr"
      }
    },
    {
      "cell_type": "code",
      "source": [
        "from plot_learning_curve import plot_learning_curve"
      ],
      "metadata": {
        "id": "nyXAXShwnTeE"
      },
      "execution_count": 34,
      "outputs": []
    },
    {
      "cell_type": "code",
      "source": [
        "plot_learning_curve(\n",
        "    best_estimator_pipeline2,\n",
        "    'Learning Curves for XGBoost with F1: Manual Features',\n",
        "    X_train_fe_features,\n",
        "    y_train_fe_encoded,\n",
        "    scoring = 'f1_macro',\n",
        "    n_jobs = -1)\n"
      ],
      "metadata": {
        "colab": {
          "base_uri": "https://localhost:8080/",
          "height": 308
        },
        "id": "ZvZSobiym_tA",
        "outputId": "fe0d7d26-0251-4c0d-a740-dd7f3d34f26c"
      },
      "execution_count": 35,
      "outputs": [
        {
          "output_type": "execute_result",
          "data": {
            "text/plain": [
              "<module 'matplotlib.pyplot' from '/usr/local/lib/python3.10/dist-packages/matplotlib/pyplot.py'>"
            ]
          },
          "metadata": {},
          "execution_count": 35
        },
        {
          "output_type": "display_data",
          "data": {
            "text/plain": [
              "<Figure size 2000x500 with 3 Axes>"
            ],
            "image/png": "[encoded data removed]"
          },
          "metadata": {}
        }
      ]
    },
    {
      "cell_type": "markdown",
      "source": [
        "### **<font color='Pickle'>Observations</font>**\n",
        "\n",
        "- **<font color='Pickle'>Learning Curve:</font>**  \n",
        "  The model is clearly overfitting. The training score remains locked at 1.0, while the gap between the training and CV scores shows that it isn’t generalizing well to unseen data. The CV score starts off improving quickly, but we can see a noticeable dip in the middle before it levels off again. This suggests the model's generalization ability fluctuates as it sees more data.\n",
        "\n",
        "- **<font color='Pickle'>Scalability of the Model:</font>**  \n",
        "  Fit times increase as the training size grows, which is expected. However, the increase is jagged, indicating spikes in computational demand. This could suggest some inconsistency in how the model handles larger datasets or the increasing complexity of the data.\n",
        "\n",
        "- **<font color='Pickle'>Performance of the Model:</font>**  \n",
        "  There’s a dip in model performance as fit times increase, but it bounces back to a similar level by the end. While the model eventually recovers some performance, the initial dip points to inefficiencies, possibly linked to overfitting.\n",
        "\n",
        "### **<font color='Pickle'>Next Steps</font>**\n",
        "\n",
        "- Regularization or simplifying the model should help tackle overfitting and smooth out performance.\n",
        "- Hyperparameter tuning (e.g., adjusting tree depth, learning rate, or regularization) could stabilize generalization and reduce fluctuations.\n",
        "- Adding more data or using augmentation techniques might improve CV performance and help smooth out the jagged learning curves.\n",
        "\n",
        "\n"
      ],
      "metadata": {
        "id": "FBwIj_HdrJZC"
      }
    },
    {
      "cell_type": "code",
      "source": [
        "#Checking the train scores\n",
        "print(best_estimator_pipeline2.score(X_train_fe_features,y_train_fe_encoded))\n",
        "\n",
        "#Checking the CV scores\n",
        "print(complete_grid_pipeline2.best_score_)"
      ],
      "metadata": {
        "colab": {
          "base_uri": "https://localhost:8080/"
        },
        "id": "kA-dSopYn3W-",
        "outputId": "c4736017-bf81-4f08-c4e7-1b669c1a99c6"
      },
      "execution_count": 36,
      "outputs": [
        {
          "output_type": "stream",
          "name": "stdout",
          "text": [
            "1.0\n",
            "0.9229371398596437\n"
          ]
        }
      ]
    },
    {
      "cell_type": "markdown",
      "source": [
        "###<font color ='Pickle'>**Evaluating on the test dataset**\n"
      ],
      "metadata": {
        "id": "-MkO5QYFySk2"
      }
    },
    {
      "cell_type": "code",
      "source": [
        "#Final Pipeline\n",
        "def final_pipeline(text):\n",
        "  text_cleaned = joblib.load(file_X_test_cleaned_fe)\n",
        "  features,feature_names = featurizer.fit_transform(text_cleaned)\n",
        "  best_estimator_pipeline2 = joblib.load(file_best_estimator_pipeline_2)\n",
        "  predictions = best_estimator_pipeline2.predict(features)\n",
        "  return predictions"
      ],
      "metadata": {
        "id": "xyY6vhGRyMI1"
      },
      "execution_count": 37,
      "outputs": []
    },
    {
      "cell_type": "code",
      "source": [
        "# Making final predictions on the testing data set\n",
        "y_test_pred_fe = final_pipeline(X_test_fe)"
      ],
      "metadata": {
        "id": "sCnCIWb2zPE1"
      },
      "execution_count": 38,
      "outputs": []
    },
    {
      "cell_type": "markdown",
      "source": [
        "###<font color = 'Pickle'>**Classification report**"
      ],
      "metadata": {
        "id": "6ZTaJklkzfxN"
      }
    },
    {
      "cell_type": "code",
      "source": [
        "print('\\nTest Set classification report:\\n\\n',\n",
        "      classification_report(y_test_fe_encoded,y_test_pred_fe))"
      ],
      "metadata": {
        "colab": {
          "base_uri": "https://localhost:8080/"
        },
        "id": "4CHy-HFSzdbf",
        "outputId": "8e7e0681-a373-491e-98cc-5c3f5327f2ac"
      },
      "execution_count": 39,
      "outputs": [
        {
          "output_type": "stream",
          "name": "stdout",
          "text": [
            "\n",
            "Test Set classification report:\n",
            "\n",
            "               precision    recall  f1-score   support\n",
            "\n",
            "           0       0.98      0.96      0.97       187\n",
            "           1       0.82      0.89      0.85        36\n",
            "\n",
            "    accuracy                           0.95       223\n",
            "   macro avg       0.90      0.93      0.91       223\n",
            "weighted avg       0.95      0.95      0.95       223\n",
            "\n"
          ]
        }
      ]
    },
    {
      "cell_type": "markdown",
      "source": [
        "### **<font color='Pickle'>Model Interpretation Summary</font>**\n",
        "\n",
        "- **<font color='Pickle'>Class 0 (Ham - Majority Class):</font>**\n",
        "  - **<font color='Pickle'>Precision (0.98):</font>** The model correctly identifies 98% of ham emails, making it highly accurate in avoiding false positives for non-spam emails.\n",
        "  - **<font color='Pickle'>Recall (0.96):</font>** With a recall of 96%, the model is doing an excellent job of capturing nearly all ham emails, missing only a small fraction.\n",
        "  - **<font color='Pickle'>F1-Score (0.97):</font>** The F1-score, which balances precision and recall, is very high, indicating strong performance on the majority class.\n",
        "\n",
        "- **<font color='Pickle'>Class 1 (Spam - Minority Class):</font>**\n",
        "  - **<font color='Pickle'>Precision (0.82):</font>** When the model predicts an email as spam, it’s accurate 82% of the time, meaning that 18% of the emails classified as spam are actually not spam emails (false positives). This is a solid improvement, but still something to keep an eye on.\n",
        "  - **<font color='Pickle'>Recall (0.89):</font>** The model successfully identifies 89% of the actual spam emails. There's room for improvement here, but it’s catching most of the spam.\n",
        "  - **<font color='Pickle'>F1-Score (0.85):</font>** The balance between precision and recall gives us an F1-score of 0.85, which shows decent handling of the minority class. While better than before, some overfitting could still be a concern.\n",
        "\n",
        "### **<font color='Pickle'>Overall Takeaway:</font>**\n",
        "\n",
        "- **<font color='Pickle'>Majority Class (Ham) Performance:</font>** The model nails it when it comes to identifying ham emails, with precision and recall both hitting near-perfect scores. This ensures legit emails don’t mistakenly get flagged as spam, which is a huge win.\n",
        "\n",
        "- **<font color='Pickle'>Spam Detection (Minority Class):</font>** The model does well in catching most spam emails, boosting the recall, but there’s a slight dip in precision, meaning some ham emails are misclassified as spam. The solid F1-score shows we’ve struck a good balance between catching spam and minimizing false positives.\n",
        "\n",
        "- **<font color='Pickle'>Watch Out for Overfitting:</font>** The high performance overall hints that we could be overfitting a bit, especially given the minority class performance. This could hurt generalization on unseen data, so we’ll need to monitor this closely.\n",
        "\n",
        "\n",
        "\n"
      ],
      "metadata": {
        "id": "p2BsUE_31C1W"
      }
    },
    {
      "cell_type": "markdown",
      "source": [
        "#<font color = \"Pickle\">**Third Pipeline: Preprocessing + Manual and TDIDF features + ML Modeling**"
      ],
      "metadata": {
        "id": "SjWjZJboTyue"
      }
    },
    {
      "cell_type": "markdown",
      "source": [
        "## **<font color='Pickle'>For this pipeline, I will:</font>**\n",
        "\n",
        "- Concatenate the features lists from both the Manual and TDIDF vectorizer pipelines into one dataset.\n",
        "- Ensure the Test data set remains constant\n",
        "- Create the data pipeline that integrates these engineered features witin a sparse transformer along with an <font color='Pickle'>**XGBoost**</font> model.\n",
        "- Train the hyperparameters of the model using <font color='Pickle'>**GridSearchCV**</font> with 5-fold cross-validation.\n",
        "- Fit the best parameters on the training data to evaluate the model.\n",
        "- Plot the learning curves of the model based on a model performance metric <font color='Pickle'>**(F1 score)**</font>.\n",
        "- Evaluate the model on the test dataset by printing the classification report.\n"
      ],
      "metadata": {
        "id": "alYO9Z07URzY"
      }
    },
    {
      "cell_type": "markdown",
      "source": [
        "###<font color = \"Pickle\">**Concatenating the training datasets.**"
      ],
      "metadata": {
        "id": "se_sw4-uhOEq"
      }
    },
    {
      "cell_type": "code",
      "source": [
        "# Load in manual features cleaned training set\n",
        "X_trained_cleaned_s = joblib.load(file_X_train_cleaned_s)"
      ],
      "metadata": {
        "id": "c46wNRfq0yrL"
      },
      "execution_count": 46,
      "outputs": []
    },
    {
      "cell_type": "code",
      "source": [
        "# Concatenating the cleaned text data with the features dataframe\n",
        "X_train_combo = pd.concat((pd.DataFrame(X_train_cleaned_s, columns = ['cleaned_text']),\n",
        "                           pd.DataFrame(X_train_fe_features, columns=feature_names)), axis = 1)\n",
        "\n",
        "\n",
        "y_train_combo = y_train_s_encoded\n",
        "y_test_combo = y_test_s_encoded"
      ],
      "metadata": {
        "id": "r9SVPzAoiYGW"
      },
      "execution_count": 63,
      "outputs": []
    },
    {
      "cell_type": "markdown",
      "source": [
        "<font color = 'Pickle'>**Below we will see the columns of the new data set that has all of the manual features created in the second pipeline and the cleaned text in one column.**\n",
        "- Next, I will create two pipelines, one to take the manual feature columns and transform them into a sparse matrix, and another to run tfidf vectorization on the cleaned text column of the data.\n",
        "- Then I will combine both of these pipelines into one and implement it within the classification pipeine.\n"
      ],
      "metadata": {
        "id": "1Y2I9scdk3sv"
      }
    },
    {
      "cell_type": "code",
      "source": [
        "X_train_combo.head()"
      ],
      "metadata": {
        "colab": {
          "base_uri": "https://localhost:8080/",
          "height": 348
        },
        "id": "eq3Ih136jwoT",
        "outputId": "88a78087-91b6-41c7-a03b-688d0a5878b3"
      },
      "execution_count": 48,
      "outputs": [
        {
          "output_type": "execute_result",
          "data": {
            "text/plain": [
              "                                        cleaned_text  count_words  \\\n",
              "0                                     fredericksburg          4.0   \n",
              "1                                          like jerk          8.0   \n",
              "2  u ask darren n pick u lor oso sian tmr haf 2 m...         18.0   \n",
              "3                          hey morning come ask:- pa          8.0   \n",
              "4          promise get soon text morning let know ok         29.0   \n",
              "\n",
              "   count_characters  count_characters_no_space  avg_word_length  \\\n",
              "0              32.0                       29.0         5.800000   \n",
              "1              35.0                       30.0         3.333333   \n",
              "2              74.0                       57.0         3.000000   \n",
              "3              41.0                       34.0         3.777778   \n",
              "4             124.0                       97.0         3.233333   \n",
              "\n",
              "   count_numbers  count_sentences  noun_count  aux_count  verb_count  \\\n",
              "0            0.0              1.0         1.0        1.0         0.0   \n",
              "1            0.0              2.0         1.0        2.0         1.0   \n",
              "2            1.0              1.0         7.0        0.0         5.0   \n",
              "3            0.0              1.0         2.0        0.0         1.0   \n",
              "4            0.0              2.0         2.0        2.0         6.0   \n",
              "\n",
              "   adj_count  ner  misspelled_count  \n",
              "0        0.0  1.0               1.0  \n",
              "1        0.0  1.0               2.0  \n",
              "2        1.0  2.0               7.0  \n",
              "3        0.0  0.0               2.0  \n",
              "4        0.0  0.0               2.0  "
            ],
            "text/html": [
              "\n",
              "  <div id=\"df-504b509f-ea0e-41f1-befc-212628073395\" class=\"colab-df-container\">\n",
              "    <div>\n",
              "<style scoped>\n",
              "    .dataframe tbody tr th:only-of-type {\n",
              "        vertical-align: middle;\n",
              "    }\n",
              "\n",
              "    .dataframe tbody tr th {\n",
              "        vertical-align: top;\n",
              "    }\n",
              "\n",
              "    .dataframe thead th {\n",
              "        text-align: right;\n",
              "    }\n",
              "</style>\n",
              "<table border=\"1\" class=\"dataframe\">\n",
              "  <thead>\n",
              "    <tr style=\"text-align: right;\">\n",
              "      <th></th>\n",
              "      <th>cleaned_text</th>\n",
              "      <th>count_words</th>\n",
              "      <th>count_characters</th>\n",
              "      <th>count_characters_no_space</th>\n",
              "      <th>avg_word_length</th>\n",
              "      <th>count_numbers</th>\n",
              "      <th>count_sentences</th>\n",
              "      <th>noun_count</th>\n",
              "      <th>aux_count</th>\n",
              "      <th>verb_count</th>\n",
              "      <th>adj_count</th>\n",
              "      <th>ner</th>\n",
              "      <th>misspelled_count</th>\n",
              "    </tr>\n",
              "  </thead>\n",
              "  <tbody>\n",
              "    <tr>\n",
              "      <th>0</th>\n",
              "      <td>fredericksburg</td>\n",
              "      <td>4.0</td>\n",
              "      <td>32.0</td>\n",
              "      <td>29.0</td>\n",
              "      <td>5.800000</td>\n",
              "      <td>0.0</td>\n",
              "      <td>1.0</td>\n",
              "      <td>1.0</td>\n",
              "      <td>1.0</td>\n",
              "      <td>0.0</td>\n",
              "      <td>0.0</td>\n",
              "      <td>1.0</td>\n",
              "      <td>1.0</td>\n",
              "    </tr>\n",
              "    <tr>\n",
              "      <th>1</th>\n",
              "      <td>like jerk</td>\n",
              "      <td>8.0</td>\n",
              "      <td>35.0</td>\n",
              "      <td>30.0</td>\n",
              "      <td>3.333333</td>\n",
              "      <td>0.0</td>\n",
              "      <td>2.0</td>\n",
              "      <td>1.0</td>\n",
              "      <td>2.0</td>\n",
              "      <td>1.0</td>\n",
              "      <td>0.0</td>\n",
              "      <td>1.0</td>\n",
              "      <td>2.0</td>\n",
              "    </tr>\n",
              "    <tr>\n",
              "      <th>2</th>\n",
              "      <td>u ask darren n pick u lor oso sian tmr haf 2 m...</td>\n",
              "      <td>18.0</td>\n",
              "      <td>74.0</td>\n",
              "      <td>57.0</td>\n",
              "      <td>3.000000</td>\n",
              "      <td>1.0</td>\n",
              "      <td>1.0</td>\n",
              "      <td>7.0</td>\n",
              "      <td>0.0</td>\n",
              "      <td>5.0</td>\n",
              "      <td>1.0</td>\n",
              "      <td>2.0</td>\n",
              "      <td>7.0</td>\n",
              "    </tr>\n",
              "    <tr>\n",
              "      <th>3</th>\n",
              "      <td>hey morning come ask:- pa</td>\n",
              "      <td>8.0</td>\n",
              "      <td>41.0</td>\n",
              "      <td>34.0</td>\n",
              "      <td>3.777778</td>\n",
              "      <td>0.0</td>\n",
              "      <td>1.0</td>\n",
              "      <td>2.0</td>\n",
              "      <td>0.0</td>\n",
              "      <td>1.0</td>\n",
              "      <td>0.0</td>\n",
              "      <td>0.0</td>\n",
              "      <td>2.0</td>\n",
              "    </tr>\n",
              "    <tr>\n",
              "      <th>4</th>\n",
              "      <td>promise get soon text morning let know ok</td>\n",
              "      <td>29.0</td>\n",
              "      <td>124.0</td>\n",
              "      <td>97.0</td>\n",
              "      <td>3.233333</td>\n",
              "      <td>0.0</td>\n",
              "      <td>2.0</td>\n",
              "      <td>2.0</td>\n",
              "      <td>2.0</td>\n",
              "      <td>6.0</td>\n",
              "      <td>0.0</td>\n",
              "      <td>0.0</td>\n",
              "      <td>2.0</td>\n",
              "    </tr>\n",
              "  </tbody>\n",
              "</table>\n",
              "</div>\n",
              "    <div class=\"colab-df-buttons\">\n",
              "\n",
              "  <div class=\"colab-df-container\">\n",
              "    <button class=\"colab-df-convert\" onclick=\"convertToInteractive('df-504b509f-ea0e-41f1-befc-212628073395')\"\n",
              "            title=\"Convert this dataframe to an interactive table.\"\n",
              "            style=\"display:none;\">\n",
              "\n",
              "  <svg xmlns=\"http://www.w3.org/2000/svg\" height=\"24px\" viewBox=\"0 -960 960 960\">\n",
              "    <path d=\"M120-120v-720h720v720H120Zm60-500h600v-160H180v160Zm220 220h160v-160H400v160Zm0 220h160v-160H400v160ZM180-400h160v-160H180v160Zm440 0h160v-160H620v160ZM180-180h160v-160H180v160Zm440 0h160v-160H620v160Z\"/>\n",
              "  </svg>\n",
              "    </button>\n",
              "\n",
              "  <style>\n",
              "    .colab-df-container {\n",
              "      display:flex;\n",
              "      gap: 12px;\n",
              "    }\n",
              "\n",
              "    .colab-df-convert {\n",
              "      background-color: #E8F0FE;\n",
              "      border: none;\n",
              "      border-radius: 50%;\n",
              "      cursor: pointer;\n",
              "      display: none;\n",
              "      fill: #1967D2;\n",
              "      height: 32px;\n",
              "      padding: 0 0 0 0;\n",
              "      width: 32px;\n",
              "    }\n",
              "\n",
              "    .colab-df-convert:hover {\n",
              "      background-color: #E2EBFA;\n",
              "      box-shadow: 0px 1px 2px rgba(60, 64, 67, 0.3), 0px 1px 3px 1px rgba(60, 64, 67, 0.15);\n",
              "      fill: #174EA6;\n",
              "    }\n",
              "\n",
              "    .colab-df-buttons div {\n",
              "      margin-bottom: 4px;\n",
              "    }\n",
              "\n",
              "    [theme=dark] .colab-df-convert {\n",
              "      background-color: #3B4455;\n",
              "      fill: #D2E3FC;\n",
              "    }\n",
              "\n",
              "    [theme=dark] .colab-df-convert:hover {\n",
              "      background-color: #434B5C;\n",
              "      box-shadow: 0px 1px 3px 1px rgba(0, 0, 0, 0.15);\n",
              "      filter: drop-shadow(0px 1px 2px rgba(0, 0, 0, 0.3));\n",
              "      fill: #FFFFFF;\n",
              "    }\n",
              "  </style>\n",
              "\n",
              "    <script>\n",
              "      const buttonEl =\n",
              "        document.querySelector('#df-504b509f-ea0e-41f1-befc-212628073395 button.colab-df-convert');\n",
              "      buttonEl.style.display =\n",
              "        google.colab.kernel.accessAllowed ? 'block' : 'none';\n",
              "\n",
              "      async function convertToInteractive(key) {\n",
              "        const element = document.querySelector('#df-504b509f-ea0e-41f1-befc-212628073395');\n",
              "        const dataTable =\n",
              "          await google.colab.kernel.invokeFunction('convertToInteractive',\n",
              "                                                    [key], {});\n",
              "        if (!dataTable) return;\n",
              "\n",
              "        const docLinkHtml = 'Like what you see? Visit the ' +\n",
              "          '<a target=\"_blank\" href=https://colab.research.google.com/notebooks/data_table.ipynb>data table notebook</a>'\n",
              "          + ' to learn more about interactive tables.';\n",
              "        element.innerHTML = '';\n",
              "        dataTable['output_type'] = 'display_data';\n",
              "        await google.colab.output.renderOutput(dataTable, element);\n",
              "        const docLink = document.createElement('div');\n",
              "        docLink.innerHTML = docLinkHtml;\n",
              "        element.appendChild(docLink);\n",
              "      }\n",
              "    </script>\n",
              "  </div>\n",
              "\n",
              "\n",
              "<div id=\"df-75859ed6-48c9-4b0b-8cce-f53266ffac6a\">\n",
              "  <button class=\"colab-df-quickchart\" onclick=\"quickchart('df-75859ed6-48c9-4b0b-8cce-f53266ffac6a')\"\n",
              "            title=\"Suggest charts\"\n",
              "            style=\"display:none;\">\n",
              "\n",
              "<svg xmlns=\"http://www.w3.org/2000/svg\" height=\"24px\"viewBox=\"0 0 24 24\"\n",
              "     width=\"24px\">\n",
              "    <g>\n",
              "        <path d=\"M19 3H5c-1.1 0-2 .9-2 2v14c0 1.1.9 2 2 2h14c1.1 0 2-.9 2-2V5c0-1.1-.9-2-2-2zM9 17H7v-7h2v7zm4 0h-2V7h2v10zm4 0h-2v-4h2v4z\"/>\n",
              "    </g>\n",
              "</svg>\n",
              "  </button>\n",
              "\n",
              "<style>\n",
              "  .colab-df-quickchart {\n",
              "      --bg-color: #E8F0FE;\n",
              "      --fill-color: #1967D2;\n",
              "      --hover-bg-color: #E2EBFA;\n",
              "      --hover-fill-color: #174EA6;\n",
              "      --disabled-fill-color: #AAA;\n",
              "      --disabled-bg-color: #DDD;\n",
              "  }\n",
              "\n",
              "  [theme=dark] .colab-df-quickchart {\n",
              "      --bg-color: #3B4455;\n",
              "      --fill-color: #D2E3FC;\n",
              "      --hover-bg-color: #434B5C;\n",
              "      --hover-fill-color: #FFFFFF;\n",
              "      --disabled-bg-color: #3B4455;\n",
              "      --disabled-fill-color: #666;\n",
              "  }\n",
              "\n",
              "  .colab-df-quickchart {\n",
              "    background-color: var(--bg-color);\n",
              "    border: none;\n",
              "    border-radius: 50%;\n",
              "    cursor: pointer;\n",
              "    display: none;\n",
              "    fill: var(--fill-color);\n",
              "    height: 32px;\n",
              "    padding: 0;\n",
              "    width: 32px;\n",
              "  }\n",
              "\n",
              "  .colab-df-quickchart:hover {\n",
              "    background-color: var(--hover-bg-color);\n",
              "    box-shadow: 0 1px 2px rgba(60, 64, 67, 0.3), 0 1px 3px 1px rgba(60, 64, 67, 0.15);\n",
              "    fill: var(--button-hover-fill-color);\n",
              "  }\n",
              "\n",
              "  .colab-df-quickchart-complete:disabled,\n",
              "  .colab-df-quickchart-complete:disabled:hover {\n",
              "    background-color: var(--disabled-bg-color);\n",
              "    fill: var(--disabled-fill-color);\n",
              "    box-shadow: none;\n",
              "  }\n",
              "\n",
              "  .colab-df-spinner {\n",
              "    border: 2px solid var(--fill-color);\n",
              "    border-color: transparent;\n",
              "    border-bottom-color: var(--fill-color);\n",
              "    animation:\n",
              "      spin 1s steps(1) infinite;\n",
              "  }\n",
              "\n",
              "  @keyframes spin {\n",
              "    0% {\n",
              "      border-color: transparent;\n",
              "      border-bottom-color: var(--fill-color);\n",
              "      border-left-color: var(--fill-color);\n",
              "    }\n",
              "    20% {\n",
              "      border-color: transparent;\n",
              "      border-left-color: var(--fill-color);\n",
              "      border-top-color: var(--fill-color);\n",
              "    }\n",
              "    30% {\n",
              "      border-color: transparent;\n",
              "      border-left-color: var(--fill-color);\n",
              "      border-top-color: var(--fill-color);\n",
              "      border-right-color: var(--fill-color);\n",
              "    }\n",
              "    40% {\n",
              "      border-color: transparent;\n",
              "      border-right-color: var(--fill-color);\n",
              "      border-top-color: var(--fill-color);\n",
              "    }\n",
              "    60% {\n",
              "      border-color: transparent;\n",
              "      border-right-color: var(--fill-color);\n",
              "    }\n",
              "    80% {\n",
              "      border-color: transparent;\n",
              "      border-right-color: var(--fill-color);\n",
              "      border-bottom-color: var(--fill-color);\n",
              "    }\n",
              "    90% {\n",
              "      border-color: transparent;\n",
              "      border-bottom-color: var(--fill-color);\n",
              "    }\n",
              "  }\n",
              "</style>\n",
              "\n",
              "  <script>\n",
              "    async function quickchart(key) {\n",
              "      const quickchartButtonEl =\n",
              "        document.querySelector('#' + key + ' button');\n",
              "      quickchartButtonEl.disabled = true;  // To prevent multiple clicks.\n",
              "      quickchartButtonEl.classList.add('colab-df-spinner');\n",
              "      try {\n",
              "        const charts = await google.colab.kernel.invokeFunction(\n",
              "            'suggestCharts', [key], {});\n",
              "      } catch (error) {\n",
              "        console.error('Error during call to suggestCharts:', error);\n",
              "      }\n",
              "      quickchartButtonEl.classList.remove('colab-df-spinner');\n",
              "      quickchartButtonEl.classList.add('colab-df-quickchart-complete');\n",
              "    }\n",
              "    (() => {\n",
              "      let quickchartButtonEl =\n",
              "        document.querySelector('#df-75859ed6-48c9-4b0b-8cce-f53266ffac6a button');\n",
              "      quickchartButtonEl.style.display =\n",
              "        google.colab.kernel.accessAllowed ? 'block' : 'none';\n",
              "    })();\n",
              "  </script>\n",
              "</div>\n",
              "\n",
              "    </div>\n",
              "  </div>\n"
            ],
            "application/vnd.google.colaboratory.intrinsic+json": {
              "type": "dataframe",
              "variable_name": "X_train_combo",
              "summary": "{\n  \"name\": \"X_train_combo\",\n  \"rows\": 334,\n  \"fields\": [\n    {\n      \"column\": \"cleaned_text\",\n      \"properties\": {\n        \"dtype\": \"string\",\n        \"num_unique_values\": 328,\n        \"samples\": [\n          \"problem\",\n          \"sms auction brand new nokia 7250 4 auction today auction free 2 join txt nokia 86021\",\n          \"tonight mate catch sleep new number way\"\n        ],\n        \"semantic_type\": \"\",\n        \"description\": \"\"\n      }\n    },\n    {\n      \"column\": \"count_words\",\n      \"properties\": {\n        \"dtype\": \"number\",\n        \"std\": 9.910253896544257,\n        \"min\": 1.0,\n        \"max\": 59.0,\n        \"num_unique_values\": 44,\n        \"samples\": [\n          34.0,\n          5.0,\n          20.0\n        ],\n        \"semantic_type\": \"\",\n        \"description\": \"\"\n      }\n    },\n    {\n      \"column\": \"count_characters\",\n      \"properties\": {\n        \"dtype\": \"number\",\n        \"std\": 49.91408498562112,\n        \"min\": 2.0,\n        \"max\": 276.0,\n        \"num_unique_values\": 136,\n        \"samples\": [\n          88.0,\n          79.0,\n          201.0\n        ],\n        \"semantic_type\": \"\",\n        \"description\": \"\"\n      }\n    },\n    {\n      \"column\": \"count_characters_no_space\",\n      \"properties\": {\n        \"dtype\": \"number\",\n        \"std\": 40.44518551811166,\n        \"min\": 2.0,\n        \"max\": 220.0,\n        \"num_unique_values\": 121,\n        \"samples\": [\n          112.0,\n          7.0,\n          97.0\n        ],\n        \"semantic_type\": \"\",\n        \"description\": \"\"\n      }\n    },\n    {\n      \"column\": \"avg_word_length\",\n      \"properties\": {\n        \"dtype\": \"number\",\n        \"std\": 0.7401222015299257,\n        \"min\": 1.0,\n        \"max\": 6.666666666666667,\n        \"num_unique_values\": 202,\n        \"samples\": [\n          4.4,\n          5.666666666666667,\n          3.8823529411764706\n        ],\n        \"semantic_type\": \"\",\n        \"description\": \"\"\n      }\n    },\n    {\n      \"column\": \"count_numbers\",\n      \"properties\": {\n        \"dtype\": \"number\",\n        \"std\": 0.7777463085468055,\n        \"min\": 0.0,\n        \"max\": 5.0,\n        \"num_unique_values\": 6,\n        \"samples\": [\n          0.0,\n          1.0,\n          5.0\n        ],\n        \"semantic_type\": \"\",\n        \"description\": \"\"\n      }\n    },\n    {\n      \"column\": \"count_sentences\",\n      \"properties\": {\n        \"dtype\": \"number\",\n        \"std\": 1.2145866497338704,\n        \"min\": 1.0,\n        \"max\": 10.0,\n        \"num_unique_values\": 8,\n        \"samples\": [\n          2.0,\n          5.0,\n          1.0\n        ],\n        \"semantic_type\": \"\",\n        \"description\": \"\"\n      }\n    },\n    {\n      \"column\": \"noun_count\",\n      \"properties\": {\n        \"dtype\": \"number\",\n        \"std\": 3.6856238745024408,\n        \"min\": 0.0,\n        \"max\": 21.0,\n        \"num_unique_values\": 20,\n        \"samples\": [\n          1.0,\n          17.0,\n          16.0\n        ],\n        \"semantic_type\": \"\",\n        \"description\": \"\"\n      }\n    },\n    {\n      \"column\": \"aux_count\",\n      \"properties\": {\n        \"dtype\": \"number\",\n        \"std\": 1.1610988527060633,\n        \"min\": 0.0,\n        \"max\": 7.0,\n        \"num_unique_values\": 7,\n        \"samples\": [\n          1.0,\n          2.0,\n          7.0\n        ],\n        \"semantic_type\": \"\",\n        \"description\": \"\"\n      }\n    },\n    {\n      \"column\": \"verb_count\",\n      \"properties\": {\n        \"dtype\": \"number\",\n        \"std\": 1.9941044356814908,\n        \"min\": 0.0,\n        \"max\": 16.0,\n        \"num_unique_values\": 11,\n        \"samples\": [\n          2.0,\n          0.0,\n          16.0\n        ],\n        \"semantic_type\": \"\",\n        \"description\": \"\"\n      }\n    },\n    {\n      \"column\": \"adj_count\",\n      \"properties\": {\n        \"dtype\": \"number\",\n        \"std\": 1.1494561292653498,\n        \"min\": 0.0,\n        \"max\": 8.0,\n        \"num_unique_values\": 8,\n        \"samples\": [\n          1.0,\n          8.0,\n          0.0\n        ],\n        \"semantic_type\": \"\",\n        \"description\": \"\"\n      }\n    },\n    {\n      \"column\": \"ner\",\n      \"properties\": {\n        \"dtype\": \"number\",\n        \"std\": 1.3344926717859233,\n        \"min\": 0.0,\n        \"max\": 7.0,\n        \"num_unique_values\": 8,\n        \"samples\": [\n          2.0,\n          5.0,\n          1.0\n        ],\n        \"semantic_type\": \"\",\n        \"description\": \"\"\n      }\n    },\n    {\n      \"column\": \"misspelled_count\",\n      \"properties\": {\n        \"dtype\": \"number\",\n        \"std\": 2.7974757873770066,\n        \"min\": 0.0,\n        \"max\": 17.0,\n        \"num_unique_values\": 16,\n        \"samples\": [\n          1.0,\n          2.0,\n          5.0\n        ],\n        \"semantic_type\": \"\",\n        \"description\": \"\"\n      }\n    }\n  ]\n}"
            }
          },
          "metadata": {},
          "execution_count": 48
        }
      ]
    },
    {
      "cell_type": "code",
      "source": [
        "X_train_combo.info()"
      ],
      "metadata": {
        "colab": {
          "base_uri": "https://localhost:8080/"
        },
        "id": "Eu6JryZBmeEX",
        "outputId": "6efdf52d-23ec-489c-a9ca-20f8d3b7c966"
      },
      "execution_count": 53,
      "outputs": [
        {
          "output_type": "stream",
          "name": "stdout",
          "text": [
            "<class 'pandas.core.frame.DataFrame'>\n",
            "RangeIndex: 334 entries, 0 to 333\n",
            "Data columns (total 13 columns):\n",
            " #   Column                     Non-Null Count  Dtype  \n",
            "---  ------                     --------------  -----  \n",
            " 0   cleaned_text               334 non-null    object \n",
            " 1   count_words                334 non-null    float64\n",
            " 2   count_characters           334 non-null    float64\n",
            " 3   count_characters_no_space  334 non-null    float64\n",
            " 4   avg_word_length            334 non-null    float64\n",
            " 5   count_numbers              334 non-null    float64\n",
            " 6   count_sentences            334 non-null    float64\n",
            " 7   noun_count                 334 non-null    float64\n",
            " 8   aux_count                  334 non-null    float64\n",
            " 9   verb_count                 334 non-null    float64\n",
            " 10  adj_count                  334 non-null    float64\n",
            " 11  ner                        334 non-null    float64\n",
            " 12  misspelled_count           334 non-null    float64\n",
            "dtypes: float64(12), object(1)\n",
            "memory usage: 34.0+ KB\n"
          ]
        }
      ]
    },
    {
      "cell_type": "markdown",
      "source": [
        "<font color ='Pickle'>**The cleaned text column will have tfidf vectorization ran on it and the rest will be in sparse matrix format.**"
      ],
      "metadata": {
        "id": "OZ7gdPZ5pY48"
      }
    },
    {
      "cell_type": "code",
      "source": [
        "# Defining the sparse transformer class\n",
        "class SparseTransformer(BaseEstimator, TransformerMixin):\n",
        "    def __init__(self): #initializes the function\n",
        "      pass\n",
        "\n",
        "    def fit(self,X,y = None): #fits and returns the input\n",
        "      return self\n",
        "\n",
        "    def transform(self, X, y = None): #transforms the input to sparse format\n",
        "      return csr_matrix(X) # .toarray for Dense"
      ],
      "metadata": {
        "id": "4ox7bVTjpWW8"
      },
      "execution_count": 54,
      "outputs": []
    },
    {
      "cell_type": "code",
      "source": [
        "# creating the sparse pipeline and the tfidf pipeline\n",
        "sparse_features = Pipeline([('sparse',SparseTransformer()),])\n",
        "\n",
        "vectorizer = Pipeline([('tfidf',TfidfVectorizer(min_df = 2,\n",
        "                                   max_df = 100,\n",
        "                                   token_pattern =r\"\\b\\w[\\w@#.!?]*\\b\",\n",
        "                                   max_features = 1000,\n",
        "                                   ngram_range = (1,3), # Pulls in bigrams and trigrams for common phrasing such as 'You won a','Congratulations you win', etc.\n",
        "                                   stop_words = None, # Stop words can be helpful in classifying spam emails because of common phrases.\n",
        "                                   lowercase = False # Keeping both capitalized and uncapitalized versions of words.\n",
        "                                   )),])\n"
      ],
      "metadata": {
        "id": "8Eg50icbqgTk"
      },
      "execution_count": 55,
      "outputs": []
    },
    {
      "cell_type": "code",
      "source": [
        "ColumnTransformer??"
      ],
      "metadata": {
        "id": "AyF53PdskyUe"
      },
      "execution_count": 52,
      "outputs": []
    },
    {
      "cell_type": "code",
      "source": [
        "# creating the combined features transformer pipeline to be implemented in the last classifier\n",
        "combined_features = ColumnTransformer(\n",
        "      transformers = [\n",
        "          ('tfidf', vectorizer, 'cleaned_text'),],      # Calls the tfidf pipeline using vectorizer on the 'cleaned_text' column\n",
        "            remainder =sparse_features                 # Calls the sparse features pipeline on the remaining columns\n",
        ")"
      ],
      "metadata": {
        "id": "coCUtmy7rpVG"
      },
      "execution_count": 56,
      "outputs": []
    },
    {
      "cell_type": "markdown",
      "source": [
        "###<font color = 'Pickle'>**Last classifier pipelines:**"
      ],
      "metadata": {
        "id": "qIYWUDDCstU2"
      }
    },
    {
      "cell_type": "code",
      "source": [
        "classifier_3 = Pipeline([('combined_features', combined_features),\n",
        "                         ('classifier', XGBClassifier(enable_categorical = True, eval_metric = 'logloss')),])"
      ],
      "metadata": {
        "id": "gSkzWtDNsqsR"
      },
      "execution_count": 57,
      "outputs": []
    },
    {
      "cell_type": "code",
      "source": [
        "classifier_3.get_params().keys()"
      ],
      "metadata": {
        "colab": {
          "base_uri": "https://localhost:8080/"
        },
        "id": "G40knyRCteq8",
        "outputId": "2cd10d78-4e6d-408e-f6d4-b8b4ed0108a0"
      },
      "execution_count": 58,
      "outputs": [
        {
          "output_type": "execute_result",
          "data": {
            "text/plain": [
              "dict_keys(['memory', 'steps', 'verbose', 'combined_features', 'classifier', 'combined_features__n_jobs', 'combined_features__remainder__memory', 'combined_features__remainder__steps', 'combined_features__remainder__verbose', 'combined_features__remainder__sparse', 'combined_features__remainder', 'combined_features__sparse_threshold', 'combined_features__transformer_weights', 'combined_features__transformers', 'combined_features__verbose', 'combined_features__verbose_feature_names_out', 'combined_features__tfidf', 'combined_features__tfidf__memory', 'combined_features__tfidf__steps', 'combined_features__tfidf__verbose', 'combined_features__tfidf__tfidf', 'combined_features__tfidf__tfidf__analyzer', 'combined_features__tfidf__tfidf__binary', 'combined_features__tfidf__tfidf__decode_error', 'combined_features__tfidf__tfidf__dtype', 'combined_features__tfidf__tfidf__encoding', 'combined_features__tfidf__tfidf__input', 'combined_features__tfidf__tfidf__lowercase', 'combined_features__tfidf__tfidf__max_df', 'combined_features__tfidf__tfidf__max_features', 'combined_features__tfidf__tfidf__min_df', 'combined_features__tfidf__tfidf__ngram_range', 'combined_features__tfidf__tfidf__norm', 'combined_features__tfidf__tfidf__preprocessor', 'combined_features__tfidf__tfidf__smooth_idf', 'combined_features__tfidf__tfidf__stop_words', 'combined_features__tfidf__tfidf__strip_accents', 'combined_features__tfidf__tfidf__sublinear_tf', 'combined_features__tfidf__tfidf__token_pattern', 'combined_features__tfidf__tfidf__tokenizer', 'combined_features__tfidf__tfidf__use_idf', 'combined_features__tfidf__tfidf__vocabulary', 'classifier__objective', 'classifier__base_score', 'classifier__booster', 'classifier__callbacks', 'classifier__colsample_bylevel', 'classifier__colsample_bynode', 'classifier__colsample_bytree', 'classifier__device', 'classifier__early_stopping_rounds', 'classifier__enable_categorical', 'classifier__eval_metric', 'classifier__feature_types', 'classifier__gamma', 'classifier__grow_policy', 'classifier__importance_type', 'classifier__interaction_constraints', 'classifier__learning_rate', 'classifier__max_bin', 'classifier__max_cat_threshold', 'classifier__max_cat_to_onehot', 'classifier__max_delta_step', 'classifier__max_depth', 'classifier__max_leaves', 'classifier__min_child_weight', 'classifier__missing', 'classifier__monotone_constraints', 'classifier__multi_strategy', 'classifier__n_estimators', 'classifier__n_jobs', 'classifier__num_parallel_tree', 'classifier__random_state', 'classifier__reg_alpha', 'classifier__reg_lambda', 'classifier__sampling_method', 'classifier__scale_pos_weight', 'classifier__subsample', 'classifier__tree_method', 'classifier__validate_parameters', 'classifier__verbosity'])"
            ]
          },
          "metadata": {},
          "execution_count": 58
        }
      ]
    },
    {
      "cell_type": "markdown",
      "source": [
        "###<font color = 'Pickle'>**Hyperparameter Pipeline:**"
      ],
      "metadata": {
        "id": "jeicuslVttqY"
      }
    },
    {
      "cell_type": "code",
      "source": [
        "param_grid_classifier_3 = {\n",
        "    'combined_features__tfidf__tfidf__max_features': [300,500,700,1000], # Max features to test through\n",
        "    'classifier__n_estimators': [20,50,100], # Number of boosting rounds in XGB\n",
        "    'classifier__learning_rate': [0.01,0.1,0.2], # Learning rate for each boosting round\n",
        "    'classifier__max_depth': [3,5,7,9,11], # Maximum depth of trees (higher values make the model more complex)\n",
        "    'classifier__scale_pos_weight': [1,10,25,50,75,99,100,1000] # Class weight values to handle the class imbalance and some for exploration.\n",
        "}"
      ],
      "metadata": {
        "id": "B8qc-G22tjL8"
      },
      "execution_count": 59,
      "outputs": []
    },
    {
      "cell_type": "markdown",
      "source": [
        "###<font color = 'Pickle'>**Specifying RandomSearch:**"
      ],
      "metadata": {
        "id": "1Vo0edK-unr_"
      }
    },
    {
      "cell_type": "code",
      "source": [
        "cv_strategy = RepeatedStratifiedKFold(n_splits = 5,n_repeats = 1, random_state = 42)\n",
        "\n",
        "grid_classifier_3 = RandomizedSearchCV(\n",
        "    estimator = classifier_3,\n",
        "    param_distributions = param_grid_classifier_3,\n",
        "    cv = cv_strategy,\n",
        "    n_iter = 300,\n",
        "    scoring = 'f1_macro',\n",
        "    verbose = 2,\n",
        "    n_jobs = -1\n",
        ")\n",
        ""
      ],
      "metadata": {
        "id": "M1lHSQY2uiuF"
      },
      "execution_count": 61,
      "outputs": []
    },
    {
      "cell_type": "markdown",
      "source": [
        "###<font color = 'Pickle'>**Fitting the Model:**"
      ],
      "metadata": {
        "id": "hqSB7Pkivgk6"
      }
    },
    {
      "cell_type": "code",
      "source": [
        "grid_classifier_3.fit(X_train_combo,y_train_combo)"
      ],
      "metadata": {
        "colab": {
          "base_uri": "https://localhost:8080/",
          "height": 236
        },
        "id": "kHdS6LhGvJ9a",
        "outputId": "c4e4dbfb-4b74-4fc4-8a02-37553469d0a5"
      },
      "execution_count": 64,
      "outputs": [
        {
          "output_type": "stream",
          "name": "stdout",
          "text": [
            "Fitting 5 folds for each of 300 candidates, totalling 1500 fits\n"
          ]
        },
        {
          "output_type": "execute_result",
          "data": {
            "text/plain": [
              "RandomizedSearchCV(cv=RepeatedStratifiedKFold(n_repeats=1, n_splits=5, random_state=42),\n",
              "                   estimator=Pipeline(steps=[('combined_features',\n",
              "                                              ColumnTransformer(remainder=Pipeline(steps=[('sparse',\n",
              "                                                                                           SparseTransformer())]),\n",
              "                                                                transformers=[('tfidf',\n",
              "                                                                               Pipeline(steps=[('tfidf',\n",
              "                                                                                                TfidfVectorizer(lowercase=False,\n",
              "                                                                                                                max_df=100,\n",
              "                                                                                                                max_features=1000,\n",
              "                                                                                                                min_df=2,\n",
              "                                                                                                                ngram_range=(1,\n",
              "                                                                                                                             3),\n",
              "                                                                                                                toke...\n",
              "                                                            num_parallel_tree=None,\n",
              "                                                            random_state=None, ...))]),\n",
              "                   n_iter=300, n_jobs=-1,\n",
              "                   param_distributions={'classifier__learning_rate': [0.01, 0.1,\n",
              "                                                                      0.2],\n",
              "                                        'classifier__max_depth': [3, 5, 7, 9,\n",
              "                                                                  11],\n",
              "                                        'classifier__n_estimators': [20, 50,\n",
              "                                                                     100],\n",
              "                                        'classifier__scale_pos_weight': [1, 10,\n",
              "                                                                         25, 50,\n",
              "                                                                         75, 99,\n",
              "                                                                         100,\n",
              "                                                                         1000],\n",
              "                                        'combined_features__tfidf__tfidf__max_features': [300,\n",
              "                                                                                          500,\n",
              "                                                                                          700,\n",
              "                                                                                          1000]},\n",
              "                   scoring='f1_macro', verbose=2)"
            ],
            "text/html": [
              "<style>#sk-container-id-2 {color: black;}#sk-container-id-2 pre{padding: 0;}#sk-container-id-2 div.sk-toggleable {background-color: white;}#sk-container-id-2 label.sk-toggleable__label {cursor: pointer;display: block;width: 100%;margin-bottom: 0;padding: 0.3em;box-sizing: border-box;text-align: center;}#sk-container-id-2 label.sk-toggleable__label-arrow:before {content: \"▸\";float: left;margin-right: 0.25em;color: #696969;}#sk-container-id-2 label.sk-toggleable__label-arrow:hover:before {color: black;}#sk-container-id-2 div.sk-estimator:hover label.sk-toggleable__label-arrow:before {color: black;}#sk-container-id-2 div.sk-toggleable__content {max-height: 0;max-width: 0;overflow: hidden;text-align: left;background-color: #f0f8ff;}#sk-container-id-2 div.sk-toggleable__content pre {margin: 0.2em;color: black;border-radius: 0.25em;background-color: #f0f8ff;}#sk-container-id-2 input.sk-toggleable__control:checked~div.sk-toggleable__content {max-height: 200px;max-width: 100%;overflow: auto;}#sk-container-id-2 input.sk-toggleable__control:checked~label.sk-toggleable__label-arrow:before {content: \"▾\";}#sk-container-id-2 div.sk-estimator input.sk-toggleable__control:checked~label.sk-toggleable__label {background-color: #d4ebff;}#sk-container-id-2 div.sk-label input.sk-toggleable__control:checked~label.sk-toggleable__label {background-color: #d4ebff;}#sk-container-id-2 input.sk-hidden--visually {border: 0;clip: rect(1px 1px 1px 1px);clip: rect(1px, 1px, 1px, 1px);height: 1px;margin: -1px;overflow: hidden;padding: 0;position: absolute;width: 1px;}#sk-container-id-2 div.sk-estimator {font-family: monospace;background-color: #f0f8ff;border: 1px dotted black;border-radius: 0.25em;box-sizing: border-box;margin-bottom: 0.5em;}#sk-container-id-2 div.sk-estimator:hover {background-color: #d4ebff;}#sk-container-id-2 div.sk-parallel-item::after {content: \"\";width: 100%;border-bottom: 1px solid gray;flex-grow: 1;}#sk-container-id-2 div.sk-label:hover label.sk-toggleable__label {background-color: #d4ebff;}#sk-container-id-2 div.sk-serial::before {content: \"\";position: absolute;border-left: 1px solid gray;box-sizing: border-box;top: 0;bottom: 0;left: 50%;z-index: 0;}#sk-container-id-2 div.sk-serial {display: flex;flex-direction: column;align-items: center;background-color: white;padding-right: 0.2em;padding-left: 0.2em;position: relative;}#sk-container-id-2 div.sk-item {position: relative;z-index: 1;}#sk-container-id-2 div.sk-parallel {display: flex;align-items: stretch;justify-content: center;background-color: white;position: relative;}#sk-container-id-2 div.sk-item::before, #sk-container-id-2 div.sk-parallel-item::before {content: \"\";position: absolute;border-left: 1px solid gray;box-sizing: border-box;top: 0;bottom: 0;left: 50%;z-index: -1;}#sk-container-id-2 div.sk-parallel-item {display: flex;flex-direction: column;z-index: 1;position: relative;background-color: white;}#sk-container-id-2 div.sk-parallel-item:first-child::after {align-self: flex-end;width: 50%;}#sk-container-id-2 div.sk-parallel-item:last-child::after {align-self: flex-start;width: 50%;}#sk-container-id-2 div.sk-parallel-item:only-child::after {width: 0;}#sk-container-id-2 div.sk-dashed-wrapped {border: 1px dashed gray;margin: 0 0.4em 0.5em 0.4em;box-sizing: border-box;padding-bottom: 0.4em;background-color: white;}#sk-container-id-2 div.sk-label label {font-family: monospace;font-weight: bold;display: inline-block;line-height: 1.2em;}#sk-container-id-2 div.sk-label-container {text-align: center;}#sk-container-id-2 div.sk-container {/* jupyter's `normalize.less` sets `[hidden] { display: none; }` but bootstrap.min.css set `[hidden] { display: none !important; }` so we also need the `!important` here to be able to override the default hidden behavior on the sphinx rendered scikit-learn.org. See: https://github.com/scikit-learn/scikit-learn/issues/21755 */display: inline-block !important;position: relative;}#sk-container-id-2 div.sk-text-repr-fallback {display: none;}</style><div id=\"sk-container-id-2\" class=\"sk-top-container\"><div class=\"sk-text-repr-fallback\"><pre>RandomizedSearchCV(cv=RepeatedStratifiedKFold(n_repeats=1, n_splits=5, random_state=42),\n",
              "                   estimator=Pipeline(steps=[(&#x27;combined_features&#x27;,\n",
              "                                              ColumnTransformer(remainder=Pipeline(steps=[(&#x27;sparse&#x27;,\n",
              "                                                                                           SparseTransformer())]),\n",
              "                                                                transformers=[(&#x27;tfidf&#x27;,\n",
              "                                                                               Pipeline(steps=[(&#x27;tfidf&#x27;,\n",
              "                                                                                                TfidfVectorizer(lowercase=False,\n",
              "                                                                                                                max_df=100,\n",
              "                                                                                                                max_features=1000,\n",
              "                                                                                                                min_df=2,\n",
              "                                                                                                                ngram_range=(1,\n",
              "                                                                                                                             3),\n",
              "                                                                                                                toke...\n",
              "                                                            num_parallel_tree=None,\n",
              "                                                            random_state=None, ...))]),\n",
              "                   n_iter=300, n_jobs=-1,\n",
              "                   param_distributions={&#x27;classifier__learning_rate&#x27;: [0.01, 0.1,\n",
              "                                                                      0.2],\n",
              "                                        &#x27;classifier__max_depth&#x27;: [3, 5, 7, 9,\n",
              "                                                                  11],\n",
              "                                        &#x27;classifier__n_estimators&#x27;: [20, 50,\n",
              "                                                                     100],\n",
              "                                        &#x27;classifier__scale_pos_weight&#x27;: [1, 10,\n",
              "                                                                         25, 50,\n",
              "                                                                         75, 99,\n",
              "                                                                         100,\n",
              "                                                                         1000],\n",
              "                                        &#x27;combined_features__tfidf__tfidf__max_features&#x27;: [300,\n",
              "                                                                                          500,\n",
              "                                                                                          700,\n",
              "                                                                                          1000]},\n",
              "                   scoring=&#x27;f1_macro&#x27;, verbose=2)</pre><b>In a Jupyter environment, please rerun this cell to show the HTML representation or trust the notebook. <br />On GitHub, the HTML representation is unable to render, please try loading this page with nbviewer.org.</b></div><div class=\"sk-container\" hidden><div class=\"sk-item sk-dashed-wrapped\"><div class=\"sk-label-container\"><div class=\"sk-label sk-toggleable\"><input class=\"sk-toggleable__control sk-hidden--visually\" id=\"sk-estimator-id-4\" type=\"checkbox\" ><label for=\"sk-estimator-id-4\" class=\"sk-toggleable__label sk-toggleable__label-arrow\">RandomizedSearchCV</label><div class=\"sk-toggleable__content\"><pre>RandomizedSearchCV(cv=RepeatedStratifiedKFold(n_repeats=1, n_splits=5, random_state=42),\n",
              "                   estimator=Pipeline(steps=[(&#x27;combined_features&#x27;,\n",
              "                                              ColumnTransformer(remainder=Pipeline(steps=[(&#x27;sparse&#x27;,\n",
              "                                                                                           SparseTransformer())]),\n",
              "                                                                transformers=[(&#x27;tfidf&#x27;,\n",
              "                                                                               Pipeline(steps=[(&#x27;tfidf&#x27;,\n",
              "                                                                                                TfidfVectorizer(lowercase=False,\n",
              "                                                                                                                max_df=100,\n",
              "                                                                                                                max_features=1000,\n",
              "                                                                                                                min_df=2,\n",
              "                                                                                                                ngram_range=(1,\n",
              "                                                                                                                             3),\n",
              "                                                                                                                toke...\n",
              "                                                            num_parallel_tree=None,\n",
              "                                                            random_state=None, ...))]),\n",
              "                   n_iter=300, n_jobs=-1,\n",
              "                   param_distributions={&#x27;classifier__learning_rate&#x27;: [0.01, 0.1,\n",
              "                                                                      0.2],\n",
              "                                        &#x27;classifier__max_depth&#x27;: [3, 5, 7, 9,\n",
              "                                                                  11],\n",
              "                                        &#x27;classifier__n_estimators&#x27;: [20, 50,\n",
              "                                                                     100],\n",
              "                                        &#x27;classifier__scale_pos_weight&#x27;: [1, 10,\n",
              "                                                                         25, 50,\n",
              "                                                                         75, 99,\n",
              "                                                                         100,\n",
              "                                                                         1000],\n",
              "                                        &#x27;combined_features__tfidf__tfidf__max_features&#x27;: [300,\n",
              "                                                                                          500,\n",
              "                                                                                          700,\n",
              "                                                                                          1000]},\n",
              "                   scoring=&#x27;f1_macro&#x27;, verbose=2)</pre></div></div></div><div class=\"sk-parallel\"><div class=\"sk-parallel-item\"><div class=\"sk-item\"><div class=\"sk-label-container\"><div class=\"sk-label sk-toggleable\"><input class=\"sk-toggleable__control sk-hidden--visually\" id=\"sk-estimator-id-5\" type=\"checkbox\" ><label for=\"sk-estimator-id-5\" class=\"sk-toggleable__label sk-toggleable__label-arrow\">estimator: Pipeline</label><div class=\"sk-toggleable__content\"><pre>Pipeline(steps=[(&#x27;combined_features&#x27;,\n",
              "                 ColumnTransformer(remainder=Pipeline(steps=[(&#x27;sparse&#x27;,\n",
              "                                                              SparseTransformer())]),\n",
              "                                   transformers=[(&#x27;tfidf&#x27;,\n",
              "                                                  Pipeline(steps=[(&#x27;tfidf&#x27;,\n",
              "                                                                   TfidfVectorizer(lowercase=False,\n",
              "                                                                                   max_df=100,\n",
              "                                                                                   max_features=1000,\n",
              "                                                                                   min_df=2,\n",
              "                                                                                   ngram_range=(1,\n",
              "                                                                                                3),\n",
              "                                                                                   token_pattern=&#x27;\\\\b\\\\w[\\\\w@#.!?]*\\\\b&#x27;))]),\n",
              "                                                  &#x27;cleaned_text&#x27;)])),\n",
              "                (&#x27;classifier&#x27;,\n",
              "                 XGBClassifier(base_score=N...\n",
              "                               feature_types=None, gamma=None, grow_policy=None,\n",
              "                               importance_type=None,\n",
              "                               interaction_constraints=None, learning_rate=None,\n",
              "                               max_bin=None, max_cat_threshold=None,\n",
              "                               max_cat_to_onehot=None, max_delta_step=None,\n",
              "                               max_depth=None, max_leaves=None,\n",
              "                               min_child_weight=None, missing=nan,\n",
              "                               monotone_constraints=None, multi_strategy=None,\n",
              "                               n_estimators=None, n_jobs=None,\n",
              "                               num_parallel_tree=None, random_state=None, ...))])</pre></div></div></div><div class=\"sk-serial\"><div class=\"sk-item\"><div class=\"sk-serial\"><div class=\"sk-item sk-dashed-wrapped\"><div class=\"sk-label-container\"><div class=\"sk-label sk-toggleable\"><input class=\"sk-toggleable__control sk-hidden--visually\" id=\"sk-estimator-id-6\" type=\"checkbox\" ><label for=\"sk-estimator-id-6\" class=\"sk-toggleable__label sk-toggleable__label-arrow\">combined_features: ColumnTransformer</label><div class=\"sk-toggleable__content\"><pre>ColumnTransformer(remainder=Pipeline(steps=[(&#x27;sparse&#x27;, SparseTransformer())]),\n",
              "                  transformers=[(&#x27;tfidf&#x27;,\n",
              "                                 Pipeline(steps=[(&#x27;tfidf&#x27;,\n",
              "                                                  TfidfVectorizer(lowercase=False,\n",
              "                                                                  max_df=100,\n",
              "                                                                  max_features=1000,\n",
              "                                                                  min_df=2,\n",
              "                                                                  ngram_range=(1,\n",
              "                                                                               3),\n",
              "                                                                  token_pattern=&#x27;\\\\b\\\\w[\\\\w@#.!?]*\\\\b&#x27;))]),\n",
              "                                 &#x27;cleaned_text&#x27;)])</pre></div></div></div><div class=\"sk-parallel\"><div class=\"sk-parallel-item\"><div class=\"sk-item\"><div class=\"sk-label-container\"><div class=\"sk-label sk-toggleable\"><input class=\"sk-toggleable__control sk-hidden--visually\" id=\"sk-estimator-id-7\" type=\"checkbox\" ><label for=\"sk-estimator-id-7\" class=\"sk-toggleable__label sk-toggleable__label-arrow\">tfidf</label><div class=\"sk-toggleable__content\"><pre>cleaned_text</pre></div></div></div><div class=\"sk-serial\"><div class=\"sk-item\"><div class=\"sk-serial\"><div class=\"sk-item\"><div class=\"sk-estimator sk-toggleable\"><input class=\"sk-toggleable__control sk-hidden--visually\" id=\"sk-estimator-id-8\" type=\"checkbox\" ><label for=\"sk-estimator-id-8\" class=\"sk-toggleable__label sk-toggleable__label-arrow\">TfidfVectorizer</label><div class=\"sk-toggleable__content\"><pre>TfidfVectorizer(lowercase=False, max_df=100, max_features=1000, min_df=2,\n",
              "                ngram_range=(1, 3), token_pattern=&#x27;\\\\b\\\\w[\\\\w@#.!?]*\\\\b&#x27;)</pre></div></div></div></div></div></div></div></div><div class=\"sk-parallel-item\"><div class=\"sk-item\"><div class=\"sk-label-container\"><div class=\"sk-label sk-toggleable\"><input class=\"sk-toggleable__control sk-hidden--visually\" id=\"sk-estimator-id-9\" type=\"checkbox\" ><label for=\"sk-estimator-id-9\" class=\"sk-toggleable__label sk-toggleable__label-arrow\">remainder</label><div class=\"sk-toggleable__content\"><pre></pre></div></div></div><div class=\"sk-serial\"><div class=\"sk-item\"><div class=\"sk-serial\"><div class=\"sk-item\"><div class=\"sk-estimator sk-toggleable\"><input class=\"sk-toggleable__control sk-hidden--visually\" id=\"sk-estimator-id-10\" type=\"checkbox\" ><label for=\"sk-estimator-id-10\" class=\"sk-toggleable__label sk-toggleable__label-arrow\">SparseTransformer</label><div class=\"sk-toggleable__content\"><pre>SparseTransformer()</pre></div></div></div></div></div></div></div></div></div></div><div class=\"sk-item\"><div class=\"sk-estimator sk-toggleable\"><input class=\"sk-toggleable__control sk-hidden--visually\" id=\"sk-estimator-id-11\" type=\"checkbox\" ><label for=\"sk-estimator-id-11\" class=\"sk-toggleable__label sk-toggleable__label-arrow\">XGBClassifier</label><div class=\"sk-toggleable__content\"><pre>XGBClassifier(base_score=None, booster=None, callbacks=None,\n",
              "              colsample_bylevel=None, colsample_bynode=None,\n",
              "              colsample_bytree=None, device=None, early_stopping_rounds=None,\n",
              "              enable_categorical=True, eval_metric=&#x27;logloss&#x27;,\n",
              "              feature_types=None, gamma=None, grow_policy=None,\n",
              "              importance_type=None, interaction_constraints=None,\n",
              "              learning_rate=None, max_bin=None, max_cat_threshold=None,\n",
              "              max_cat_to_onehot=None, max_delta_step=None, max_depth=None,\n",
              "              max_leaves=None, min_child_weight=None, missing=nan,\n",
              "              monotone_constraints=None, multi_strategy=None, n_estimators=None,\n",
              "              n_jobs=None, num_parallel_tree=None, random_state=None, ...)</pre></div></div></div></div></div></div></div></div></div></div></div></div>"
            ]
          },
          "metadata": {},
          "execution_count": 64
        }
      ]
    },
    {
      "cell_type": "code",
      "source": [],
      "metadata": {
        "id": "RzfDIRuPwC94"
      },
      "execution_count": null,
      "outputs": []
    }
  ]
}